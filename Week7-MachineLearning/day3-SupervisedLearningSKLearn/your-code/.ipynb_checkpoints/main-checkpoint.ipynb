{
 "cells": [
  {
   "cell_type": "markdown",
   "metadata": {},
   "source": [
    "# Before your start:\n",
    "- Read the README.md file\n",
    "- Comment as much as you can and use the resources in the README.md file\n",
    "- Happy learning!"
   ]
  },
  {
   "cell_type": "code",
   "execution_count": 1,
   "metadata": {},
   "outputs": [],
   "source": [
    "import numpy as np\n",
    "import pandas as pd"
   ]
  },
  {
   "cell_type": "markdown",
   "metadata": {},
   "source": [
    "# Challenge 1 - Explore the Scikit-Learn Datasets\n",
    "\n",
    "Before starting to work on our own datasets, let's first explore the datasets that are included in this Python library. These datasets have been cleaned and formatted for use in ML algorithms."
   ]
  },
  {
   "cell_type": "markdown",
   "metadata": {},
   "source": [
    "First, we will load the diabetes dataset. Do this in the cell below by importing the datasets and then loading the dataset  to the `diabetes` variable using the `load_diabetes()` function ([documentation](https://scikit-learn.org/stable/modules/generated/sklearn.datasets.load_diabetes.html))."
   ]
  },
  {
   "cell_type": "code",
   "execution_count": 2,
   "metadata": {},
   "outputs": [],
   "source": [
    "from sklearn.datasets import load_diabetes\n",
    "diabetes = load_diabetes()"
   ]
  },
  {
   "cell_type": "markdown",
   "metadata": {},
   "source": [
    "Let's explore this variable by looking at the different attributes (keys) of `diabetes`. Note that the `load_diabetes` function does not return dataframes. It returns you a Python dictionary."
   ]
  },
  {
   "cell_type": "code",
   "execution_count": 3,
   "metadata": {},
   "outputs": [
    {
     "data": {
      "text/plain": [
       "dict_keys(['data', 'target', 'frame', 'DESCR', 'feature_names', 'data_filename', 'target_filename'])"
      ]
     },
     "execution_count": 3,
     "metadata": {},
     "output_type": "execute_result"
    }
   ],
   "source": [
    "diabetes.keys()"
   ]
  },
  {
   "cell_type": "markdown",
   "metadata": {},
   "source": [
    "#### The next step is to read the description of the dataset. \n",
    "\n",
    "Print the description in the cell below using the `DESCR` attribute of the `diabetes` variable. Read the data description carefully to fully understand what each column represents.\n",
    "\n",
    "*Hint: If your output is ill-formatted by displaying linebreaks as `\\n`, it means you are not using the `print` function.*"
   ]
  },
  {
   "cell_type": "code",
   "execution_count": 4,
   "metadata": {
    "scrolled": false
   },
   "outputs": [
    {
     "data": {
      "text/plain": [
       "'.. _diabetes_dataset:\\n\\nDiabetes dataset\\n----------------\\n\\nTen baseline variables, age, sex, body mass index, average blood\\npressure, and six blood serum measurements were obtained for each of n =\\n442 diabetes patients, as well as the response of interest, a\\nquantitative measure of disease progression one year after baseline.\\n\\n**Data Set Characteristics:**\\n\\n  :Number of Instances: 442\\n\\n  :Number of Attributes: First 10 columns are numeric predictive values\\n\\n  :Target: Column 11 is a quantitative measure of disease progression one year after baseline\\n\\n  :Attribute Information:\\n      - age     age in years\\n      - sex\\n      - bmi     body mass index\\n      - bp      average blood pressure\\n      - s1      tc, T-Cells (a type of white blood cells)\\n      - s2      ldl, low-density lipoproteins\\n      - s3      hdl, high-density lipoproteins\\n      - s4      tch, thyroid stimulating hormone\\n      - s5      ltg, lamotrigine\\n      - s6      glu, blood sugar level\\n\\nNote: Each of these 10 feature variables have been mean centered and scaled by the standard deviation times `n_samples` (i.e. the sum of squares of each column totals 1).\\n\\nSource URL:\\nhttps://www4.stat.ncsu.edu/~boos/var.select/diabetes.html\\n\\nFor more information see:\\nBradley Efron, Trevor Hastie, Iain Johnstone and Robert Tibshirani (2004) \"Least Angle Regression,\" Annals of Statistics (with discussion), 407-499.\\n(https://web.stanford.edu/~hastie/Papers/LARS/LeastAngle_2002.pdf)'"
      ]
     },
     "execution_count": 4,
     "metadata": {},
     "output_type": "execute_result"
    }
   ],
   "source": [
    "diabetes.DESCR"
   ]
  },
  {
   "cell_type": "markdown",
   "metadata": {},
   "source": [
    "#### Based on the data description, answer the following questions:\n",
    "\n",
    "1. How many attributes are there in the data? What do they mean?\n",
    "\n",
    "1. What is the relation between `diabetes['data']` and `diabetes['target']`?\n",
    "\n",
    "1. How many records are there in the data?"
   ]
  },
  {
   "cell_type": "code",
   "execution_count": 5,
   "metadata": {},
   "outputs": [
    {
     "data": {
      "text/plain": [
       "(442, 10)"
      ]
     },
     "execution_count": 5,
     "metadata": {},
     "output_type": "execute_result"
    }
   ],
   "source": [
    "# your answer here\n",
    "diabetes.data.shape"
   ]
  },
  {
   "cell_type": "markdown",
   "metadata": {},
   "source": [
    "#### Now explore what are contained in the *data* portion as well as the *target* portion of `diabetes`. \n",
    "\n",
    "Scikit-learn typically takes in 2D numpy arrays as input (though pandas dataframes are also accepted). Inspect the shape of `data` and `target`. Confirm they are consistent with the data description."
   ]
  },
  {
   "cell_type": "code",
   "execution_count": 6,
   "metadata": {},
   "outputs": [
    {
     "name": "stdout",
     "output_type": "stream",
     "text": [
      "[[ 0.03807591  0.05068012  0.06169621 ... -0.00259226  0.01990842\n",
      "  -0.01764613]\n",
      " [-0.00188202 -0.04464164 -0.05147406 ... -0.03949338 -0.06832974\n",
      "  -0.09220405]\n",
      " [ 0.08529891  0.05068012  0.04445121 ... -0.00259226  0.00286377\n",
      "  -0.02593034]\n",
      " ...\n",
      " [ 0.04170844  0.05068012 -0.01590626 ... -0.01107952 -0.04687948\n",
      "   0.01549073]\n",
      " [-0.04547248 -0.04464164  0.03906215 ...  0.02655962  0.04452837\n",
      "  -0.02593034]\n",
      " [-0.04547248 -0.04464164 -0.0730303  ... -0.03949338 -0.00421986\n",
      "   0.00306441]]\n",
      "[151.  75. 141. 206. 135.  97. 138.  63. 110. 310. 101.  69. 179. 185.\n",
      " 118. 171. 166. 144.  97. 168.  68.  49.  68. 245. 184. 202. 137.  85.\n",
      " 131. 283. 129.  59. 341.  87.  65. 102. 265. 276. 252.  90. 100.  55.\n",
      "  61.  92. 259.  53. 190. 142.  75. 142. 155. 225.  59. 104. 182. 128.\n",
      "  52.  37. 170. 170.  61. 144.  52. 128.  71. 163. 150.  97. 160. 178.\n",
      "  48. 270. 202. 111.  85.  42. 170. 200. 252. 113. 143.  51.  52. 210.\n",
      "  65. 141.  55. 134.  42. 111.  98. 164.  48.  96.  90. 162. 150. 279.\n",
      "  92.  83. 128. 102. 302. 198.  95.  53. 134. 144. 232.  81. 104.  59.\n",
      " 246. 297. 258. 229. 275. 281. 179. 200. 200. 173. 180.  84. 121. 161.\n",
      "  99. 109. 115. 268. 274. 158. 107.  83. 103. 272.  85. 280. 336. 281.\n",
      " 118. 317. 235.  60. 174. 259. 178. 128.  96. 126. 288.  88. 292.  71.\n",
      " 197. 186.  25.  84.  96. 195.  53. 217. 172. 131. 214.  59.  70. 220.\n",
      " 268. 152.  47.  74. 295. 101. 151. 127. 237. 225.  81. 151. 107.  64.\n",
      " 138. 185. 265. 101. 137. 143. 141.  79. 292. 178.  91. 116.  86. 122.\n",
      "  72. 129. 142.  90. 158.  39. 196. 222. 277.  99. 196. 202. 155.  77.\n",
      " 191.  70.  73.  49.  65. 263. 248. 296. 214. 185.  78.  93. 252. 150.\n",
      "  77. 208.  77. 108. 160.  53. 220. 154. 259.  90. 246. 124.  67.  72.\n",
      " 257. 262. 275. 177.  71.  47. 187. 125.  78.  51. 258. 215. 303. 243.\n",
      "  91. 150. 310. 153. 346.  63.  89.  50.  39. 103. 308. 116. 145.  74.\n",
      "  45. 115. 264.  87. 202. 127. 182. 241.  66.  94. 283.  64. 102. 200.\n",
      " 265.  94. 230. 181. 156. 233.  60. 219.  80.  68. 332. 248.  84. 200.\n",
      "  55.  85.  89.  31. 129.  83. 275.  65. 198. 236. 253. 124.  44. 172.\n",
      " 114. 142. 109. 180. 144. 163. 147.  97. 220. 190. 109. 191. 122. 230.\n",
      " 242. 248. 249. 192. 131. 237.  78. 135. 244. 199. 270. 164.  72.  96.\n",
      " 306.  91. 214.  95. 216. 263. 178. 113. 200. 139. 139.  88. 148.  88.\n",
      " 243.  71.  77. 109. 272.  60.  54. 221.  90. 311. 281. 182. 321.  58.\n",
      " 262. 206. 233. 242. 123. 167.  63. 197.  71. 168. 140. 217. 121. 235.\n",
      " 245.  40.  52. 104. 132.  88.  69. 219.  72. 201. 110.  51. 277.  63.\n",
      " 118.  69. 273. 258.  43. 198. 242. 232. 175.  93. 168. 275. 293. 281.\n",
      "  72. 140. 189. 181. 209. 136. 261. 113. 131. 174. 257.  55.  84.  42.\n",
      " 146. 212. 233.  91. 111. 152. 120.  67. 310.  94. 183.  66. 173.  72.\n",
      "  49.  64.  48. 178. 104. 132. 220.  57.]\n"
     ]
    },
    {
     "data": {
      "text/plain": [
       "(442, 10)"
      ]
     },
     "execution_count": 6,
     "metadata": {},
     "output_type": "execute_result"
    }
   ],
   "source": [
    "print(diabetes['data'])\n",
    "print(diabetes['target'])\n",
    "diabetes['data'].shape"
   ]
  },
  {
   "cell_type": "markdown",
   "metadata": {},
   "source": [
    "# Challenge 2 - Perform Supervised Learning on the Dataset"
   ]
  },
  {
   "cell_type": "markdown",
   "metadata": {},
   "source": [
    "The data have already been split to predictor (*data*) and response (*target*) variables. Given this information, we'll apply what we have previously learned about linear regression and apply the algorithm to the diabetes dataset.\n",
    "\n",
    "#### Let's briefly revisit the linear regression formula:\n",
    "\n",
    "\n",
    "$y = \\beta_0 + \\beta_1·X_1 + \\beta_2·X_2 + ... + \\beta_n·X_n + \\epsilon$\n",
    "\n",
    "\n",
    "where:\n",
    "\n",
    "- $X_1-X_n$: data \n",
    "- $\\beta_0$: intercept \n",
    "- $\\beta_1-\\beta_n$: coefficients \n",
    "- $\\epsilon$: error (cannot explained by model)\n",
    "- $y$: target\n",
    "\n",
    "Also take a look at the `sklearn.linear_model.LinearRegression` [documentation](https://scikit-learn.org/stable/modules/generated/sklearn.linear_model.LinearRegression.html).\n",
    "\n",
    "#### In the cell below, import the `linear_model` class from `sklearn`. "
   ]
  },
  {
   "cell_type": "code",
   "execution_count": 7,
   "metadata": {},
   "outputs": [],
   "source": [
    "from sklearn import linear_model"
   ]
  },
  {
   "cell_type": "markdown",
   "metadata": {},
   "source": [
    "#### Create a new instance of the linear regression model and assign the new instance to the variable `diabetes_model`."
   ]
  },
  {
   "cell_type": "code",
   "execution_count": 8,
   "metadata": {},
   "outputs": [],
   "source": [
    "# Create linear regression object\n",
    "diabetes_model = linear_model.LinearRegression()"
   ]
  },
  {
   "cell_type": "markdown",
   "metadata": {},
   "source": [
    "#### Next, let's split the training and test data.\n",
    "\n",
    "Define `diabetes_data_train`, `diabetes_target_train`, `diabetes_data_test`, and `diabetes_target_test`. Use the last 20 records for the test data and the rest for the training data."
   ]
  },
  {
   "cell_type": "code",
   "execution_count": 9,
   "metadata": {},
   "outputs": [],
   "source": [
    "from sklearn.model_selection import train_test_split\n",
    "diabetes_data_train, diabetes_data_test, diabetes_target_train, diabetes_target_test = train_test_split(diabetes['data'], diabetes['target'], test_size=0.2, random_state=123)"
   ]
  },
  {
   "cell_type": "markdown",
   "metadata": {},
   "source": [
    "Fit the training data and target to `diabetes_model`. Print the *intercept* and *coefficients* of the model."
   ]
  },
  {
   "cell_type": "code",
   "execution_count": 10,
   "metadata": {},
   "outputs": [
    {
     "data": {
      "text/plain": [
       "LinearRegression()"
      ]
     },
     "execution_count": 10,
     "metadata": {},
     "output_type": "execute_result"
    }
   ],
   "source": [
    "diabetes_model.fit(diabetes_data_train, diabetes_target_train)"
   ]
  },
  {
   "cell_type": "code",
   "execution_count": 11,
   "metadata": {},
   "outputs": [
    {
     "name": "stdout",
     "output_type": "stream",
     "text": [
      "152.04835896282478\n",
      "[  -6.18519432 -225.23708873  505.19590913  295.61841278 -826.04604876\n",
      "  466.90764262  130.73805248  252.95274096  691.08217315  111.20430059]\n"
     ]
    }
   ],
   "source": [
    "print(diabetes_model.intercept_)\n",
    "print(diabetes_model.coef_)"
   ]
  },
  {
   "cell_type": "markdown",
   "metadata": {},
   "source": [
    "#### Inspecting the results\n",
    "\n",
    "From the outputs you should have seen:\n",
    "\n",
    "- The intercept is a float number.\n",
    "- The coefficients are an array containing 10 float numbers.\n",
    "\n",
    "This is the linear regression model fitted to your training dataset.\n",
    "\n",
    "#### Using your fitted linear regression model, predict the *y* of `diabetes_data_test`."
   ]
  },
  {
   "cell_type": "code",
   "execution_count": 12,
   "metadata": {},
   "outputs": [],
   "source": [
    "predictions = diabetes_model.predict(diabetes_data_test)"
   ]
  },
  {
   "cell_type": "markdown",
   "metadata": {},
   "source": [
    "#### Print your `diabetes_target_test` and compare with the prediction. "
   ]
  },
  {
   "cell_type": "code",
   "execution_count": 13,
   "metadata": {},
   "outputs": [
    {
     "data": {
      "text/plain": [
       "array([185., 150., 246., 184., 110., 202., 336.,  69.,  69.,  87.,  66.,\n",
       "       164., 265., 198., 248., 171., 102., 182., 262., 233., 151., 275.,\n",
       "       230.,  39.,  42., 122.,  81.,  31., 156., 161.,  80., 215., 310.,\n",
       "       163., 265.,  84.,  54., 137., 248.,  72., 248.,  59.,  97.,  61.,\n",
       "        72., 296.,  55.,  75.,  53., 173., 158.,  96., 140., 186.,  93.,\n",
       "       123., 237., 138., 292.,  78., 182., 127., 321., 109., 212.,  45.,\n",
       "        96., 109.,  89.,  96.,  60.,  51., 200., 265.,  68.,  91., 172.,\n",
       "       115., 125.,  53.,  63., 259., 214., 195., 258., 235., 173.,  59.,\n",
       "       219.])"
      ]
     },
     "execution_count": 13,
     "metadata": {},
     "output_type": "execute_result"
    }
   ],
   "source": [
    "diabetes_target_test"
   ]
  },
  {
   "cell_type": "markdown",
   "metadata": {},
   "source": [
    "#### Is `diabetes_target_test` exactly the same as the model prediction? Explain."
   ]
  },
  {
   "cell_type": "code",
   "execution_count": 14,
   "metadata": {},
   "outputs": [
    {
     "data": {
      "text/plain": [
       "array([False, False, False, False, False, False, False, False, False,\n",
       "       False, False, False, False, False, False, False, False, False,\n",
       "       False, False, False, False, False, False, False, False, False,\n",
       "       False, False, False, False, False, False, False, False, False,\n",
       "       False, False, False, False, False, False, False, False, False,\n",
       "       False, False, False, False, False, False, False, False, False,\n",
       "       False, False, False, False, False, False, False, False, False,\n",
       "       False, False, False, False, False, False, False, False, False,\n",
       "       False, False, False, False, False, False, False, False, False,\n",
       "       False, False, False, False, False, False, False, False])"
      ]
     },
     "execution_count": 14,
     "metadata": {},
     "output_type": "execute_result"
    }
   ],
   "source": [
    "diabetes_target_test == predictions"
   ]
  },
  {
   "cell_type": "markdown",
   "metadata": {},
   "source": [
    "# Bonus Challenge 1 - Hypothesis Testing with `statsmodels`\n",
    "\n",
    "After generating the linear regression model from the dataset, you probably wonder: then what? What is the statistical way to know if my model is reliable or not?\n",
    "\n",
    "Good question. We'll discuss that using Scikit-Learn in Challenge 5. But for now, let's use a fool-proof way by using the ([Linear Regression class of StatsModels](https://www.statsmodels.org/dev/regression.html)) which can also conduct linear regression analysis plus much more such as calcuating the F-score of the linear model as well as the standard errors and t-scores for each coefficient. The F-score and t-scores will tell you whether you can trust your linear model.\n",
    "\n",
    "To understand the statistical meaning of conducting hypothesis testing (e.g. F-test, t-test) for slopes, read [this webpage](https://online.stat.psu.edu/stat501/lesson/6/6.4) at your leisure time. We'll give you a brief overview next.\n",
    "\n",
    "* The F-test of your linear model is to verify whether at least one of your coefficients is significantly different from zero. Translating that into the *null hypothesis* and *alternative hypothesis*, that is:\n",
    "\n",
    "    $H_0 : \\beta_1 = \\beta_2 = ... = \\beta_{10} = 0$\n",
    "\n",
    "    $H_a$ : At least one $\\beta_j \\ne 0$ (for j = 1, 2, ..., 10)\n",
    "    \n",
    "    \n",
    "* The t-tests on each coefficient is to check whether the confidence interval for the variable contains zero. If the confidence interval contains zero, it means the null hypothesis for that variable is not rejected. In other words, this particular vaiable is not contributing to your linear model and you can remove it from your formula.\n",
    "\n",
    "Read the documentations of [StatsModels Linear Regression](https://www.statsmodels.org/dev/regression.html) as well as its [`OLS` class](https://www.statsmodels.org/dev/generated/statsmodels.regression.linear_model.OLS.html) which stands for *ordinary least squares*.\n",
    "\n",
    "#### In the next cell, analyze `diabetes_data_train` and `diabetes_target_train` with the linear regression model of `statsmodels`. Print the fit summary.\n",
    "\n",
    "Your output should look like:\n",
    "\n",
    "<div style=\"text-align:center\"><img src=\"../images/statsmodels.png\" width=600/></div>"
   ]
  },
  {
   "cell_type": "code",
   "execution_count": 15,
   "metadata": {},
   "outputs": [],
   "source": [
    "# your code here"
   ]
  },
  {
   "cell_type": "markdown",
   "metadata": {},
   "source": [
    "#### Interpreting hypothesis testing results\n",
    "\n",
    "Answer the following questions in the cell below:\n",
    "\n",
    "1. What is the F-score of your linear model and is the null hypothesis rejected?\n",
    "\n",
    "1. Does any of the t-tests of the coefficients produce a confidence interval containing zero? What are they?\n",
    "\n",
    "1. How will you modify your linear reguression model according to the test results above?"
   ]
  },
  {
   "cell_type": "code",
   "execution_count": 16,
   "metadata": {},
   "outputs": [],
   "source": [
    "# your answer here"
   ]
  },
  {
   "cell_type": "markdown",
   "metadata": {},
   "source": [
    "# Challenge 3 - Peform Supervised Learning on a Pandas Dataframe"
   ]
  },
  {
   "cell_type": "markdown",
   "metadata": {},
   "source": [
    "Now that we have dealt with data that has been formatted for scikit-learn, let's look at data that we will need to format ourselves.\n",
    "\n",
    "In the next cell, load the `auto-mpg.csv` file included in this folder and assign it to a variable called `auto`."
   ]
  },
  {
   "cell_type": "code",
   "execution_count": 17,
   "metadata": {},
   "outputs": [],
   "source": [
    "auto = pd.read_csv('../data/auto-mpg.csv')"
   ]
  },
  {
   "cell_type": "markdown",
   "metadata": {},
   "source": [
    "Look at the first 5 rows using the `head()` function:"
   ]
  },
  {
   "cell_type": "code",
   "execution_count": 18,
   "metadata": {},
   "outputs": [
    {
     "data": {
      "text/html": [
       "<div>\n",
       "<style scoped>\n",
       "    .dataframe tbody tr th:only-of-type {\n",
       "        vertical-align: middle;\n",
       "    }\n",
       "\n",
       "    .dataframe tbody tr th {\n",
       "        vertical-align: top;\n",
       "    }\n",
       "\n",
       "    .dataframe thead th {\n",
       "        text-align: right;\n",
       "    }\n",
       "</style>\n",
       "<table border=\"1\" class=\"dataframe\">\n",
       "  <thead>\n",
       "    <tr style=\"text-align: right;\">\n",
       "      <th></th>\n",
       "      <th>mpg</th>\n",
       "      <th>cylinders</th>\n",
       "      <th>displacement</th>\n",
       "      <th>horse_power</th>\n",
       "      <th>weight</th>\n",
       "      <th>acceleration</th>\n",
       "      <th>model_year</th>\n",
       "      <th>car_name</th>\n",
       "    </tr>\n",
       "  </thead>\n",
       "  <tbody>\n",
       "    <tr>\n",
       "      <th>0</th>\n",
       "      <td>18.0</td>\n",
       "      <td>8</td>\n",
       "      <td>307.0</td>\n",
       "      <td>130.0</td>\n",
       "      <td>3504</td>\n",
       "      <td>12.0</td>\n",
       "      <td>70</td>\n",
       "      <td>\\t\"chevrolet chevelle malibu\"</td>\n",
       "    </tr>\n",
       "    <tr>\n",
       "      <th>1</th>\n",
       "      <td>15.0</td>\n",
       "      <td>8</td>\n",
       "      <td>350.0</td>\n",
       "      <td>165.0</td>\n",
       "      <td>3693</td>\n",
       "      <td>11.5</td>\n",
       "      <td>70</td>\n",
       "      <td>\\t\"buick skylark 320\"</td>\n",
       "    </tr>\n",
       "    <tr>\n",
       "      <th>2</th>\n",
       "      <td>18.0</td>\n",
       "      <td>8</td>\n",
       "      <td>318.0</td>\n",
       "      <td>150.0</td>\n",
       "      <td>3436</td>\n",
       "      <td>11.0</td>\n",
       "      <td>70</td>\n",
       "      <td>\\t\"plymouth satellite\"</td>\n",
       "    </tr>\n",
       "    <tr>\n",
       "      <th>3</th>\n",
       "      <td>16.0</td>\n",
       "      <td>8</td>\n",
       "      <td>304.0</td>\n",
       "      <td>150.0</td>\n",
       "      <td>3433</td>\n",
       "      <td>12.0</td>\n",
       "      <td>70</td>\n",
       "      <td>\\t\"amc rebel sst\"</td>\n",
       "    </tr>\n",
       "    <tr>\n",
       "      <th>4</th>\n",
       "      <td>17.0</td>\n",
       "      <td>8</td>\n",
       "      <td>302.0</td>\n",
       "      <td>140.0</td>\n",
       "      <td>3449</td>\n",
       "      <td>10.5</td>\n",
       "      <td>70</td>\n",
       "      <td>\\t\"ford torino\"</td>\n",
       "    </tr>\n",
       "  </tbody>\n",
       "</table>\n",
       "</div>"
      ],
      "text/plain": [
       "    mpg  cylinders  displacement  horse_power  weight  acceleration  \\\n",
       "0  18.0          8         307.0        130.0    3504          12.0   \n",
       "1  15.0          8         350.0        165.0    3693          11.5   \n",
       "2  18.0          8         318.0        150.0    3436          11.0   \n",
       "3  16.0          8         304.0        150.0    3433          12.0   \n",
       "4  17.0          8         302.0        140.0    3449          10.5   \n",
       "\n",
       "   model_year                       car_name  \n",
       "0          70  \\t\"chevrolet chevelle malibu\"  \n",
       "1          70          \\t\"buick skylark 320\"  \n",
       "2          70         \\t\"plymouth satellite\"  \n",
       "3          70              \\t\"amc rebel sst\"  \n",
       "4          70                \\t\"ford torino\"  "
      ]
     },
     "execution_count": 18,
     "metadata": {},
     "output_type": "execute_result"
    }
   ],
   "source": [
    "auto.head()"
   ]
  },
  {
   "cell_type": "markdown",
   "metadata": {},
   "source": [
    "Evaluate the data to ensure that all numeric columns are correctly detected as such by pandas. If a column is misclassified as object, coerce it to numeric."
   ]
  },
  {
   "cell_type": "code",
   "execution_count": 19,
   "metadata": {},
   "outputs": [
    {
     "data": {
      "text/plain": [
       "mpg             0\n",
       "cylinders       0\n",
       "displacement    0\n",
       "horse_power     6\n",
       "weight          0\n",
       "acceleration    0\n",
       "model_year      0\n",
       "car_name        0\n",
       "dtype: int64"
      ]
     },
     "execution_count": 19,
     "metadata": {},
     "output_type": "execute_result"
    }
   ],
   "source": [
    "auto.isna().sum()"
   ]
  },
  {
   "cell_type": "code",
   "execution_count": 20,
   "metadata": {},
   "outputs": [],
   "source": [
    "auto.dropna(inplace=True)"
   ]
  },
  {
   "cell_type": "markdown",
   "metadata": {},
   "source": [
    "What is the newest model year and the oldest model year?"
   ]
  },
  {
   "cell_type": "code",
   "execution_count": 21,
   "metadata": {},
   "outputs": [
    {
     "data": {
      "text/plain": [
       "70"
      ]
     },
     "execution_count": 21,
     "metadata": {},
     "output_type": "execute_result"
    }
   ],
   "source": [
    "auto.model_year.min()"
   ]
  },
  {
   "cell_type": "code",
   "execution_count": 22,
   "metadata": {},
   "outputs": [
    {
     "data": {
      "text/plain": [
       "82"
      ]
     },
     "execution_count": 22,
     "metadata": {},
     "output_type": "execute_result"
    }
   ],
   "source": [
    "auto.model_year.max()"
   ]
  },
  {
   "cell_type": "markdown",
   "metadata": {},
   "source": [
    "Check the dataset for missing values and remove all rows containing at least one missing value."
   ]
  },
  {
   "cell_type": "code",
   "execution_count": 23,
   "metadata": {},
   "outputs": [
    {
     "name": "stdout",
     "output_type": "stream",
     "text": [
      "<class 'pandas.core.frame.DataFrame'>\n",
      "Int64Index: 392 entries, 0 to 397\n",
      "Data columns (total 8 columns):\n",
      " #   Column        Non-Null Count  Dtype  \n",
      "---  ------        --------------  -----  \n",
      " 0   mpg           392 non-null    float64\n",
      " 1   cylinders     392 non-null    int64  \n",
      " 2   displacement  392 non-null    float64\n",
      " 3   horse_power   392 non-null    float64\n",
      " 4   weight        392 non-null    int64  \n",
      " 5   acceleration  392 non-null    float64\n",
      " 6   model_year    392 non-null    int64  \n",
      " 7   car_name      392 non-null    object \n",
      "dtypes: float64(4), int64(3), object(1)\n",
      "memory usage: 26.0+ KB\n"
     ]
    }
   ],
   "source": [
    "auto.info()"
   ]
  },
  {
   "cell_type": "markdown",
   "metadata": {},
   "source": [
    "Find the frequency table for the `cylinders` column using the `value_counts()` function. How many possible values of cylinders are there?"
   ]
  },
  {
   "cell_type": "code",
   "execution_count": 24,
   "metadata": {},
   "outputs": [
    {
     "data": {
      "text/plain": [
       "4    199\n",
       "8    103\n",
       "6     83\n",
       "3      4\n",
       "5      3\n",
       "Name: cylinders, dtype: int64"
      ]
     },
     "execution_count": 24,
     "metadata": {},
     "output_type": "execute_result"
    }
   ],
   "source": [
    "auto.cylinders.value_counts()"
   ]
  },
  {
   "cell_type": "markdown",
   "metadata": {},
   "source": [
    "We would like to generate a linear regression model that will predict mpg. To do this, first drop the `car_name` column since it does not contain any quantitative data. Next separate the dataframe to predictor and response variables. Separate those into test and training data with 80% of the data in the training set and the remainder in the test set. \n",
    "\n",
    "Assign the predictor and response training data to `X_train` and `y_train` respectively. Similarly, assign the predictor and response test data to `X_test` and `y_test`.\n",
    "\n",
    "*Hint: To separate data for training and test, use the `train_test_split` method we used in previous labs.*"
   ]
  },
  {
   "cell_type": "code",
   "execution_count": 25,
   "metadata": {},
   "outputs": [],
   "source": [
    "auto.drop('car_name', axis = 1, inplace = True)\n",
    "X = auto.drop('mpg', axis = 1).copy()\n",
    "y = auto['mpg']\n",
    "X_train, X_test, y_train, y_test = train_test_split(X, y, test_size = 0.2)"
   ]
  },
  {
   "cell_type": "markdown",
   "metadata": {},
   "source": [
    "Now we will processed and peform linear regression on this data to predict the mpg for each vehicle. \n",
    "\n",
    "#### In the next cell, create an instance of the linear regression model and call it `auto_model`. Fit `auto_model` with your training data."
   ]
  },
  {
   "cell_type": "code",
   "execution_count": 26,
   "metadata": {},
   "outputs": [
    {
     "name": "stdout",
     "output_type": "stream",
     "text": [
      "<class 'pandas.core.frame.DataFrame'>\n",
      "Int64Index: 313 entries, 328 to 91\n",
      "Data columns (total 6 columns):\n",
      " #   Column        Non-Null Count  Dtype  \n",
      "---  ------        --------------  -----  \n",
      " 0   cylinders     313 non-null    int64  \n",
      " 1   displacement  313 non-null    float64\n",
      " 2   horse_power   313 non-null    float64\n",
      " 3   weight        313 non-null    int64  \n",
      " 4   acceleration  313 non-null    float64\n",
      " 5   model_year    313 non-null    int64  \n",
      "dtypes: float64(3), int64(3)\n",
      "memory usage: 17.1 KB\n"
     ]
    }
   ],
   "source": [
    "X_train.info()"
   ]
  },
  {
   "cell_type": "code",
   "execution_count": 27,
   "metadata": {},
   "outputs": [
    {
     "data": {
      "text/plain": [
       "LinearRegression()"
      ]
     },
     "execution_count": 27,
     "metadata": {},
     "output_type": "execute_result"
    }
   ],
   "source": [
    "auto_model = linear_model.LinearRegression()\n",
    "auto_model.fit(X_train, y_train)"
   ]
  },
  {
   "cell_type": "markdown",
   "metadata": {},
   "source": [
    "\n",
    "# Challenge 4 - Evaluate the Model\n",
    "\n",
    "In addition to evaluating your model with F-test and t-test, you can also use the *Coefficient of Determination* (a.k.a. *r squared score*). This method does not simply tell *yes* or *no* about the model fit but instead indicates how much variation can be explained by the model. Based on the r squared score, you can decide whether to improve your model in order to obtain a better fit.\n",
    "\n",
    "You can learn about the r squared score [here](https://en.wikipedia.org/wiki/Coefficient_of_determination). Its formula is:\n",
    "\n",
    "<div style=\"text-align:center\"><img src=\"../images/r-squared.png\" width=300/></div>\n",
    "\n",
    "where:\n",
    "\n",
    "* yi is an actual data point.\n",
    "* ŷi is the corresponding data point on the estimated regression line.\n",
    "\n",
    "By adding the squares of the difference between all yi-ŷi pairs, we have a measure called SSE (*error sum of squares*) which is an application of the r squared score to indicate the extent to which the estimated regression model is different from the actual data. And we attribute that difference to the random error that is unavoidable in the real world. Obviously, we want the SSE value to be as small as possible.\n",
    "\n",
    "#### In the next cell, compute the predicted *y* based on `X_train` and call it `y_pred`. Then calcualte the r squared score between `y_pred` and `y_train` which indicates how well the estimated regression model fits the training data.\n",
    "\n",
    "*Hint: r squared score can be calculated using `sklearn.metrics.r2_score` ([documentation](https://scikit-learn.org/stable/modules/generated/sklearn.metrics.r2_score.html)).*"
   ]
  },
  {
   "cell_type": "code",
   "execution_count": 46,
   "metadata": {},
   "outputs": [
    {
     "data": {
      "text/plain": [
       "0.8083738697818573"
      ]
     },
     "execution_count": 46,
     "metadata": {},
     "output_type": "execute_result"
    }
   ],
   "source": [
    "from sklearn.metrics import r2_score\n",
    "y_pred = auto_model.predict(X_train)\n",
    "r2_score(y_train, y_pred)"
   ]
  },
  {
   "cell_type": "markdown",
   "metadata": {},
   "source": [
    "#### Our next step is to evaluate the model using the test data. \n",
    "\n",
    "We would like to ensure that our model is not overfitting the data. This means that our model was made to fit too closely to the training data by being overly complex. If a model is overfitted, it is not generalizable to data outside the training data. In that case, we need to reduce the complexity of the model by removing certain features (variables).\n",
    "\n",
    "In the cell below, use the model to generate the predicted values for the test data and assign them to `y_test_pred`. Compute the r squared score of the predicted `y_test_pred` and the oberserved `y_test` data."
   ]
  },
  {
   "cell_type": "code",
   "execution_count": 47,
   "metadata": {},
   "outputs": [
    {
     "data": {
      "text/plain": [
       "0.7776656668124061"
      ]
     },
     "execution_count": 47,
     "metadata": {},
     "output_type": "execute_result"
    }
   ],
   "source": [
    "y_test_pred = auto_model.predict(X_test)\n",
    "r2_score(y_test_pred, y_test)"
   ]
  },
  {
   "cell_type": "markdown",
   "metadata": {},
   "source": [
    "#### Explaining the results\n",
    "\n",
    "Please, compare the results for the training and test sets and comment. What can you say?"
   ]
  },
  {
   "cell_type": "code",
   "execution_count": 48,
   "metadata": {},
   "outputs": [],
   "source": [
    "# the prediction is more accurate with the training dataset than with the testing dataset"
   ]
  },
  {
   "cell_type": "markdown",
   "metadata": {},
   "source": [
    "# Challenge 5 - Improve the Model Fit\n",
    "\n",
    "While the most common way to improve the fit of a model is by using [regularization](https://datanice.github.io/machine-learning-101-what-is-regularization-interactive.html), there are other simpler ways to improve model fit. The first is to create a simpler model. The second is to increase the train sample size.\n",
    "\n",
    "Let us start with the easier option and increase our train sample size to 90% of the data. Create a new test train split and name the new predictors and response variables `X_train09`, `X_test09`, `y_train09`, `y_test09`."
   ]
  },
  {
   "cell_type": "code",
   "execution_count": 49,
   "metadata": {},
   "outputs": [],
   "source": [
    "X_train09, X_test09, y_train09, y_test09 = train_test_split(X, y, test_size = 0.1, random_state = 123)"
   ]
  },
  {
   "cell_type": "markdown",
   "metadata": {},
   "source": [
    "Initialize a new linear regression model. Name this model `auto_model09`. Fit the model to the new sample (training) data."
   ]
  },
  {
   "cell_type": "code",
   "execution_count": 50,
   "metadata": {},
   "outputs": [],
   "source": [
    "auto_model09 = linear_model.LinearRegression()"
   ]
  },
  {
   "cell_type": "markdown",
   "metadata": {},
   "source": [
    "Compute the predicted values and r squared score for our new model and new sample data."
   ]
  },
  {
   "cell_type": "code",
   "execution_count": 51,
   "metadata": {},
   "outputs": [
    {
     "data": {
      "text/plain": [
       "0.7668862468083321"
      ]
     },
     "execution_count": 51,
     "metadata": {},
     "output_type": "execute_result"
    }
   ],
   "source": [
    "auto_model09.fit(X_train09, y_train09)\n",
    "y_pred09 = auto_model09.predict(X_train09)\n",
    "r2_score(y_pred09, y_train09)"
   ]
  },
  {
   "cell_type": "markdown",
   "metadata": {},
   "source": [
    "Compute the r squared score for the smaller test set. Is there an improvement in the test r squared?"
   ]
  },
  {
   "cell_type": "code",
   "execution_count": 52,
   "metadata": {},
   "outputs": [
    {
     "data": {
      "text/plain": [
       "0.8152313204514886"
      ]
     },
     "execution_count": 52,
     "metadata": {},
     "output_type": "execute_result"
    }
   ],
   "source": [
    "auto_model09.fit(X_test09, y_test09)\n",
    "y_pred_test09 = auto_model09.predict(X_test09)\n",
    "r2_score(y_pred_test09, y_test09)"
   ]
  },
  {
   "cell_type": "markdown",
   "metadata": {},
   "source": [
    "# Implement a Decision Tree model"
   ]
  },
  {
   "cell_type": "markdown",
   "metadata": {},
   "source": [
    "### Doing the Decision Tree Model "
   ]
  },
  {
   "cell_type": "code",
   "execution_count": 59,
   "metadata": {},
   "outputs": [],
   "source": [
    "from sklearn.tree import DecisionTreeRegressor"
   ]
  },
  {
   "cell_type": "code",
   "execution_count": 60,
   "metadata": {},
   "outputs": [],
   "source": [
    "dtree = DecisionTreeRegressor()"
   ]
  },
  {
   "cell_type": "code",
   "execution_count": 61,
   "metadata": {},
   "outputs": [
    {
     "data": {
      "text/plain": [
       "DecisionTreeRegressor()"
      ]
     },
     "execution_count": 61,
     "metadata": {},
     "output_type": "execute_result"
    }
   ],
   "source": [
    "dtree.fit(X_train, y_train)"
   ]
  },
  {
   "cell_type": "code",
   "execution_count": 62,
   "metadata": {},
   "outputs": [],
   "source": [
    "predictions = dtree.predict(X_train)"
   ]
  },
  {
   "cell_type": "code",
   "execution_count": 63,
   "metadata": {},
   "outputs": [
    {
     "data": {
      "text/plain": [
       "1.0"
      ]
     },
     "execution_count": 63,
     "metadata": {},
     "output_type": "execute_result"
    }
   ],
   "source": [
    "r2_score(y_train, predictions)"
   ]
  },
  {
   "cell_type": "code",
   "execution_count": 64,
   "metadata": {},
   "outputs": [
    {
     "data": {
      "text/plain": [
       "0.8616736335404238"
      ]
     },
     "execution_count": 64,
     "metadata": {},
     "output_type": "execute_result"
    }
   ],
   "source": [
    "predictions = dtree.predict(X_test)\n",
    "r2_score(y_test, predictions)"
   ]
  },
  {
   "cell_type": "markdown",
   "metadata": {},
   "source": [
    "### Plotting the model "
   ]
  },
  {
   "cell_type": "code",
   "execution_count": 65,
   "metadata": {},
   "outputs": [],
   "source": [
    "from sklearn.tree import plot_tree"
   ]
  },
  {
   "cell_type": "code",
   "execution_count": 66,
   "metadata": {
    "collapsed": true
   },
   "outputs": [
    {
     "data": {
      "text/plain": [
       "[Text(184.76804416588567, 210.645, 'X[1] <= 190.5\\nmse = 61.069\\nsamples = 313\\nvalue = 23.701'),\n",
       " Text(85.14631560449861, 197.055, 'X[2] <= 70.5\\nmse = 34.03\\nsamples = 178\\nvalue = 28.905'),\n",
       " Text(26.004264292408624, 183.465, 'X[5] <= 77.5\\nmse = 24.514\\nsamples = 58\\nvalue = 33.729'),\n",
       " Text(14.11996251171509, 169.875, 'X[1] <= 87.5\\nmse = 9.27\\nsamples = 24\\nvalue = 29.896'),\n",
       " Text(6.275538894095596, 156.285, 'X[4] <= 15.75\\nmse = 5.923\\nsamples = 13\\nvalue = 31.5'),\n",
       " Text(5.020431115276477, 142.695, 'mse = 0.0\\nsamples = 1\\nvalue = 26.0'),\n",
       " Text(7.530646672914715, 142.695, 'X[5] <= 76.5\\nmse = 3.686\\nsamples = 12\\nvalue = 31.958'),\n",
       " Text(5.020431115276477, 129.10500000000002, 'X[3] <= 1631.0\\nmse = 2.24\\nsamples = 10\\nvalue = 31.4'),\n",
       " Text(3.7653233364573575, 115.515, 'mse = 0.0\\nsamples = 1\\nvalue = 35.0'),\n",
       " Text(6.275538894095596, 115.515, 'X[3] <= 2019.0\\nmse = 0.889\\nsamples = 9\\nvalue = 31.0'),\n",
       " Text(3.7653233364573575, 101.925, 'X[1] <= 81.0\\nmse = 0.245\\nsamples = 7\\nvalue = 31.429'),\n",
       " Text(2.5102155576382383, 88.33500000000001, 'X[4] <= 20.0\\nmse = 0.16\\nsamples = 5\\nvalue = 31.2'),\n",
       " Text(1.2551077788191192, 74.745, 'mse = 0.0\\nsamples = 4\\nvalue = 31.0'),\n",
       " Text(3.7653233364573575, 74.745, 'mse = 0.0\\nsamples = 1\\nvalue = 32.0'),\n",
       " Text(5.020431115276477, 88.33500000000001, 'mse = 0.0\\nsamples = 2\\nvalue = 32.0'),\n",
       " Text(8.785754451733833, 101.925, 'X[1] <= 82.0\\nmse = 0.25\\nsamples = 2\\nvalue = 29.5'),\n",
       " Text(7.530646672914715, 88.33500000000001, 'mse = 0.0\\nsamples = 1\\nvalue = 30.0'),\n",
       " Text(10.040862230552953, 88.33500000000001, 'mse = 0.0\\nsamples = 1\\nvalue = 29.0'),\n",
       " Text(10.040862230552953, 129.10500000000002, 'X[1] <= 82.0\\nmse = 1.562\\nsamples = 2\\nvalue = 34.75'),\n",
       " Text(8.785754451733833, 115.515, 'mse = 0.0\\nsamples = 1\\nvalue = 36.0'),\n",
       " Text(11.295970009372073, 115.515, 'mse = 0.0\\nsamples = 1\\nvalue = 33.5'),\n",
       " Text(21.964386129334585, 156.285, 'X[4] <= 18.75\\nmse = 6.591\\nsamples = 11\\nvalue = 28.0'),\n",
       " Text(17.571508903467667, 142.695, 'X[2] <= 68.5\\nmse = 4.812\\nsamples = 6\\nvalue = 29.75'),\n",
       " Text(15.06129334582943, 129.10500000000002, 'X[1] <= 94.0\\nmse = 1.5\\nsamples = 3\\nvalue = 31.5'),\n",
       " Text(13.80618556701031, 115.515, 'mse = 0.0\\nsamples = 1\\nvalue = 33.0'),\n",
       " Text(16.31640112464855, 115.515, 'X[3] <= 2015.0\\nmse = 0.562\\nsamples = 2\\nvalue = 30.75'),\n",
       " Text(15.06129334582943, 101.925, 'mse = 0.0\\nsamples = 1\\nvalue = 30.0'),\n",
       " Text(17.571508903467667, 101.925, 'mse = 0.0\\nsamples = 1\\nvalue = 31.5'),\n",
       " Text(20.081724461105907, 129.10500000000002, 'X[3] <= 2063.0\\nmse = 2.0\\nsamples = 3\\nvalue = 28.0'),\n",
       " Text(18.826616682286787, 115.515, 'mse = 0.0\\nsamples = 2\\nvalue = 29.0'),\n",
       " Text(21.336832239925027, 115.515, 'mse = 0.0\\nsamples = 1\\nvalue = 26.0'),\n",
       " Text(26.357263355201503, 142.695, 'X[3] <= 2059.5\\nmse = 0.64\\nsamples = 5\\nvalue = 25.9'),\n",
       " Text(25.102155576382383, 129.10500000000002, 'X[4] <= 19.75\\nmse = 0.188\\nsamples = 4\\nvalue = 26.25'),\n",
       " Text(23.847047797563263, 115.515, 'mse = 0.0\\nsamples = 1\\nvalue = 27.0'),\n",
       " Text(26.357263355201503, 115.515, 'mse = 0.0\\nsamples = 3\\nvalue = 26.0'),\n",
       " Text(27.61237113402062, 129.10500000000002, 'mse = 0.0\\nsamples = 1\\nvalue = 24.5'),\n",
       " Text(37.88856607310216, 169.875, 'X[2] <= 50.0\\nmse = 17.579\\nsamples = 34\\nvalue = 36.435'),\n",
       " Text(30.12258669165886, 156.285, 'X[3] <= 2035.0\\nmse = 0.26\\nsamples = 3\\nvalue = 43.6'),\n",
       " Text(28.86747891283974, 142.695, 'mse = 0.0\\nsamples = 1\\nvalue = 43.1'),\n",
       " Text(31.37769447047798, 142.695, 'X[4] <= 22.7\\nmse = 0.203\\nsamples = 2\\nvalue = 43.85'),\n",
       " Text(30.12258669165886, 129.10500000000002, 'mse = 0.0\\nsamples = 1\\nvalue = 44.3'),\n",
       " Text(32.6328022492971, 129.10500000000002, 'mse = 0.0\\nsamples = 1\\nvalue = 43.4'),\n",
       " Text(45.65454545454546, 156.285, 'X[3] <= 2132.5\\nmse = 13.807\\nsamples = 31\\nvalue = 35.742'),\n",
       " Text(36.39812558575446, 142.695, 'X[4] <= 14.1\\nmse = 12.82\\nsamples = 22\\nvalue = 36.864'),\n",
       " Text(35.14301780693533, 129.10500000000002, 'mse = 0.0\\nsamples = 1\\nvalue = 44.6'),\n",
       " Text(37.65323336457357, 129.10500000000002, 'X[4] <= 22.0\\nmse = 10.444\\nsamples = 21\\nvalue = 36.495'),\n",
       " Text(36.39812558575446, 115.515, 'X[1] <= 90.0\\nmse = 8.01\\nsamples = 20\\nvalue = 36.12'),\n",
       " Text(30.43636363636364, 101.925, 'X[5] <= 79.5\\nmse = 7.141\\nsamples = 11\\nvalue = 37.091'),\n",
       " Text(27.9261480787254, 88.33500000000001, 'X[4] <= 18.9\\nmse = 11.369\\nsamples = 3\\nvalue = 34.667'),\n",
       " Text(26.67104029990628, 74.745, 'mse = 0.0\\nsamples = 1\\nvalue = 39.4'),\n",
       " Text(29.18125585754452, 74.745, 'X[5] <= 78.5\\nmse = 0.25\\nsamples = 2\\nvalue = 32.3'),\n",
       " Text(27.9261480787254, 61.155, 'mse = 0.0\\nsamples = 1\\nvalue = 32.8'),\n",
       " Text(30.43636363636364, 61.155, 'mse = 0.0\\nsamples = 1\\nvalue = 31.8'),\n",
       " Text(32.94657919400188, 88.33500000000001, 'X[4] <= 16.25\\nmse = 2.525\\nsamples = 8\\nvalue = 38.0'),\n",
       " Text(31.691471415182757, 74.745, 'mse = 0.0\\nsamples = 1\\nvalue = 35.1'),\n",
       " Text(34.201686972820994, 74.745, 'X[3] <= 2080.0\\nmse = 1.513\\nsamples = 7\\nvalue = 38.414'),\n",
       " Text(32.94657919400188, 61.155, 'X[3] <= 1921.5\\nmse = 0.658\\nsamples = 6\\nvalue = 38.017'),\n",
       " Text(29.80880974695408, 47.565, 'X[2] <= 61.0\\nmse = 0.003\\nsamples = 2\\nvalue = 39.05'),\n",
       " Text(28.553701968134963, 33.974999999999994, 'mse = 0.0\\nsamples = 1\\nvalue = 39.1'),\n",
       " Text(31.0639175257732, 33.974999999999994, 'mse = 0.0\\nsamples = 1\\nvalue = 39.0'),\n",
       " Text(36.08434864104968, 47.565, 'X[2] <= 63.5\\nmse = 0.185\\nsamples = 4\\nvalue = 37.5'),\n",
       " Text(33.57413308341144, 33.974999999999994, 'X[3] <= 2009.0\\nmse = 0.04\\nsamples = 2\\nvalue = 37.9'),\n",
       " Text(32.319025304592316, 20.38499999999999, 'mse = 0.0\\nsamples = 1\\nvalue = 38.1'),\n",
       " Text(34.829240862230556, 20.38499999999999, 'mse = -0.0\\nsamples = 1\\nvalue = 37.7'),\n",
       " Text(38.59456419868791, 33.974999999999994, 'X[1] <= 85.5\\nmse = 0.01\\nsamples = 2\\nvalue = 37.1'),\n",
       " Text(37.339456419868796, 20.38499999999999, 'mse = 0.0\\nsamples = 1\\nvalue = 37.0'),\n",
       " Text(39.849671977507036, 20.38499999999999, 'mse = 0.0\\nsamples = 1\\nvalue = 37.2'),\n",
       " Text(35.45679475164012, 61.155, 'mse = 0.0\\nsamples = 1\\nvalue = 40.8'),\n",
       " Text(42.35988753514527, 101.925, 'X[4] <= 15.25\\nmse = 6.511\\nsamples = 9\\nvalue = 34.933'),\n",
       " Text(39.849671977507036, 88.33500000000001, 'X[3] <= 1882.5\\nmse = 0.802\\nsamples = 3\\nvalue = 37.367'),\n",
       " Text(38.59456419868791, 74.745, 'mse = 0.0\\nsamples = 1\\nvalue = 36.1'),\n",
       " Text(41.10477975632615, 74.745, 'mse = 0.0\\nsamples = 2\\nvalue = 38.0'),\n",
       " Text(44.87010309278351, 88.33500000000001, 'X[4] <= 17.9\\nmse = 4.925\\nsamples = 6\\nvalue = 33.717'),\n",
       " Text(43.61499531396439, 74.745, 'X[3] <= 1882.5\\nmse = 3.322\\nsamples = 5\\nvalue = 33.06'),\n",
       " Text(42.35988753514527, 61.155, 'mse = 0.0\\nsamples = 1\\nvalue = 36.1'),\n",
       " Text(44.87010309278351, 61.155, 'X[5] <= 81.5\\nmse = 1.265\\nsamples = 4\\nvalue = 32.3'),\n",
       " Text(42.35988753514527, 47.565, 'X[2] <= 69.0\\nmse = 1.0\\nsamples = 2\\nvalue = 33.1'),\n",
       " Text(41.10477975632615, 33.974999999999994, 'mse = 0.0\\nsamples = 1\\nvalue = 34.1'),\n",
       " Text(43.61499531396439, 33.974999999999994, 'mse = 0.0\\nsamples = 1\\nvalue = 32.1'),\n",
       " Text(47.38031865042175, 47.565, 'X[3] <= 1967.5\\nmse = 0.25\\nsamples = 2\\nvalue = 31.5'),\n",
       " Text(46.12521087160263, 33.974999999999994, 'mse = 0.0\\nsamples = 1\\nvalue = 32.0'),\n",
       " Text(48.635426429240866, 33.974999999999994, 'mse = 0.0\\nsamples = 1\\nvalue = 31.0'),\n",
       " Text(46.12521087160263, 74.745, 'mse = 0.0\\nsamples = 1\\nvalue = 37.0'),\n",
       " Text(38.9083411433927, 115.515, 'mse = 0.0\\nsamples = 1\\nvalue = 44.0'),\n",
       " Text(54.91096532333646, 142.695, 'X[4] <= 20.3\\nmse = 5.627\\nsamples = 9\\nvalue = 33.0'),\n",
       " Text(52.40074976569822, 129.10500000000002, 'X[5] <= 78.5\\nmse = 3.816\\nsamples = 7\\nvalue = 33.871'),\n",
       " Text(51.145641986879106, 115.515, 'mse = 0.0\\nsamples = 1\\nvalue = 29.5'),\n",
       " Text(53.655857544517346, 115.515, 'X[4] <= 18.95\\nmse = 0.737\\nsamples = 6\\nvalue = 34.6'),\n",
       " Text(52.40074976569822, 101.925, 'X[4] <= 15.9\\nmse = 0.106\\nsamples = 5\\nvalue = 34.24'),\n",
       " Text(49.89053420805999, 88.33500000000001, 'X[4] <= 14.05\\nmse = 0.042\\nsamples = 3\\nvalue = 34.467'),\n",
       " Text(48.635426429240866, 74.745, 'mse = 0.0\\nsamples = 1\\nvalue = 34.2'),\n",
       " Text(51.145641986879106, 74.745, 'X[5] <= 80.0\\nmse = 0.01\\nsamples = 2\\nvalue = 34.6'),\n",
       " Text(49.89053420805999, 61.155, 'mse = 0.0\\nsamples = 1\\nvalue = 34.5'),\n",
       " Text(52.40074976569822, 61.155, 'mse = 0.0\\nsamples = 1\\nvalue = 34.7'),\n",
       " Text(54.91096532333646, 88.33500000000001, 'X[3] <= 2195.0\\nmse = 0.01\\nsamples = 2\\nvalue = 33.9'),\n",
       " Text(53.655857544517346, 74.745, 'mse = 0.0\\nsamples = 1\\nvalue = 33.8'),\n",
       " Text(56.166073102155586, 74.745, 'mse = -0.0\\nsamples = 1\\nvalue = 34.0'),\n",
       " Text(54.91096532333646, 101.925, 'mse = -0.0\\nsamples = 1\\nvalue = 36.4'),\n",
       " Text(57.4211808809747, 129.10500000000002, 'X[3] <= 2815.0\\nmse = 0.003\\nsamples = 2\\nvalue = 29.95'),\n",
       " Text(56.166073102155586, 115.515, 'mse = 0.0\\nsamples = 1\\nvalue = 29.9'),\n",
       " Text(58.67628865979382, 115.515, 'mse = -0.0\\nsamples = 1\\nvalue = 30.0'),\n",
       " Text(144.2883669165886, 183.465, 'X[5] <= 78.5\\nmse = 21.943\\nsamples = 120\\nvalue = 26.573'),\n",
       " Text(114.1951968134958, 169.875, 'X[3] <= 2781.0\\nmse = 11.566\\nsamples = 72\\nvalue = 24.281'),\n",
       " Text(90.64231490159327, 156.285, 'X[3] <= 2271.5\\nmse = 8.333\\nsamples = 61\\nvalue = 25.113'),\n",
       " Text(70.59981255857545, 142.695, 'X[5] <= 75.5\\nmse = 10.111\\nsamples = 24\\nvalue = 26.767'),\n",
       " Text(62.441611996251176, 129.10500000000002, 'X[0] <= 3.5\\nmse = 6.96\\nsamples = 15\\nvalue = 25.2'),\n",
       " Text(61.18650421743206, 115.515, 'mse = 0.0\\nsamples = 1\\nvalue = 18.0'),\n",
       " Text(63.6967197750703, 115.515, 'X[4] <= 16.0\\nmse = 3.49\\nsamples = 14\\nvalue = 25.714'),\n",
       " Text(61.18650421743206, 101.925, 'X[3] <= 2116.5\\nmse = 2.017\\nsamples = 11\\nvalue = 26.273'),\n",
       " Text(59.93139643861294, 88.33500000000001, 'mse = 0.0\\nsamples = 1\\nvalue = 24.0'),\n",
       " Text(62.441611996251176, 88.33500000000001, 'X[1] <= 105.5\\nmse = 1.65\\nsamples = 10\\nvalue = 26.5'),\n",
       " Text(58.67628865979382, 74.745, 'X[2] <= 84.0\\nmse = 0.56\\nsamples = 5\\nvalue = 27.2'),\n",
       " Text(57.4211808809747, 61.155, 'mse = 0.0\\nsamples = 2\\nvalue = 28.0'),\n",
       " Text(59.93139643861294, 61.155, 'X[1] <= 97.5\\nmse = 0.222\\nsamples = 3\\nvalue = 26.667'),\n",
       " Text(58.67628865979382, 47.565, 'mse = 0.0\\nsamples = 2\\nvalue = 27.0'),\n",
       " Text(61.18650421743206, 47.565, 'mse = 0.0\\nsamples = 1\\nvalue = 26.0'),\n",
       " Text(66.20693533270854, 74.745, 'X[1] <= 130.5\\nmse = 1.76\\nsamples = 5\\nvalue = 25.8'),\n",
       " Text(64.95182755388942, 61.155, 'X[3] <= 2231.0\\nmse = 0.688\\nsamples = 4\\nvalue = 25.25'),\n",
       " Text(63.6967197750703, 47.565, 'X[2] <= 85.0\\nmse = 0.25\\nsamples = 2\\nvalue = 24.5'),\n",
       " Text(62.441611996251176, 33.974999999999994, 'mse = 0.0\\nsamples = 1\\nvalue = 24.0'),\n",
       " Text(64.95182755388942, 33.974999999999994, 'mse = 0.0\\nsamples = 1\\nvalue = 25.0'),\n",
       " Text(66.20693533270854, 47.565, 'mse = 0.0\\nsamples = 2\\nvalue = 26.0'),\n",
       " Text(67.46204311152765, 61.155, 'mse = 0.0\\nsamples = 1\\nvalue = 28.0'),\n",
       " Text(66.20693533270854, 101.925, 'X[3] <= 2224.5\\nmse = 3.556\\nsamples = 3\\nvalue = 23.667'),\n",
       " Text(64.95182755388942, 88.33500000000001, 'mse = 0.0\\nsamples = 2\\nvalue = 25.0'),\n",
       " Text(67.46204311152765, 88.33500000000001, 'mse = 0.0\\nsamples = 1\\nvalue = 21.0'),\n",
       " Text(78.75801312089973, 129.10500000000002, 'X[4] <= 16.15\\nmse = 4.453\\nsamples = 9\\nvalue = 29.378'),\n",
       " Text(76.24779756326149, 115.515, 'X[4] <= 15.6\\nmse = 3.362\\nsamples = 7\\nvalue = 30.057'),\n",
       " Text(74.99268978444238, 101.925, 'X[2] <= 81.5\\nmse = 1.618\\nsamples = 6\\nvalue = 29.483'),\n",
       " Text(73.73758200562325, 88.33500000000001, 'X[3] <= 2047.5\\nmse = 0.462\\nsamples = 5\\nvalue = 29.98'),\n",
       " Text(71.22736644798502, 74.745, 'X[2] <= 74.5\\nmse = 0.062\\nsamples = 2\\nvalue = 29.25'),\n",
       " Text(69.9722586691659, 61.155, 'mse = 0.0\\nsamples = 1\\nvalue = 29.5'),\n",
       " Text(72.48247422680413, 61.155, 'mse = 0.0\\nsamples = 1\\nvalue = 29.0'),\n",
       " Text(76.24779756326149, 74.745, 'X[4] <= 14.65\\nmse = 0.136\\nsamples = 3\\nvalue = 30.467'),\n",
       " Text(74.99268978444238, 61.155, 'X[2] <= 76.5\\nmse = 0.04\\nsamples = 2\\nvalue = 30.7'),\n",
       " Text(73.73758200562325, 47.565, 'mse = 0.0\\nsamples = 1\\nvalue = 30.9'),\n",
       " Text(76.24779756326149, 47.565, 'mse = 0.0\\nsamples = 1\\nvalue = 30.5'),\n",
       " Text(77.50290534208061, 61.155, 'mse = 0.0\\nsamples = 1\\nvalue = 30.0'),\n",
       " Text(76.24779756326149, 88.33500000000001, 'mse = 0.0\\nsamples = 1\\nvalue = 27.0'),\n",
       " Text(77.50290534208061, 101.925, 'mse = 0.0\\nsamples = 1\\nvalue = 33.5'),\n",
       " Text(81.26822867853797, 115.515, 'X[3] <= 2210.0\\nmse = 1.0\\nsamples = 2\\nvalue = 27.0'),\n",
       " Text(80.01312089971884, 101.925, 'mse = 0.0\\nsamples = 1\\nvalue = 28.0'),\n",
       " Text(82.52333645735709, 101.925, 'mse = 0.0\\nsamples = 1\\nvalue = 26.0'),\n",
       " Text(110.68481724461107, 142.695, 'X[4] <= 17.75\\nmse = 4.255\\nsamples = 37\\nvalue = 24.041'),\n",
       " Text(97.42774133083412, 129.10500000000002, 'X[1] <= 107.5\\nmse = 3.682\\nsamples = 32\\nvalue = 24.422'),\n",
       " Text(87.54376757263356, 115.515, 'X[5] <= 71.0\\nmse = 2.56\\nsamples = 5\\nvalue = 26.2'),\n",
       " Text(85.03355201499532, 101.925, 'X[1] <= 105.5\\nmse = 0.25\\nsamples = 2\\nvalue = 24.5'),\n",
       " Text(83.7784442361762, 88.33500000000001, 'mse = 0.0\\nsamples = 1\\nvalue = 25.0'),\n",
       " Text(86.28865979381445, 88.33500000000001, 'mse = 0.0\\nsamples = 1\\nvalue = 24.0'),\n",
       " Text(90.0539831302718, 101.925, 'X[4] <= 15.0\\nmse = 0.889\\nsamples = 3\\nvalue = 27.333'),\n",
       " Text(88.79887535145268, 88.33500000000001, 'mse = 0.0\\nsamples = 1\\nvalue = 26.0'),\n",
       " Text(91.30909090909093, 88.33500000000001, 'mse = 0.0\\nsamples = 2\\nvalue = 28.0'),\n",
       " Text(107.31171508903469, 115.515, 'X[5] <= 73.5\\nmse = 3.196\\nsamples = 27\\nvalue = 24.093'),\n",
       " Text(96.95707591377696, 101.925, 'X[5] <= 71.0\\nmse = 2.25\\nsamples = 8\\nvalue = 23.0'),\n",
       " Text(93.81930646672916, 88.33500000000001, 'X[1] <= 111.5\\nmse = 0.25\\nsamples = 2\\nvalue = 24.5'),\n",
       " Text(92.56419868791004, 74.745, 'mse = 0.0\\nsamples = 1\\nvalue = 25.0'),\n",
       " Text(95.07441424554828, 74.745, 'mse = 0.0\\nsamples = 1\\nvalue = 24.0'),\n",
       " Text(100.09484536082475, 88.33500000000001, 'X[2] <= 94.5\\nmse = 1.917\\nsamples = 6\\nvalue = 22.5'),\n",
       " Text(97.58462980318652, 74.745, 'X[3] <= 2488.5\\nmse = 0.889\\nsamples = 3\\nvalue = 21.333'),\n",
       " Text(96.32952202436739, 61.155, 'mse = 0.0\\nsamples = 2\\nvalue = 22.0'),\n",
       " Text(98.83973758200564, 61.155, 'mse = 0.0\\nsamples = 1\\nvalue = 20.0'),\n",
       " Text(102.605060918463, 74.745, 'X[3] <= 2392.0\\nmse = 0.222\\nsamples = 3\\nvalue = 23.667'),\n",
       " Text(101.34995313964387, 61.155, 'mse = 0.0\\nsamples = 1\\nvalue = 24.0'),\n",
       " Text(103.8601686972821, 61.155, 'X[2] <= 103.5\\nmse = 0.25\\nsamples = 2\\nvalue = 23.5'),\n",
       " Text(102.605060918463, 47.565, 'mse = 0.0\\nsamples = 1\\nvalue = 23.0'),\n",
       " Text(105.11527647610123, 47.565, 'mse = 0.0\\nsamples = 1\\nvalue = 24.0'),\n",
       " Text(117.66635426429242, 101.925, 'X[4] <= 13.15\\nmse = 2.879\\nsamples = 19\\nvalue = 24.553'),\n",
       " Text(116.4112464854733, 88.33500000000001, 'mse = 0.0\\nsamples = 1\\nvalue = 21.5'),\n",
       " Text(118.92146204311155, 88.33500000000001, 'X[4] <= 14.75\\nmse = 2.493\\nsamples = 18\\nvalue = 24.722'),\n",
       " Text(111.39081537019683, 74.745, 'X[4] <= 13.55\\nmse = 1.786\\nsamples = 5\\nvalue = 26.04'),\n",
       " Text(108.88059981255859, 61.155, 'X[2] <= 105.5\\nmse = 0.25\\nsamples = 2\\nvalue = 24.5'),\n",
       " Text(107.62549203373946, 47.565, 'mse = 0.0\\nsamples = 1\\nvalue = 24.0'),\n",
       " Text(110.13570759137771, 47.565, 'mse = 0.0\\nsamples = 1\\nvalue = 25.0'),\n",
       " Text(113.90103092783507, 61.155, 'X[2] <= 83.5\\nmse = 0.176\\nsamples = 3\\nvalue = 27.067'),\n",
       " Text(112.64592314901594, 47.565, 'mse = 0.0\\nsamples = 1\\nvalue = 26.5'),\n",
       " Text(115.15613870665419, 47.565, 'X[2] <= 96.0\\nmse = 0.023\\nsamples = 2\\nvalue = 27.35'),\n",
       " Text(113.90103092783507, 33.974999999999994, 'mse = 0.0\\nsamples = 1\\nvalue = 27.5'),\n",
       " Text(116.4112464854733, 33.974999999999994, 'mse = -0.0\\nsamples = 1\\nvalue = 27.2'),\n",
       " Text(126.45210871602626, 74.745, 'X[2] <= 94.0\\nmse = 1.84\\nsamples = 13\\nvalue = 24.215'),\n",
       " Text(122.6867853795689, 61.155, 'X[4] <= 16.75\\nmse = 0.887\\nsamples = 7\\nvalue = 25.086'),\n",
       " Text(120.17656982193066, 47.565, 'X[5] <= 75.0\\nmse = 0.182\\nsamples = 5\\nvalue = 25.52'),\n",
       " Text(118.92146204311155, 33.974999999999994, 'mse = 0.0\\nsamples = 2\\nvalue = 26.0'),\n",
       " Text(121.43167760074978, 33.974999999999994, 'X[3] <= 2737.5\\nmse = 0.047\\nsamples = 3\\nvalue = 25.2'),\n",
       " Text(120.17656982193066, 20.38499999999999, 'X[3] <= 2646.0\\nmse = 0.003\\nsamples = 2\\nvalue = 25.05'),\n",
       " Text(118.92146204311155, 6.7949999999999875, 'mse = 0.0\\nsamples = 1\\nvalue = 25.0'),\n",
       " Text(121.43167760074978, 6.7949999999999875, 'mse = 0.0\\nsamples = 1\\nvalue = 25.1'),\n",
       " Text(122.6867853795689, 20.38499999999999, 'mse = 0.0\\nsamples = 1\\nvalue = 25.5'),\n",
       " Text(125.19700093720714, 47.565, 'X[5] <= 74.5\\nmse = 1.0\\nsamples = 2\\nvalue = 24.0'),\n",
       " Text(123.94189315838801, 33.974999999999994, 'mse = 0.0\\nsamples = 1\\nvalue = 25.0'),\n",
       " Text(126.45210871602626, 33.974999999999994, 'mse = 0.0\\nsamples = 1\\nvalue = 23.0'),\n",
       " Text(130.21743205248362, 61.155, 'X[4] <= 14.85\\nmse = 1.037\\nsamples = 6\\nvalue = 23.2'),\n",
       " Text(128.9623242736645, 47.565, 'mse = 0.0\\nsamples = 1\\nvalue = 21.1'),\n",
       " Text(131.47253983130273, 47.565, 'X[3] <= 2619.5\\nmse = 0.186\\nsamples = 5\\nvalue = 23.62'),\n",
       " Text(128.9623242736645, 33.974999999999994, 'X[4] <= 14.95\\nmse = 0.002\\nsamples = 3\\nvalue = 23.967'),\n",
       " Text(127.70721649484537, 20.38499999999999, 'mse = 0.0\\nsamples = 1\\nvalue = 23.9'),\n",
       " Text(130.21743205248362, 20.38499999999999, 'mse = -0.0\\nsamples = 2\\nvalue = 24.0'),\n",
       " Text(133.98275538894097, 33.974999999999994, 'X[5] <= 76.5\\nmse = 0.01\\nsamples = 2\\nvalue = 23.1'),\n",
       " Text(132.72764761012186, 20.38499999999999, 'mse = 0.0\\nsamples = 1\\nvalue = 23.0'),\n",
       " Text(135.23786316776008, 20.38499999999999, 'mse = -0.0\\nsamples = 1\\nvalue = 23.2'),\n",
       " Text(123.94189315838801, 129.10500000000002, 'X[3] <= 2404.5\\nmse = 1.04\\nsamples = 5\\nvalue = 21.6'),\n",
       " Text(121.43167760074978, 115.515, 'X[1] <= 118.5\\nmse = 0.25\\nsamples = 2\\nvalue = 20.5'),\n",
       " Text(120.17656982193066, 101.925, 'mse = 0.0\\nsamples = 1\\nvalue = 20.0'),\n",
       " Text(122.6867853795689, 101.925, 'mse = 0.0\\nsamples = 1\\nvalue = 21.0'),\n",
       " Text(126.45210871602626, 115.515, 'X[5] <= 73.5\\nmse = 0.222\\nsamples = 3\\nvalue = 22.333'),\n",
       " Text(125.19700093720714, 101.925, 'mse = 0.0\\nsamples = 2\\nvalue = 22.0'),\n",
       " Text(127.70721649484537, 101.925, 'mse = 0.0\\nsamples = 1\\nvalue = 23.0'),\n",
       " Text(137.74807872539833, 156.285, 'X[2] <= 107.5\\nmse = 4.339\\nsamples = 11\\nvalue = 19.664'),\n",
       " Text(132.72764761012186, 142.695, 'X[2] <= 86.0\\nmse = 2.388\\nsamples = 6\\nvalue = 21.017'),\n",
       " Text(131.47253983130273, 129.10500000000002, 'mse = 0.0\\nsamples = 1\\nvalue = 23.8'),\n",
       " Text(133.98275538894097, 129.10500000000002, 'X[5] <= 75.5\\nmse = 1.006\\nsamples = 5\\nvalue = 20.46'),\n",
       " Text(131.47253983130273, 115.515, 'X[1] <= 120.5\\nmse = 0.25\\nsamples = 2\\nvalue = 21.5'),\n",
       " Text(130.21743205248362, 101.925, 'mse = 0.0\\nsamples = 1\\nvalue = 21.0'),\n",
       " Text(132.72764761012186, 101.925, 'mse = 0.0\\nsamples = 1\\nvalue = 22.0'),\n",
       " Text(136.49297094657922, 115.515, 'X[4] <= 18.9\\nmse = 0.309\\nsamples = 3\\nvalue = 19.767'),\n",
       " Text(135.23786316776008, 101.925, 'X[0] <= 4.5\\nmse = 0.023\\nsamples = 2\\nvalue = 20.15'),\n",
       " Text(133.98275538894097, 88.33500000000001, 'mse = 0.0\\nsamples = 1\\nvalue = 20.0'),\n",
       " Text(136.49297094657922, 88.33500000000001, 'mse = 0.0\\nsamples = 1\\nvalue = 20.3'),\n",
       " Text(137.74807872539833, 101.925, 'mse = 0.0\\nsamples = 1\\nvalue = 19.0'),\n",
       " Text(142.7685098406748, 142.695, 'X[3] <= 2900.5\\nmse = 1.846\\nsamples = 5\\nvalue = 18.04'),\n",
       " Text(140.25829428303658, 129.10500000000002, 'X[4] <= 14.5\\nmse = 0.25\\nsamples = 2\\nvalue = 19.5'),\n",
       " Text(139.00318650421744, 115.515, 'mse = 0.0\\nsamples = 1\\nvalue = 20.0'),\n",
       " Text(141.5134020618557, 115.515, 'mse = 0.0\\nsamples = 1\\nvalue = 19.0'),\n",
       " Text(145.27872539831304, 129.10500000000002, 'X[1] <= 142.0\\nmse = 0.542\\nsamples = 3\\nvalue = 17.067'),\n",
       " Text(144.02361761949393, 115.515, 'mse = 0.0\\nsamples = 1\\nvalue = 18.0'),\n",
       " Text(146.53383317713215, 115.515, 'X[2] <= 129.0\\nmse = 0.16\\nsamples = 2\\nvalue = 16.6'),\n",
       " Text(145.27872539831304, 101.925, 'mse = 0.0\\nsamples = 1\\nvalue = 17.0'),\n",
       " Text(147.7889409559513, 101.925, 'mse = -0.0\\nsamples = 1\\nvalue = 16.2'),\n",
       " Text(174.38153701968136, 169.875, 'X[3] <= 2377.5\\nmse = 17.794\\nsamples = 48\\nvalue = 30.013'),\n",
       " Text(153.7507029053421, 156.285, 'X[2] <= 73.0\\nmse = 6.509\\nsamples = 12\\nvalue = 34.875'),\n",
       " Text(150.2991565135895, 142.695, 'X[3] <= 2107.5\\nmse = 0.062\\nsamples = 2\\nvalue = 32.15'),\n",
       " Text(149.0440487347704, 129.10500000000002, 'mse = 0.0\\nsamples = 1\\nvalue = 31.9'),\n",
       " Text(151.55426429240865, 129.10500000000002, 'mse = 0.0\\nsamples = 1\\nvalue = 32.4'),\n",
       " Text(157.20224929709468, 142.695, 'X[3] <= 2174.0\\nmse = 6.016\\nsamples = 10\\nvalue = 35.42'),\n",
       " Text(154.06447985004687, 129.10500000000002, 'X[3] <= 2062.0\\nmse = 5.895\\nsamples = 4\\nvalue = 37.3'),\n",
       " Text(151.55426429240865, 115.515, 'X[5] <= 80.5\\nmse = 0.023\\nsamples = 2\\nvalue = 35.85'),\n",
       " Text(150.2991565135895, 101.925, 'mse = 0.0\\nsamples = 1\\nvalue = 35.7'),\n",
       " Text(152.80937207122776, 101.925, 'mse = 0.0\\nsamples = 1\\nvalue = 36.0'),\n",
       " Text(156.5746954076851, 115.515, 'X[5] <= 81.0\\nmse = 7.563\\nsamples = 2\\nvalue = 38.75'),\n",
       " Text(155.319587628866, 101.925, 'mse = 0.0\\nsamples = 1\\nvalue = 41.5'),\n",
       " Text(157.82980318650422, 101.925, 'mse = 0.0\\nsamples = 1\\nvalue = 36.0'),\n",
       " Text(160.34001874414247, 129.10500000000002, 'X[4] <= 12.3\\nmse = 2.169\\nsamples = 6\\nvalue = 34.167'),\n",
       " Text(159.08491096532336, 115.515, 'mse = 0.0\\nsamples = 1\\nvalue = 32.0'),\n",
       " Text(161.5951265229616, 115.515, 'X[5] <= 81.5\\nmse = 1.476\\nsamples = 5\\nvalue = 34.6'),\n",
       " Text(160.34001874414247, 101.925, 'X[4] <= 14.3\\nmse = 0.282\\nsamples = 3\\nvalue = 33.667'),\n",
       " Text(159.08491096532336, 88.33500000000001, 'mse = 0.0\\nsamples = 1\\nvalue = 33.0'),\n",
       " Text(161.5951265229616, 88.33500000000001, 'X[1] <= 102.0\\nmse = 0.09\\nsamples = 2\\nvalue = 34.0'),\n",
       " Text(160.34001874414247, 74.745, 'mse = 0.0\\nsamples = 1\\nvalue = 34.3'),\n",
       " Text(162.85023430178072, 74.745, 'mse = 0.0\\nsamples = 1\\nvalue = 33.7'),\n",
       " Text(162.85023430178072, 101.925, 'mse = 0.0\\nsamples = 2\\nvalue = 36.0'),\n",
       " Text(195.01237113402064, 156.285, 'X[3] <= 2722.5\\nmse = 11.048\\nsamples = 36\\nvalue = 28.392'),\n",
       " Text(179.16663542642925, 142.695, 'X[0] <= 3.5\\nmse = 9.553\\nsamples = 23\\nvalue = 29.609'),\n",
       " Text(177.91152764761014, 129.10500000000002, 'mse = 0.0\\nsamples = 1\\nvalue = 23.7'),\n",
       " Text(180.4217432052484, 129.10500000000002, 'X[3] <= 2617.5\\nmse = 8.328\\nsamples = 22\\nvalue = 29.877'),\n",
       " Text(173.51865042174322, 115.515, 'X[5] <= 80.5\\nmse = 8.799\\nsamples = 10\\nvalue = 31.49'),\n",
       " Text(169.12577319587632, 101.925, 'X[3] <= 2521.0\\nmse = 4.345\\nsamples = 4\\nvalue = 34.2'),\n",
       " Text(166.61555763823807, 88.33500000000001, 'X[4] <= 15.05\\nmse = 1.0\\nsamples = 2\\nvalue = 36.0'),\n",
       " Text(165.36044985941896, 74.745, 'mse = 0.0\\nsamples = 1\\nvalue = 37.0'),\n",
       " Text(167.87066541705718, 74.745, 'mse = 0.0\\nsamples = 1\\nvalue = 35.0'),\n",
       " Text(171.63598875351454, 88.33500000000001, 'X[2] <= 82.5\\nmse = 1.21\\nsamples = 2\\nvalue = 32.4'),\n",
       " Text(170.38088097469543, 74.745, 'mse = 0.0\\nsamples = 1\\nvalue = 31.3'),\n",
       " Text(172.89109653233368, 74.745, 'mse = 0.0\\nsamples = 1\\nvalue = 33.5'),\n",
       " Text(177.91152764761014, 101.925, 'X[3] <= 2610.0\\nmse = 3.608\\nsamples = 6\\nvalue = 29.683'),\n",
       " Text(176.65641986879103, 88.33500000000001, 'X[2] <= 86.5\\nmse = 1.846\\nsamples = 5\\nvalue = 29.04'),\n",
       " Text(175.4013120899719, 74.745, 'X[3] <= 2550.0\\nmse = 1.97\\nsamples = 4\\nvalue = 29.3'),\n",
       " Text(174.1462043111528, 61.155, 'X[4] <= 14.3\\nmse = 1.342\\nsamples = 3\\nvalue = 28.733'),\n",
       " Text(172.89109653233368, 47.565, 'mse = 0.0\\nsamples = 1\\nvalue = 30.0'),\n",
       " Text(175.4013120899719, 47.565, 'X[3] <= 2507.5\\nmse = 0.81\\nsamples = 2\\nvalue = 28.1'),\n",
       " Text(174.1462043111528, 33.974999999999994, 'mse = 0.0\\nsamples = 1\\nvalue = 27.2'),\n",
       " Text(176.65641986879103, 33.974999999999994, 'mse = -0.0\\nsamples = 1\\nvalue = 29.0'),\n",
       " Text(176.65641986879103, 61.155, 'mse = 0.0\\nsamples = 1\\nvalue = 31.0'),\n",
       " Text(177.91152764761014, 74.745, 'mse = 0.0\\nsamples = 1\\nvalue = 28.0'),\n",
       " Text(179.16663542642925, 88.33500000000001, 'mse = -0.0\\nsamples = 1\\nvalue = 32.9'),\n",
       " Text(187.32483598875353, 115.515, 'X[1] <= 147.5\\nmse = 3.962\\nsamples = 12\\nvalue = 28.533'),\n",
       " Text(182.9319587628866, 101.925, 'X[1] <= 115.5\\nmse = 3.7\\nsamples = 7\\nvalue = 29.543'),\n",
       " Text(181.6768509840675, 88.33500000000001, 'mse = 0.0\\nsamples = 1\\nvalue = 27.0'),\n",
       " Text(184.18706654170575, 88.33500000000001, 'X[5] <= 79.5\\nmse = 3.059\\nsamples = 6\\nvalue = 29.967'),\n",
       " Text(182.9319587628866, 74.745, 'mse = 0.0\\nsamples = 1\\nvalue = 27.4'),\n",
       " Text(185.44217432052486, 74.745, 'X[3] <= 2630.0\\nmse = 2.09\\nsamples = 5\\nvalue = 30.48'),\n",
       " Text(184.18706654170575, 61.155, 'mse = 0.0\\nsamples = 1\\nvalue = 28.0'),\n",
       " Text(186.69728209934397, 61.155, 'X[5] <= 80.5\\nmse = 0.69\\nsamples = 4\\nvalue = 31.1'),\n",
       " Text(185.44217432052486, 47.565, 'mse = 0.0\\nsamples = 1\\nvalue = 29.8'),\n",
       " Text(187.9523898781631, 47.565, 'X[3] <= 2692.5\\nmse = 0.169\\nsamples = 3\\nvalue = 31.533'),\n",
       " Text(186.69728209934397, 33.974999999999994, 'X[5] <= 81.5\\nmse = 0.04\\nsamples = 2\\nvalue = 31.8'),\n",
       " Text(185.44217432052486, 20.38499999999999, 'mse = 0.0\\nsamples = 1\\nvalue = 31.6'),\n",
       " Text(187.9523898781631, 20.38499999999999, 'mse = -0.0\\nsamples = 1\\nvalue = 32.0'),\n",
       " Text(189.2074976569822, 33.974999999999994, 'mse = 0.0\\nsamples = 1\\nvalue = 31.0'),\n",
       " Text(191.71771321462046, 101.925, 'X[3] <= 2652.5\\nmse = 0.906\\nsamples = 5\\nvalue = 27.12'),\n",
       " Text(189.2074976569822, 88.33500000000001, 'X[3] <= 2627.5\\nmse = 0.16\\nsamples = 2\\nvalue = 26.2'),\n",
       " Text(187.9523898781631, 74.745, 'mse = 0.0\\nsamples = 1\\nvalue = 25.8'),\n",
       " Text(190.46260543580132, 74.745, 'mse = -0.0\\nsamples = 1\\nvalue = 26.6'),\n",
       " Text(194.22792877225868, 88.33500000000001, 'X[1] <= 162.0\\nmse = 0.462\\nsamples = 3\\nvalue = 27.733'),\n",
       " Text(192.97282099343957, 74.745, 'X[4] <= 16.25\\nmse = 0.04\\nsamples = 2\\nvalue = 28.2'),\n",
       " Text(191.71771321462046, 61.155, 'mse = 0.0\\nsamples = 1\\nvalue = 28.4'),\n",
       " Text(194.22792877225868, 61.155, 'mse = 0.0\\nsamples = 1\\nvalue = 28.0'),\n",
       " Text(195.48303655107782, 74.745, 'mse = 0.0\\nsamples = 1\\nvalue = 26.8'),\n",
       " Text(210.85810684161203, 142.695, 'X[2] <= 126.0\\nmse = 6.436\\nsamples = 13\\nvalue = 26.238'),\n",
       " Text(209.6029990627929, 129.10500000000002, 'X[4] <= 17.65\\nmse = 3.203\\nsamples = 12\\nvalue = 25.7'),\n",
       " Text(202.38612933458296, 115.515, 'X[1] <= 148.5\\nmse = 3.383\\nsamples = 7\\nvalue = 24.9'),\n",
       " Text(197.99325210871604, 101.925, 'X[2] <= 90.0\\nmse = 0.727\\nsamples = 3\\nvalue = 23.5'),\n",
       " Text(196.73814432989693, 88.33500000000001, 'mse = 0.0\\nsamples = 1\\nvalue = 22.3'),\n",
       " Text(199.24835988753517, 88.33500000000001, 'X[4] <= 15.1\\nmse = 0.01\\nsamples = 2\\nvalue = 24.1'),\n",
       " Text(197.99325210871604, 74.745, 'mse = 0.0\\nsamples = 1\\nvalue = 24.2'),\n",
       " Text(200.50346766635428, 74.745, 'mse = -0.0\\nsamples = 1\\nvalue = 24.0'),\n",
       " Text(206.7790065604499, 101.925, 'X[2] <= 107.5\\nmse = 2.802\\nsamples = 4\\nvalue = 25.95'),\n",
       " Text(204.26879100281164, 88.33500000000001, 'X[2] <= 97.5\\nmse = 0.202\\nsamples = 2\\nvalue = 27.45'),\n",
       " Text(203.01368322399253, 74.745, 'mse = 0.0\\nsamples = 1\\nvalue = 27.0'),\n",
       " Text(205.52389878163078, 74.745, 'mse = -0.0\\nsamples = 1\\nvalue = 27.9'),\n",
       " Text(209.28922211808813, 88.33500000000001, 'X[2] <= 113.0\\nmse = 0.902\\nsamples = 2\\nvalue = 24.45'),\n",
       " Text(208.034114339269, 74.745, 'mse = 0.0\\nsamples = 1\\nvalue = 23.5'),\n",
       " Text(210.54432989690724, 74.745, 'mse = -0.0\\nsamples = 1\\nvalue = 25.4'),\n",
       " Text(216.81986879100285, 115.515, 'X[0] <= 4.5\\nmse = 0.802\\nsamples = 5\\nvalue = 26.82'),\n",
       " Text(215.5647610121837, 101.925, 'X[3] <= 3210.0\\nmse = 0.372\\nsamples = 4\\nvalue = 27.175'),\n",
       " Text(214.3096532333646, 88.33500000000001, 'X[1] <= 140.5\\nmse = 0.116\\nsamples = 3\\nvalue = 26.867'),\n",
       " Text(213.0545454545455, 74.745, 'mse = 0.0\\nsamples = 1\\nvalue = 26.4'),\n",
       " Text(215.5647610121837, 74.745, 'X[5] <= 80.5\\nmse = 0.01\\nsamples = 2\\nvalue = 27.1'),\n",
       " Text(214.3096532333646, 61.155, 'mse = 0.0\\nsamples = 1\\nvalue = 27.2'),\n",
       " Text(216.81986879100285, 61.155, 'mse = -0.0\\nsamples = 1\\nvalue = 27.0'),\n",
       " Text(216.81986879100285, 88.33500000000001, 'mse = 0.0\\nsamples = 1\\nvalue = 28.1'),\n",
       " Text(218.07497656982196, 101.925, 'mse = -0.0\\nsamples = 1\\nvalue = 25.4'),\n",
       " Text(212.11321462043114, 129.10500000000002, 'mse = 0.0\\nsamples = 1\\nvalue = 32.7'),\n",
       " Text(284.38977272727277, 197.055, 'X[2] <= 127.0\\nmse = 13.928\\nsamples = 135\\nvalue = 16.839'),\n",
       " Text(261.61152764761016, 183.465, 'X[5] <= 81.5\\nmse = 10.757\\nsamples = 60\\nvalue = 19.673'),\n",
       " Text(255.25754451733837, 169.875, 'X[1] <= 327.0\\nmse = 5.117\\nsamples = 58\\nvalue = 19.317'),\n",
       " Text(246.31490159325213, 156.285, 'X[3] <= 3431.0\\nmse = 4.072\\nsamples = 56\\nvalue = 19.121'),\n",
       " Text(232.19493908153706, 142.695, 'X[1] <= 231.5\\nmse = 3.495\\nsamples = 39\\nvalue = 19.774'),\n",
       " Text(222.78163074039367, 129.10500000000002, 'X[2] <= 83.0\\nmse = 2.261\\nsamples = 19\\nvalue = 20.642'),\n",
       " Text(221.52652296157453, 115.515, 'mse = 0.0\\nsamples = 1\\nvalue = 24.0'),\n",
       " Text(224.03673851921278, 115.515, 'X[1] <= 198.5\\nmse = 1.726\\nsamples = 18\\nvalue = 20.456'),\n",
       " Text(220.5851921274602, 101.925, 'X[5] <= 71.5\\nmse = 0.25\\nsamples = 2\\nvalue = 22.5'),\n",
       " Text(219.33008434864107, 88.33500000000001, 'mse = 0.0\\nsamples = 1\\nvalue = 22.0'),\n",
       " Text(221.8402999062793, 88.33500000000001, 'mse = 0.0\\nsamples = 1\\nvalue = 23.0'),\n",
       " Text(227.48828491096535, 101.925, 'X[1] <= 228.0\\nmse = 1.323\\nsamples = 16\\nvalue = 20.2'),\n",
       " Text(224.35051546391756, 88.33500000000001, 'X[3] <= 2711.0\\nmse = 1.023\\nsamples = 13\\nvalue = 19.9'),\n",
       " Text(223.09540768509842, 74.745, 'mse = 0.0\\nsamples = 2\\nvalue = 21.0'),\n",
       " Text(225.60562324273667, 74.745, 'X[5] <= 76.5\\nmse = 0.949\\nsamples = 11\\nvalue = 19.7'),\n",
       " Text(223.09540768509842, 61.155, 'X[5] <= 74.0\\nmse = 0.222\\nsamples = 3\\nvalue = 18.333'),\n",
       " Text(221.8402999062793, 47.565, 'mse = 0.0\\nsamples = 2\\nvalue = 18.0'),\n",
       " Text(224.35051546391756, 47.565, 'mse = 0.0\\nsamples = 1\\nvalue = 19.0'),\n",
       " Text(228.11583880037492, 61.155, 'X[4] <= 18.45\\nmse = 0.259\\nsamples = 8\\nvalue = 20.212'),\n",
       " Text(226.86073102155578, 47.565, 'X[3] <= 3065.0\\nmse = 0.093\\nsamples = 7\\nvalue = 20.371'),\n",
       " Text(224.35051546391756, 33.974999999999994, 'X[4] <= 17.65\\nmse = 0.036\\nsamples = 3\\nvalue = 20.067'),\n",
       " Text(223.09540768509842, 20.38499999999999, 'mse = -0.0\\nsamples = 2\\nvalue = 20.2'),\n",
       " Text(225.60562324273667, 20.38499999999999, 'mse = 0.0\\nsamples = 1\\nvalue = 19.8'),\n",
       " Text(229.37094657919403, 33.974999999999994, 'X[2] <= 90.0\\nmse = 0.015\\nsamples = 4\\nvalue = 20.6'),\n",
       " Text(228.11583880037492, 20.38499999999999, 'mse = 0.0\\nsamples = 1\\nvalue = 20.8'),\n",
       " Text(230.62605435801314, 20.38499999999999, 'X[4] <= 16.9\\nmse = 0.002\\nsamples = 3\\nvalue = 20.533'),\n",
       " Text(229.37094657919403, 6.7949999999999875, 'mse = 0.0\\nsamples = 1\\nvalue = 20.6'),\n",
       " Text(231.88116213683227, 6.7949999999999875, 'mse = 0.0\\nsamples = 2\\nvalue = 20.5'),\n",
       " Text(229.37094657919403, 47.565, 'mse = 0.0\\nsamples = 1\\nvalue = 19.1'),\n",
       " Text(230.62605435801314, 88.33500000000001, 'X[2] <= 107.5\\nmse = 0.54\\nsamples = 3\\nvalue = 21.5'),\n",
       " Text(229.37094657919403, 74.745, 'mse = 0.0\\nsamples = 1\\nvalue = 20.6'),\n",
       " Text(231.88116213683227, 74.745, 'X[5] <= 80.0\\nmse = 0.202\\nsamples = 2\\nvalue = 21.95'),\n",
       " Text(230.62605435801314, 61.155, 'mse = 0.0\\nsamples = 1\\nvalue = 21.5'),\n",
       " Text(233.13626991565138, 61.155, 'mse = 0.0\\nsamples = 1\\nvalue = 22.4'),\n",
       " Text(241.60824742268045, 129.10500000000002, 'X[4] <= 20.85\\nmse = 3.272\\nsamples = 20\\nvalue = 18.95'),\n",
       " Text(240.3531396438613, 115.515, 'X[2] <= 80.0\\nmse = 2.086\\nsamples = 19\\nvalue = 18.689'),\n",
       " Text(239.0980318650422, 101.925, 'mse = 0.0\\nsamples = 1\\nvalue = 15.0'),\n",
       " Text(241.60824742268045, 101.925, 'X[5] <= 74.0\\nmse = 1.404\\nsamples = 18\\nvalue = 18.894'),\n",
       " Text(238.15670103092785, 88.33500000000001, 'X[3] <= 3315.5\\nmse = 0.395\\nsamples = 9\\nvalue = 18.222'),\n",
       " Text(236.90159325210874, 74.745, 'X[4] <= 13.25\\nmse = 0.234\\nsamples = 8\\nvalue = 18.375'),\n",
       " Text(235.64648547328963, 61.155, 'mse = 0.0\\nsamples = 1\\nvalue = 19.0'),\n",
       " Text(238.15670103092785, 61.155, 'X[3] <= 3210.5\\nmse = 0.204\\nsamples = 7\\nvalue = 18.286'),\n",
       " Text(236.90159325210874, 47.565, 'mse = 0.0\\nsamples = 4\\nvalue = 18.0'),\n",
       " Text(239.411808809747, 47.565, 'X[1] <= 241.0\\nmse = 0.222\\nsamples = 3\\nvalue = 18.667'),\n",
       " Text(238.15670103092785, 33.974999999999994, 'mse = 0.0\\nsamples = 1\\nvalue = 18.0'),\n",
       " Text(240.6669165885661, 33.974999999999994, 'mse = 0.0\\nsamples = 2\\nvalue = 19.0'),\n",
       " Text(239.411808809747, 74.745, 'mse = 0.0\\nsamples = 1\\nvalue = 17.0'),\n",
       " Text(245.05979381443302, 88.33500000000001, 'X[4] <= 14.8\\nmse = 1.509\\nsamples = 9\\nvalue = 19.567'),\n",
       " Text(241.92202436738523, 74.745, 'X[4] <= 14.0\\nmse = 1.0\\nsamples = 2\\nvalue = 21.0'),\n",
       " Text(240.6669165885661, 61.155, 'mse = 0.0\\nsamples = 1\\nvalue = 20.0'),\n",
       " Text(243.17713214620434, 61.155, 'mse = 0.0\\nsamples = 1\\nvalue = 22.0'),\n",
       " Text(248.1975632614808, 74.745, 'X[1] <= 245.0\\nmse = 0.9\\nsamples = 7\\nvalue = 19.157'),\n",
       " Text(245.6873477038426, 61.155, 'X[5] <= 78.5\\nmse = 0.227\\nsamples = 4\\nvalue = 19.65'),\n",
       " Text(244.43223992502345, 47.565, 'X[4] <= 16.5\\nmse = 0.169\\nsamples = 3\\nvalue = 19.467'),\n",
       " Text(243.17713214620434, 33.974999999999994, 'mse = 0.0\\nsamples = 1\\nvalue = 20.0'),\n",
       " Text(245.6873477038426, 33.974999999999994, 'X[3] <= 3210.5\\nmse = 0.04\\nsamples = 2\\nvalue = 19.2'),\n",
       " Text(244.43223992502345, 20.38499999999999, 'mse = 0.0\\nsamples = 1\\nvalue = 19.4'),\n",
       " Text(246.9424554826617, 20.38499999999999, 'mse = -0.0\\nsamples = 1\\nvalue = 19.0'),\n",
       " Text(246.9424554826617, 47.565, 'mse = -0.0\\nsamples = 1\\nvalue = 20.2'),\n",
       " Text(250.70777881911906, 61.155, 'X[0] <= 7.0\\nmse = 1.04\\nsamples = 3\\nvalue = 18.5'),\n",
       " Text(249.45267104029995, 47.565, 'X[5] <= 77.0\\nmse = 0.09\\nsamples = 2\\nvalue = 17.8'),\n",
       " Text(248.1975632614808, 33.974999999999994, 'mse = 0.0\\nsamples = 1\\nvalue = 17.5'),\n",
       " Text(250.70777881911906, 33.974999999999994, 'mse = 0.0\\nsamples = 1\\nvalue = 18.1'),\n",
       " Text(251.96288659793817, 47.565, 'mse = -0.0\\nsamples = 1\\nvalue = 19.9'),\n",
       " Text(242.86335520149956, 115.515, 'mse = 0.0\\nsamples = 1\\nvalue = 23.9'),\n",
       " Text(260.43486410496723, 142.695, 'X[3] <= 3690.5\\nmse = 2.176\\nsamples = 17\\nvalue = 17.624'),\n",
       " Text(256.3557638238051, 129.10500000000002, 'X[4] <= 20.1\\nmse = 1.446\\nsamples = 12\\nvalue = 18.258'),\n",
       " Text(255.10065604498598, 115.515, 'X[3] <= 3522.5\\nmse = 0.524\\nsamples = 11\\nvalue = 18.555'),\n",
       " Text(250.70777881911906, 101.925, 'X[3] <= 3462.0\\nmse = 0.047\\nsamples = 3\\nvalue = 17.7'),\n",
       " Text(249.45267104029995, 88.33500000000001, 'mse = 0.0\\nsamples = 1\\nvalue = 18.0'),\n",
       " Text(251.96288659793817, 88.33500000000001, 'X[3] <= 3492.5\\nmse = 0.002\\nsamples = 2\\nvalue = 17.55'),\n",
       " Text(250.70777881911906, 74.745, 'mse = 0.0\\nsamples = 1\\nvalue = 17.6'),\n",
       " Text(253.2179943767573, 74.745, 'mse = -0.0\\nsamples = 1\\nvalue = 17.5'),\n",
       " Text(259.4935332708529, 101.925, 'X[3] <= 3648.0\\nmse = 0.327\\nsamples = 8\\nvalue = 18.875'),\n",
       " Text(258.23842549203374, 88.33500000000001, 'X[5] <= 76.5\\nmse = 0.167\\nsamples = 7\\nvalue = 18.714'),\n",
       " Text(255.72820993439552, 74.745, 'X[2] <= 107.5\\nmse = 0.062\\nsamples = 2\\nvalue = 18.25'),\n",
       " Text(254.4731021555764, 61.155, 'mse = 0.0\\nsamples = 1\\nvalue = 18.0'),\n",
       " Text(256.98331771321466, 61.155, 'mse = 0.0\\nsamples = 1\\nvalue = 18.5'),\n",
       " Text(260.748641049672, 74.745, 'X[3] <= 3530.0\\nmse = 0.088\\nsamples = 5\\nvalue = 18.9'),\n",
       " Text(259.4935332708529, 61.155, 'mse = 0.0\\nsamples = 1\\nvalue = 18.5'),\n",
       " Text(262.00374882849115, 61.155, 'X[1] <= 228.0\\nmse = 0.06\\nsamples = 4\\nvalue = 19.0'),\n",
       " Text(260.748641049672, 47.565, 'X[3] <= 3625.0\\nmse = 0.04\\nsamples = 2\\nvalue = 18.8'),\n",
       " Text(259.4935332708529, 33.974999999999994, 'mse = 0.0\\nsamples = 1\\nvalue = 18.6'),\n",
       " Text(262.00374882849115, 33.974999999999994, 'mse = 0.0\\nsamples = 1\\nvalue = 19.0'),\n",
       " Text(263.25885660731024, 47.565, 'mse = 0.0\\nsamples = 2\\nvalue = 19.2'),\n",
       " Text(260.748641049672, 88.33500000000001, 'mse = 0.0\\nsamples = 1\\nvalue = 20.0'),\n",
       " Text(257.61087160262423, 115.515, 'mse = 0.0\\nsamples = 1\\nvalue = 15.0'),\n",
       " Text(264.5139643861294, 129.10500000000002, 'X[3] <= 3813.5\\nmse = 0.64\\nsamples = 5\\nvalue = 16.1'),\n",
       " Text(263.25885660731024, 115.515, 'mse = 0.0\\nsamples = 1\\nvalue = 15.0'),\n",
       " Text(265.7690721649485, 115.515, 'X[4] <= 18.75\\nmse = 0.422\\nsamples = 4\\nvalue = 16.375'),\n",
       " Text(264.5139643861294, 101.925, 'X[1] <= 277.0\\nmse = 0.062\\nsamples = 2\\nvalue = 15.75'),\n",
       " Text(263.25885660731024, 88.33500000000001, 'mse = 0.0\\nsamples = 1\\nvalue = 16.0'),\n",
       " Text(265.7690721649485, 88.33500000000001, 'mse = 0.0\\nsamples = 1\\nvalue = 15.5'),\n",
       " Text(267.0241799437676, 101.925, 'mse = 0.0\\nsamples = 2\\nvalue = 17.0'),\n",
       " Text(264.2001874414246, 156.285, 'X[2] <= 115.0\\nmse = 3.24\\nsamples = 2\\nvalue = 24.8'),\n",
       " Text(262.94507966260545, 142.695, 'mse = 0.0\\nsamples = 1\\nvalue = 26.6'),\n",
       " Text(265.4552952202437, 142.695, 'mse = -0.0\\nsamples = 1\\nvalue = 23.0'),\n",
       " Text(267.96551077788195, 169.875, 'X[4] <= 15.85\\nmse = 64.0\\nsamples = 2\\nvalue = 30.0'),\n",
       " Text(266.7104029990628, 156.285, 'mse = 0.0\\nsamples = 1\\nvalue = 22.0'),\n",
       " Text(269.2206185567011, 156.285, 'mse = 0.0\\nsamples = 1\\nvalue = 38.0'),\n",
       " Text(307.1680178069354, 183.465, 'X[5] <= 76.5\\nmse = 4.899\\nsamples = 75\\nvalue = 14.572'),\n",
       " Text(292.4008903467667, 169.875, 'X[3] <= 4683.5\\nmse = 3.142\\nsamples = 60\\nvalue = 13.858'),\n",
       " Text(283.8896907216495, 156.285, 'X[2] <= 152.5\\nmse = 2.639\\nsamples = 51\\nvalue = 14.206'),\n",
       " Text(275.1823805060919, 142.695, 'X[5] <= 70.5\\nmse = 2.34\\nsamples = 27\\nvalue = 14.778'),\n",
       " Text(272.0446110590441, 129.10500000000002, 'X[1] <= 359.0\\nmse = 1.688\\nsamples = 4\\nvalue = 16.75'),\n",
       " Text(270.78950328022495, 115.515, 'X[1] <= 305.5\\nmse = 0.889\\nsamples = 3\\nvalue = 17.333'),\n",
       " Text(269.53439550140587, 101.925, 'mse = 0.0\\nsamples = 1\\nvalue = 16.0'),\n",
       " Text(272.0446110590441, 101.925, 'mse = 0.0\\nsamples = 2\\nvalue = 18.0'),\n",
       " Text(273.2997188378632, 115.515, 'mse = 0.0\\nsamples = 1\\nvalue = 15.0'),\n",
       " Text(278.32014995313966, 129.10500000000002, 'X[2] <= 133.5\\nmse = 1.659\\nsamples = 23\\nvalue = 14.435'),\n",
       " Text(277.0650421743206, 115.515, 'mse = 0.0\\nsamples = 3\\nvalue = 13.0'),\n",
       " Text(279.5752577319588, 115.515, 'X[1] <= 311.5\\nmse = 1.553\\nsamples = 20\\nvalue = 14.65'),\n",
       " Text(274.5548266166823, 101.925, 'X[4] <= 14.25\\nmse = 2.133\\nsamples = 7\\nvalue = 15.214'),\n",
       " Text(273.2997188378632, 88.33500000000001, 'X[3] <= 4178.0\\nmse = 1.797\\nsamples = 4\\nvalue = 16.125'),\n",
       " Text(272.0446110590441, 74.745, 'X[5] <= 72.5\\nmse = 1.556\\nsamples = 3\\nvalue = 15.667'),\n",
       " Text(270.78950328022495, 61.155, 'mse = 0.0\\nsamples = 1\\nvalue = 17.0'),\n",
       " Text(273.2997188378632, 61.155, 'X[4] <= 12.75\\nmse = 1.0\\nsamples = 2\\nvalue = 15.0'),\n",
       " Text(272.0446110590441, 47.565, 'mse = 0.0\\nsamples = 1\\nvalue = 14.0'),\n",
       " Text(274.5548266166823, 47.565, 'mse = 0.0\\nsamples = 1\\nvalue = 16.0'),\n",
       " Text(274.5548266166823, 74.745, 'mse = 0.0\\nsamples = 1\\nvalue = 17.5'),\n",
       " Text(275.80993439550144, 88.33500000000001, 'mse = 0.0\\nsamples = 3\\nvalue = 14.0'),\n",
       " Text(284.5956888472353, 101.925, 'X[4] <= 14.25\\nmse = 0.976\\nsamples = 13\\nvalue = 14.346'),\n",
       " Text(283.34058106841616, 88.33500000000001, 'X[1] <= 375.5\\nmse = 0.811\\nsamples = 12\\nvalue = 14.208'),\n",
       " Text(282.085473289597, 74.745, 'X[3] <= 4079.5\\nmse = 0.74\\nsamples = 11\\nvalue = 14.318'),\n",
       " Text(278.32014995313966, 61.155, 'X[3] <= 3858.5\\nmse = 0.688\\nsamples = 4\\nvalue = 13.75'),\n",
       " Text(277.0650421743206, 47.565, 'mse = 0.0\\nsamples = 1\\nvalue = 15.0'),\n",
       " Text(279.5752577319588, 47.565, 'X[3] <= 4032.5\\nmse = 0.222\\nsamples = 3\\nvalue = 13.333'),\n",
       " Text(278.32014995313966, 33.974999999999994, 'mse = 0.0\\nsamples = 2\\nvalue = 13.0'),\n",
       " Text(280.83036551077794, 33.974999999999994, 'mse = 0.0\\nsamples = 1\\nvalue = 14.0'),\n",
       " Text(285.8507966260544, 61.155, 'X[3] <= 4448.5\\nmse = 0.48\\nsamples = 7\\nvalue = 14.643'),\n",
       " Text(284.5956888472353, 47.565, 'X[5] <= 72.0\\nmse = 0.44\\nsamples = 5\\nvalue = 14.9'),\n",
       " Text(283.34058106841616, 33.974999999999994, 'mse = 0.0\\nsamples = 1\\nvalue = 14.0'),\n",
       " Text(285.8507966260544, 33.974999999999994, 'X[1] <= 334.0\\nmse = 0.297\\nsamples = 4\\nvalue = 15.125'),\n",
       " Text(284.5956888472353, 20.38499999999999, 'mse = 0.0\\nsamples = 1\\nvalue = 16.0'),\n",
       " Text(287.1059044048735, 20.38499999999999, 'X[1] <= 350.5\\nmse = 0.056\\nsamples = 3\\nvalue = 14.833'),\n",
       " Text(285.8507966260544, 6.7949999999999875, 'mse = 0.0\\nsamples = 2\\nvalue = 15.0'),\n",
       " Text(288.36101218369265, 6.7949999999999875, 'mse = 0.0\\nsamples = 1\\nvalue = 14.5'),\n",
       " Text(287.1059044048735, 47.565, 'mse = 0.0\\nsamples = 2\\nvalue = 14.0'),\n",
       " Text(284.5956888472353, 74.745, 'mse = 0.0\\nsamples = 1\\nvalue = 13.0'),\n",
       " Text(285.8507966260544, 88.33500000000001, 'mse = 0.0\\nsamples = 1\\nvalue = 16.0'),\n",
       " Text(292.59700093720716, 142.695, 'X[1] <= 329.0\\nmse = 2.194\\nsamples = 24\\nvalue = 13.562'),\n",
       " Text(288.98856607310216, 129.10500000000002, 'X[3] <= 4379.0\\nmse = 0.25\\nsamples = 2\\nvalue = 10.5'),\n",
       " Text(287.7334582942831, 115.515, 'mse = 0.0\\nsamples = 1\\nvalue = 10.0'),\n",
       " Text(290.2436738519213, 115.515, 'mse = 0.0\\nsamples = 1\\nvalue = 11.0'),\n",
       " Text(296.20543580131215, 129.10500000000002, 'X[5] <= 74.0\\nmse = 1.441\\nsamples = 22\\nvalue = 13.841'),\n",
       " Text(292.7538894095595, 115.515, 'X[5] <= 71.5\\nmse = 0.94\\nsamples = 20\\nvalue = 13.6'),\n",
       " Text(289.61611996251173, 101.925, 'X[1] <= 434.5\\nmse = 0.21\\nsamples = 10\\nvalue = 14.3'),\n",
       " Text(288.36101218369265, 88.33500000000001, 'X[2] <= 162.5\\nmse = 0.25\\nsamples = 6\\nvalue = 14.5'),\n",
       " Text(287.1059044048735, 74.745, 'mse = 0.0\\nsamples = 2\\nvalue = 14.0'),\n",
       " Text(289.61611996251173, 74.745, 'X[5] <= 70.5\\nmse = 0.188\\nsamples = 4\\nvalue = 14.75'),\n",
       " Text(288.36101218369265, 61.155, 'mse = 0.0\\nsamples = 3\\nvalue = 15.0'),\n",
       " Text(290.87122774133087, 61.155, 'mse = 0.0\\nsamples = 1\\nvalue = 14.0'),\n",
       " Text(290.87122774133087, 88.33500000000001, 'mse = 0.0\\nsamples = 4\\nvalue = 14.0'),\n",
       " Text(295.89165885660736, 101.925, 'X[3] <= 3742.5\\nmse = 0.69\\nsamples = 10\\nvalue = 12.9'),\n",
       " Text(294.6365510777882, 88.33500000000001, 'mse = 0.0\\nsamples = 1\\nvalue = 11.0'),\n",
       " Text(297.14676663542645, 88.33500000000001, 'X[2] <= 177.5\\nmse = 0.321\\nsamples = 9\\nvalue = 13.111'),\n",
       " Text(294.6365510777882, 74.745, 'X[2] <= 154.0\\nmse = 0.204\\nsamples = 7\\nvalue = 13.286'),\n",
       " Text(293.3814432989691, 61.155, 'mse = 0.0\\nsamples = 1\\nvalue = 14.0'),\n",
       " Text(295.89165885660736, 61.155, 'X[1] <= 380.0\\nmse = 0.139\\nsamples = 6\\nvalue = 13.167'),\n",
       " Text(294.6365510777882, 47.565, 'mse = 0.0\\nsamples = 5\\nvalue = 13.0'),\n",
       " Text(297.14676663542645, 47.565, 'mse = 0.0\\nsamples = 1\\nvalue = 14.0'),\n",
       " Text(299.6569821930647, 74.745, 'X[2] <= 185.0\\nmse = 0.25\\nsamples = 2\\nvalue = 12.5'),\n",
       " Text(298.4018744142456, 61.155, 'mse = 0.0\\nsamples = 1\\nvalue = 12.0'),\n",
       " Text(300.9120899718838, 61.155, 'mse = 0.0\\nsamples = 1\\nvalue = 13.0'),\n",
       " Text(299.6569821930647, 115.515, 'X[1] <= 375.0\\nmse = 0.062\\nsamples = 2\\nvalue = 16.25'),\n",
       " Text(298.4018744142456, 101.925, 'mse = 0.0\\nsamples = 1\\nvalue = 16.5'),\n",
       " Text(300.9120899718838, 101.925, 'mse = 0.0\\nsamples = 1\\nvalue = 16.0'),\n",
       " Text(300.9120899718838, 156.285, 'X[5] <= 70.5\\nmse = 1.432\\nsamples = 9\\nvalue = 11.889'),\n",
       " Text(299.6569821930647, 142.695, 'mse = 0.0\\nsamples = 1\\nvalue = 9.0'),\n",
       " Text(302.16719775070294, 142.695, 'X[3] <= 4826.0\\nmse = 0.438\\nsamples = 8\\nvalue = 12.25'),\n",
       " Text(300.9120899718838, 129.10500000000002, 'mse = 0.0\\nsamples = 3\\nvalue = 13.0'),\n",
       " Text(303.4223055295221, 129.10500000000002, 'X[3] <= 4976.0\\nmse = 0.16\\nsamples = 5\\nvalue = 11.8'),\n",
       " Text(302.16719775070294, 115.515, 'mse = 0.0\\nsamples = 4\\nvalue = 12.0'),\n",
       " Text(304.67741330834116, 115.515, 'mse = 0.0\\nsamples = 1\\nvalue = 11.0'),\n",
       " Text(321.9351452671041, 169.875, 'X[3] <= 3947.5\\nmse = 1.741\\nsamples = 15\\nvalue = 17.427'),\n",
       " Text(316.6009372071228, 156.285, 'X[4] <= 13.3\\nmse = 0.848\\nsamples = 9\\nvalue = 18.222'),\n",
       " Text(310.9529522024368, 142.695, 'X[4] <= 12.65\\nmse = 0.868\\nsamples = 5\\nvalue = 18.7'),\n",
       " Text(308.4427366447985, 129.10500000000002, 'X[3] <= 3542.5\\nmse = 0.09\\nsamples = 2\\nvalue = 17.8'),\n",
       " Text(307.18762886597943, 115.515, 'mse = 0.0\\nsamples = 1\\nvalue = 18.1'),\n",
       " Text(309.69784442361765, 115.515, 'mse = 0.0\\nsamples = 1\\nvalue = 17.5'),\n",
       " Text(313.463167760075, 129.10500000000002, 'X[4] <= 12.9\\nmse = 0.487\\nsamples = 3\\nvalue = 19.3'),\n",
       " Text(312.2080599812559, 115.515, 'mse = 0.0\\nsamples = 1\\nvalue = 20.2'),\n",
       " Text(314.71827553889415, 115.515, 'X[5] <= 78.5\\nmse = 0.122\\nsamples = 2\\nvalue = 18.85'),\n",
       " Text(313.463167760075, 101.925, 'mse = 0.0\\nsamples = 1\\nvalue = 19.2'),\n",
       " Text(315.9733833177132, 101.925, 'mse = -0.0\\nsamples = 1\\nvalue = 18.5'),\n",
       " Text(322.24892221180886, 142.695, 'X[3] <= 3835.0\\nmse = 0.182\\nsamples = 4\\nvalue = 17.625'),\n",
       " Text(320.9938144329897, 129.10500000000002, 'X[1] <= 310.0\\nmse = 0.069\\nsamples = 3\\nvalue = 17.833'),\n",
       " Text(319.7387066541706, 115.515, 'X[1] <= 266.5\\nmse = 0.003\\nsamples = 2\\nvalue = 17.65'),\n",
       " Text(318.4835988753515, 101.925, 'mse = 0.0\\nsamples = 1\\nvalue = 17.7'),\n",
       " Text(320.9938144329897, 101.925, 'mse = 0.0\\nsamples = 1\\nvalue = 17.6'),\n",
       " Text(322.24892221180886, 115.515, 'mse = -0.0\\nsamples = 1\\nvalue = 18.2'),\n",
       " Text(323.50402999062794, 129.10500000000002, 'mse = 0.0\\nsamples = 1\\nvalue = 17.0'),\n",
       " Text(327.2693533270853, 156.285, 'X[1] <= 310.0\\nmse = 0.706\\nsamples = 6\\nvalue = 16.233'),\n",
       " Text(326.0142455482662, 142.695, 'mse = 0.0\\nsamples = 1\\nvalue = 15.0'),\n",
       " Text(328.52446110590444, 142.695, 'X[1] <= 350.5\\nmse = 0.482\\nsamples = 5\\nvalue = 16.48'),\n",
       " Text(326.0142455482662, 129.10500000000002, 'X[1] <= 334.0\\nmse = 0.09\\nsamples = 2\\nvalue = 17.2'),\n",
       " Text(324.7591377694471, 115.515, 'mse = 0.0\\nsamples = 1\\nvalue = 17.5'),\n",
       " Text(327.2693533270853, 115.515, 'mse = -0.0\\nsamples = 1\\nvalue = 16.9'),\n",
       " Text(331.03467666354265, 129.10500000000002, 'X[2] <= 140.0\\nmse = 0.167\\nsamples = 3\\nvalue = 16.0'),\n",
       " Text(329.7795688847236, 115.515, 'mse = 0.0\\nsamples = 1\\nvalue = 16.5'),\n",
       " Text(332.2897844423618, 115.515, 'X[3] <= 4137.0\\nmse = 0.062\\nsamples = 2\\nvalue = 15.75'),\n",
       " Text(331.03467666354265, 101.925, 'mse = 0.0\\nsamples = 1\\nvalue = 15.5'),\n",
       " Text(333.54489222118093, 101.925, 'mse = 0.0\\nsamples = 1\\nvalue = 16.0')]"
      ]
     },
     "execution_count": 66,
     "metadata": {},
     "output_type": "execute_result"
    },
    {
     "data": {
      "image/png": "[encoded data removed]",
      "text/plain": [
       "<Figure size 432x288 with 1 Axes>"
      ]
     },
     "metadata": {
      "needs_background": "light"
     },
     "output_type": "display_data"
    }
   ],
   "source": [
    "plot_tree(dtree)"
   ]
  },
  {
   "cell_type": "code",
   "execution_count": 70,
   "metadata": {},
   "outputs": [],
   "source": [
    "import matplotlib.pyplot as plt"
   ]
  },
  {
   "cell_type": "code",
   "execution_count": 72,
   "metadata": {},
   "outputs": [
    {
     "data": {
      "text/plain": [
       "<function matplotlib.pyplot.show(*args, **kw)>"
      ]
     },
     "execution_count": 72,
     "metadata": {},
     "output_type": "execute_result"
    },
    {
     "data": {
      "image/png": "[encoded data removed]",
      "text/plain": [
       "<Figure size 432x288 with 1 Axes>"
      ]
     },
     "metadata": {
      "needs_background": "light"
     },
     "output_type": "display_data"
    }
   ],
   "source": [
    "plot_tree(dtree)\n",
    "plt.show"
   ]
  },
  {
   "cell_type": "code",
   "execution_count": 75,
   "metadata": {},
   "outputs": [
    {
     "name": "stderr",
     "output_type": "stream",
     "text": [
      "<ipython-input-75-5c5d74d8f529>:1: MatplotlibDeprecationWarning: \n",
      "The frameon kwarg was deprecated in Matplotlib 3.1 and will be removed in 3.3. Use facecolor instead.\n",
      "  plt.savefig('decision_tree.png', dpi=None, facecolor='w', edgecolor='w',\n"
     ]
    },
    {
     "data": {
      "text/plain": [
       "<Figure size 432x288 with 0 Axes>"
      ]
     },
     "metadata": {},
     "output_type": "display_data"
    }
   ],
   "source": [
    "plt.savefig('decision_tree.png', dpi=None, facecolor='w', edgecolor='w',\n",
    "        orientation='portrait', papertype=None, format=None,\n",
    "        transparent=False, bbox_inches=None, pad_inches=0.1,\n",
    "        frameon=None, metadata=None)"
   ]
  },
  {
   "cell_type": "markdown",
   "metadata": {},
   "source": [
    "# Bonus Challenge 2 - Backward Elimination \n",
    "\n",
    "The main way to produce a simpler linear regression model is to reduce the number of variables used in the model. In scikit-learn, we can do this by using recursive feature elimination. You can read more about RFE [here](https://scikit-learn.org/stable/modules/generated/sklearn.feature_selection.RFE.html).\n",
    "\n",
    "In the next cell, we will import RFE."
   ]
  },
  {
   "cell_type": "code",
   "execution_count": 41,
   "metadata": {},
   "outputs": [],
   "source": [
    "# Libraries\n",
    "from sklearn.feature_selection import RFE"
   ]
  },
  {
   "cell_type": "markdown",
   "metadata": {},
   "source": [
    "Follow the documentation and initialize an RFE model using the `auto_model` linear regression model. Set `n_features_to_select=3`."
   ]
  },
  {
   "cell_type": "code",
   "execution_count": 42,
   "metadata": {},
   "outputs": [],
   "source": [
    "# your code here"
   ]
  },
  {
   "cell_type": "markdown",
   "metadata": {},
   "source": [
    "Fit the model and print the ranking."
   ]
  },
  {
   "cell_type": "code",
   "execution_count": 43,
   "metadata": {},
   "outputs": [],
   "source": [
    "# your code here"
   ]
  },
  {
   "cell_type": "markdown",
   "metadata": {},
   "source": [
    "Feature importance is ranked from most important (1) to least important (4). Generate a model with the three most important features. The features correspond to variable names. For example, feature 1 is `cylinders` and feature 2 is `displacement`.\n",
    "\n",
    "Perform a test-train split on this reduced column data and call the split data `X_train_reduced`, `X_test_reduced`, `y_test_reduced`, `y_train_reduced`. Use an 80% split."
   ]
  },
  {
   "cell_type": "code",
   "execution_count": 44,
   "metadata": {},
   "outputs": [],
   "source": [
    "# your code here"
   ]
  },
  {
   "cell_type": "markdown",
   "metadata": {},
   "source": [
    "Generate a new model called `auto_model_reduced` and fit this model. Then proceed to compute the r squared score for the model. Did this cause an improvement in the r squared score?"
   ]
  },
  {
   "cell_type": "code",
   "execution_count": 45,
   "metadata": {},
   "outputs": [],
   "source": [
    "# your code here"
   ]
  },
  {
   "cell_type": "markdown",
   "metadata": {},
   "source": [
    "#### Conclusion\n",
    "\n",
    "You may obtain the impression from this lab that without knowing statistical methods in depth, it is difficult to make major progress in machine learning. That is correct. If you are motivated to become a data scientist, statistics is the subject you must be proficient in and there is no shortcut. \n",
    "\n",
    "Completing these labs is not likely to make you a data scientist. But you will have a good sense about what are there in machine learning and what are good for you. In your future career, you can choose one of the three tracks:\n",
    "\n",
    "* Data scientists who need to be proficient in statistical methods.\n",
    "\n",
    "* Data engineers who need to be good at programming.\n",
    "\n",
    "* Data integration specialists who are business or content experts but also understand data and programming. This cross-disciplinary track brings together data, technology, and business and will be in high demands in the next decade."
   ]
  }
 ],
 "metadata": {
  "kernelspec": {
   "display_name": "Python 3",
   "language": "python",
   "name": "python3"
  },
  "language_info": {
   "codemirror_mode": {
    "name": "ipython",
    "version": 3
   },
   "file_extension": ".py",
   "mimetype": "text/x-python",
   "name": "python",
   "nbconvert_exporter": "python",
   "pygments_lexer": "ipython3",
   "version": "3.8.3"
  }
 },
 "nbformat": 4,
 "nbformat_minor": 2
}
