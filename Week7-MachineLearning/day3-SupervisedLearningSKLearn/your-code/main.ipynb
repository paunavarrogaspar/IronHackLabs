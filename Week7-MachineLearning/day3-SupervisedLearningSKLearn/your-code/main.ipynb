{
 "cells": [
  {
   "cell_type": "markdown",
   "metadata": {},
   "source": [
    "# Before your start:\n",
    "- Read the README.md file\n",
    "- Comment as much as you can and use the resources in the README.md file\n",
    "- Happy learning!"
   ]
  },
  {
   "cell_type": "code",
   "execution_count": 4,
   "metadata": {},
   "outputs": [],
   "source": [
    "import numpy as np\n",
    "import pandas as pd"
   ]
  },
  {
   "cell_type": "markdown",
   "metadata": {},
   "source": [
    "# Challenge 1 - Explore the Scikit-Learn Datasets\n",
    "\n",
    "Before starting to work on our own datasets, let's first explore the datasets that are included in this Python library. These datasets have been cleaned and formatted for use in ML algorithms."
   ]
  },
  {
   "cell_type": "markdown",
   "metadata": {},
   "source": [
    "First, we will load the diabetes dataset. Do this in the cell below by importing the datasets and then loading the dataset  to the `diabetes` variable using the `load_diabetes()` function ([documentation](https://scikit-learn.org/stable/modules/generated/sklearn.datasets.load_diabetes.html))."
   ]
  },
  {
   "cell_type": "code",
   "execution_count": 5,
   "metadata": {},
   "outputs": [],
   "source": [
    "from sklearn.datasets import load_diabetes\n",
    "diabetes = load_diabetes()"
   ]
  },
  {
   "cell_type": "markdown",
   "metadata": {},
   "source": [
    "Let's explore this variable by looking at the different attributes (keys) of `diabetes`. Note that the `load_diabetes` function does not return dataframes. It returns you a Python dictionary."
   ]
  },
  {
   "cell_type": "code",
   "execution_count": 6,
   "metadata": {},
   "outputs": [
    {
     "data": {
      "text/plain": [
       "dict_keys(['data', 'target', 'frame', 'DESCR', 'feature_names', 'data_filename', 'target_filename'])"
      ]
     },
     "execution_count": 6,
     "metadata": {},
     "output_type": "execute_result"
    }
   ],
   "source": [
    "diabetes.keys()"
   ]
  },
  {
   "cell_type": "markdown",
   "metadata": {},
   "source": [
    "#### The next step is to read the description of the dataset. \n",
    "\n",
    "Print the description in the cell below using the `DESCR` attribute of the `diabetes` variable. Read the data description carefully to fully understand what each column represents.\n",
    "\n",
    "*Hint: If your output is ill-formatted by displaying linebreaks as `\\n`, it means you are not using the `print` function.*"
   ]
  },
  {
   "cell_type": "code",
   "execution_count": 7,
   "metadata": {
    "scrolled": false
   },
   "outputs": [
    {
     "data": {
      "text/plain": [
       "'.. _diabetes_dataset:\\n\\nDiabetes dataset\\n----------------\\n\\nTen baseline variables, age, sex, body mass index, average blood\\npressure, and six blood serum measurements were obtained for each of n =\\n442 diabetes patients, as well as the response of interest, a\\nquantitative measure of disease progression one year after baseline.\\n\\n**Data Set Characteristics:**\\n\\n  :Number of Instances: 442\\n\\n  :Number of Attributes: First 10 columns are numeric predictive values\\n\\n  :Target: Column 11 is a quantitative measure of disease progression one year after baseline\\n\\n  :Attribute Information:\\n      - age     age in years\\n      - sex\\n      - bmi     body mass index\\n      - bp      average blood pressure\\n      - s1      tc, T-Cells (a type of white blood cells)\\n      - s2      ldl, low-density lipoproteins\\n      - s3      hdl, high-density lipoproteins\\n      - s4      tch, thyroid stimulating hormone\\n      - s5      ltg, lamotrigine\\n      - s6      glu, blood sugar level\\n\\nNote: Each of these 10 feature variables have been mean centered and scaled by the standard deviation times `n_samples` (i.e. the sum of squares of each column totals 1).\\n\\nSource URL:\\nhttps://www4.stat.ncsu.edu/~boos/var.select/diabetes.html\\n\\nFor more information see:\\nBradley Efron, Trevor Hastie, Iain Johnstone and Robert Tibshirani (2004) \"Least Angle Regression,\" Annals of Statistics (with discussion), 407-499.\\n(https://web.stanford.edu/~hastie/Papers/LARS/LeastAngle_2002.pdf)'"
      ]
     },
     "execution_count": 7,
     "metadata": {},
     "output_type": "execute_result"
    }
   ],
   "source": [
    "diabetes.DESCR"
   ]
  },
  {
   "cell_type": "markdown",
   "metadata": {},
   "source": [
    "#### Based on the data description, answer the following questions:\n",
    "\n",
    "1. How many attributes are there in the data? What do they mean?\n",
    "\n",
    "1. What is the relation between `diabetes['data']` and `diabetes['target']`?\n",
    "\n",
    "1. How many records are there in the data?"
   ]
  },
  {
   "cell_type": "code",
   "execution_count": 8,
   "metadata": {},
   "outputs": [
    {
     "data": {
      "text/plain": [
       "(442, 10)"
      ]
     },
     "execution_count": 8,
     "metadata": {},
     "output_type": "execute_result"
    }
   ],
   "source": [
    "# your answer here\n",
    "diabetes.data.shape"
   ]
  },
  {
   "cell_type": "markdown",
   "metadata": {},
   "source": [
    "#### Now explore what are contained in the *data* portion as well as the *target* portion of `diabetes`. \n",
    "\n",
    "Scikit-learn typically takes in 2D numpy arrays as input (though pandas dataframes are also accepted). Inspect the shape of `data` and `target`. Confirm they are consistent with the data description."
   ]
  },
  {
   "cell_type": "code",
   "execution_count": 9,
   "metadata": {},
   "outputs": [
    {
     "name": "stdout",
     "output_type": "stream",
     "text": [
      "[[ 0.03807591  0.05068012  0.06169621 ... -0.00259226  0.01990842\n",
      "  -0.01764613]\n",
      " [-0.00188202 -0.04464164 -0.05147406 ... -0.03949338 -0.06832974\n",
      "  -0.09220405]\n",
      " [ 0.08529891  0.05068012  0.04445121 ... -0.00259226  0.00286377\n",
      "  -0.02593034]\n",
      " ...\n",
      " [ 0.04170844  0.05068012 -0.01590626 ... -0.01107952 -0.04687948\n",
      "   0.01549073]\n",
      " [-0.04547248 -0.04464164  0.03906215 ...  0.02655962  0.04452837\n",
      "  -0.02593034]\n",
      " [-0.04547248 -0.04464164 -0.0730303  ... -0.03949338 -0.00421986\n",
      "   0.00306441]]\n",
      "[151.  75. 141. 206. 135.  97. 138.  63. 110. 310. 101.  69. 179. 185.\n",
      " 118. 171. 166. 144.  97. 168.  68.  49.  68. 245. 184. 202. 137.  85.\n",
      " 131. 283. 129.  59. 341.  87.  65. 102. 265. 276. 252.  90. 100.  55.\n",
      "  61.  92. 259.  53. 190. 142.  75. 142. 155. 225.  59. 104. 182. 128.\n",
      "  52.  37. 170. 170.  61. 144.  52. 128.  71. 163. 150.  97. 160. 178.\n",
      "  48. 270. 202. 111.  85.  42. 170. 200. 252. 113. 143.  51.  52. 210.\n",
      "  65. 141.  55. 134.  42. 111.  98. 164.  48.  96.  90. 162. 150. 279.\n",
      "  92.  83. 128. 102. 302. 198.  95.  53. 134. 144. 232.  81. 104.  59.\n",
      " 246. 297. 258. 229. 275. 281. 179. 200. 200. 173. 180.  84. 121. 161.\n",
      "  99. 109. 115. 268. 274. 158. 107.  83. 103. 272.  85. 280. 336. 281.\n",
      " 118. 317. 235.  60. 174. 259. 178. 128.  96. 126. 288.  88. 292.  71.\n",
      " 197. 186.  25.  84.  96. 195.  53. 217. 172. 131. 214.  59.  70. 220.\n",
      " 268. 152.  47.  74. 295. 101. 151. 127. 237. 225.  81. 151. 107.  64.\n",
      " 138. 185. 265. 101. 137. 143. 141.  79. 292. 178.  91. 116.  86. 122.\n",
      "  72. 129. 142.  90. 158.  39. 196. 222. 277.  99. 196. 202. 155.  77.\n",
      " 191.  70.  73.  49.  65. 263. 248. 296. 214. 185.  78.  93. 252. 150.\n",
      "  77. 208.  77. 108. 160.  53. 220. 154. 259.  90. 246. 124.  67.  72.\n",
      " 257. 262. 275. 177.  71.  47. 187. 125.  78.  51. 258. 215. 303. 243.\n",
      "  91. 150. 310. 153. 346.  63.  89.  50.  39. 103. 308. 116. 145.  74.\n",
      "  45. 115. 264.  87. 202. 127. 182. 241.  66.  94. 283.  64. 102. 200.\n",
      " 265.  94. 230. 181. 156. 233.  60. 219.  80.  68. 332. 248.  84. 200.\n",
      "  55.  85.  89.  31. 129.  83. 275.  65. 198. 236. 253. 124.  44. 172.\n",
      " 114. 142. 109. 180. 144. 163. 147.  97. 220. 190. 109. 191. 122. 230.\n",
      " 242. 248. 249. 192. 131. 237.  78. 135. 244. 199. 270. 164.  72.  96.\n",
      " 306.  91. 214.  95. 216. 263. 178. 113. 200. 139. 139.  88. 148.  88.\n",
      " 243.  71.  77. 109. 272.  60.  54. 221.  90. 311. 281. 182. 321.  58.\n",
      " 262. 206. 233. 242. 123. 167.  63. 197.  71. 168. 140. 217. 121. 235.\n",
      " 245.  40.  52. 104. 132.  88.  69. 219.  72. 201. 110.  51. 277.  63.\n",
      " 118.  69. 273. 258.  43. 198. 242. 232. 175.  93. 168. 275. 293. 281.\n",
      "  72. 140. 189. 181. 209. 136. 261. 113. 131. 174. 257.  55.  84.  42.\n",
      " 146. 212. 233.  91. 111. 152. 120.  67. 310.  94. 183.  66. 173.  72.\n",
      "  49.  64.  48. 178. 104. 132. 220.  57.]\n"
     ]
    },
    {
     "data": {
      "text/plain": [
       "(442, 10)"
      ]
     },
     "execution_count": 9,
     "metadata": {},
     "output_type": "execute_result"
    }
   ],
   "source": [
    "print(diabetes['data'])\n",
    "print(diabetes['target'])\n",
    "diabetes['data'].shape"
   ]
  },
  {
   "cell_type": "markdown",
   "metadata": {},
   "source": [
    "# Challenge 2 - Perform Supervised Learning on the Dataset"
   ]
  },
  {
   "cell_type": "markdown",
   "metadata": {},
   "source": [
    "The data have already been split to predictor (*data*) and response (*target*) variables. Given this information, we'll apply what we have previously learned about linear regression and apply the algorithm to the diabetes dataset.\n",
    "\n",
    "#### Let's briefly revisit the linear regression formula:\n",
    "\n",
    "\n",
    "$y = \\beta_0 + \\beta_1·X_1 + \\beta_2·X_2 + ... + \\beta_n·X_n + \\epsilon$\n",
    "\n",
    "\n",
    "where:\n",
    "\n",
    "- $X_1-X_n$: data \n",
    "- $\\beta_0$: intercept \n",
    "- $\\beta_1-\\beta_n$: coefficients \n",
    "- $\\epsilon$: error (cannot explained by model)\n",
    "- $y$: target\n",
    "\n",
    "Also take a look at the `sklearn.linear_model.LinearRegression` [documentation](https://scikit-learn.org/stable/modules/generated/sklearn.linear_model.LinearRegression.html).\n",
    "\n",
    "#### In the cell below, import the `linear_model` class from `sklearn`. "
   ]
  },
  {
   "cell_type": "code",
   "execution_count": 10,
   "metadata": {},
   "outputs": [],
   "source": [
    "from sklearn import linear_model"
   ]
  },
  {
   "cell_type": "markdown",
   "metadata": {},
   "source": [
    "#### Create a new instance of the linear regression model and assign the new instance to the variable `diabetes_model`."
   ]
  },
  {
   "cell_type": "code",
   "execution_count": 11,
   "metadata": {},
   "outputs": [],
   "source": [
    "# Create linear regression object\n",
    "diabetes_model = linear_model.LinearRegression()"
   ]
  },
  {
   "cell_type": "markdown",
   "metadata": {},
   "source": [
    "#### Next, let's split the training and test data.\n",
    "\n",
    "Define `diabetes_data_train`, `diabetes_target_train`, `diabetes_data_test`, and `diabetes_target_test`. Use the last 20 records for the test data and the rest for the training data."
   ]
  },
  {
   "cell_type": "code",
   "execution_count": 12,
   "metadata": {},
   "outputs": [],
   "source": [
    "from sklearn.model_selection import train_test_split\n",
    "diabetes_data_train, diabetes_data_test, diabetes_target_train, diabetes_target_test = train_test_split(diabetes['data'], diabetes['target'], test_size=0.2, random_state=123)"
   ]
  },
  {
   "cell_type": "markdown",
   "metadata": {},
   "source": [
    "Fit the training data and target to `diabetes_model`. Print the *intercept* and *coefficients* of the model."
   ]
  },
  {
   "cell_type": "code",
   "execution_count": 13,
   "metadata": {},
   "outputs": [
    {
     "data": {
      "text/plain": [
       "LinearRegression()"
      ]
     },
     "execution_count": 13,
     "metadata": {},
     "output_type": "execute_result"
    }
   ],
   "source": [
    "diabetes_model.fit(diabetes_data_train, diabetes_target_train)"
   ]
  },
  {
   "cell_type": "code",
   "execution_count": 14,
   "metadata": {},
   "outputs": [
    {
     "name": "stdout",
     "output_type": "stream",
     "text": [
      "152.04835896282478\n",
      "[  -6.18519432 -225.23708873  505.19590913  295.61841278 -826.04604876\n",
      "  466.90764262  130.73805248  252.95274096  691.08217315  111.20430059]\n"
     ]
    }
   ],
   "source": [
    "print(diabetes_model.intercept_)\n",
    "print(diabetes_model.coef_)"
   ]
  },
  {
   "cell_type": "markdown",
   "metadata": {},
   "source": [
    "#### Inspecting the results\n",
    "\n",
    "From the outputs you should have seen:\n",
    "\n",
    "- The intercept is a float number.\n",
    "- The coefficients are an array containing 10 float numbers.\n",
    "\n",
    "This is the linear regression model fitted to your training dataset.\n",
    "\n",
    "#### Using your fitted linear regression model, predict the *y* of `diabetes_data_test`."
   ]
  },
  {
   "cell_type": "code",
   "execution_count": 15,
   "metadata": {},
   "outputs": [],
   "source": [
    "predictions = diabetes_model.predict(diabetes_data_test)"
   ]
  },
  {
   "cell_type": "markdown",
   "metadata": {},
   "source": [
    "#### Print your `diabetes_target_test` and compare with the prediction. "
   ]
  },
  {
   "cell_type": "code",
   "execution_count": 16,
   "metadata": {},
   "outputs": [
    {
     "data": {
      "text/plain": [
       "array([185., 150., 246., 184., 110., 202., 336.,  69.,  69.,  87.,  66.,\n",
       "       164., 265., 198., 248., 171., 102., 182., 262., 233., 151., 275.,\n",
       "       230.,  39.,  42., 122.,  81.,  31., 156., 161.,  80., 215., 310.,\n",
       "       163., 265.,  84.,  54., 137., 248.,  72., 248.,  59.,  97.,  61.,\n",
       "        72., 296.,  55.,  75.,  53., 173., 158.,  96., 140., 186.,  93.,\n",
       "       123., 237., 138., 292.,  78., 182., 127., 321., 109., 212.,  45.,\n",
       "        96., 109.,  89.,  96.,  60.,  51., 200., 265.,  68.,  91., 172.,\n",
       "       115., 125.,  53.,  63., 259., 214., 195., 258., 235., 173.,  59.,\n",
       "       219.])"
      ]
     },
     "execution_count": 16,
     "metadata": {},
     "output_type": "execute_result"
    }
   ],
   "source": [
    "diabetes_target_test"
   ]
  },
  {
   "cell_type": "markdown",
   "metadata": {},
   "source": [
    "#### Is `diabetes_target_test` exactly the same as the model prediction? Explain."
   ]
  },
  {
   "cell_type": "code",
   "execution_count": 17,
   "metadata": {},
   "outputs": [
    {
     "data": {
      "text/plain": [
       "array([False, False, False, False, False, False, False, False, False,\n",
       "       False, False, False, False, False, False, False, False, False,\n",
       "       False, False, False, False, False, False, False, False, False,\n",
       "       False, False, False, False, False, False, False, False, False,\n",
       "       False, False, False, False, False, False, False, False, False,\n",
       "       False, False, False, False, False, False, False, False, False,\n",
       "       False, False, False, False, False, False, False, False, False,\n",
       "       False, False, False, False, False, False, False, False, False,\n",
       "       False, False, False, False, False, False, False, False, False,\n",
       "       False, False, False, False, False, False, False, False])"
      ]
     },
     "execution_count": 17,
     "metadata": {},
     "output_type": "execute_result"
    }
   ],
   "source": [
    "diabetes_target_test == predictions"
   ]
  },
  {
   "cell_type": "markdown",
   "metadata": {},
   "source": [
    "# Bonus Challenge 1 - Hypothesis Testing with `statsmodels`\n",
    "\n",
    "After generating the linear regression model from the dataset, you probably wonder: then what? What is the statistical way to know if my model is reliable or not?\n",
    "\n",
    "Good question. We'll discuss that using Scikit-Learn in Challenge 5. But for now, let's use a fool-proof way by using the ([Linear Regression class of StatsModels](https://www.statsmodels.org/dev/regression.html)) which can also conduct linear regression analysis plus much more such as calcuating the F-score of the linear model as well as the standard errors and t-scores for each coefficient. The F-score and t-scores will tell you whether you can trust your linear model.\n",
    "\n",
    "To understand the statistical meaning of conducting hypothesis testing (e.g. F-test, t-test) for slopes, read [this webpage](https://online.stat.psu.edu/stat501/lesson/6/6.4) at your leisure time. We'll give you a brief overview next.\n",
    "\n",
    "* The F-test of your linear model is to verify whether at least one of your coefficients is significantly different from zero. Translating that into the *null hypothesis* and *alternative hypothesis*, that is:\n",
    "\n",
    "    $H_0 : \\beta_1 = \\beta_2 = ... = \\beta_{10} = 0$\n",
    "\n",
    "    $H_a$ : At least one $\\beta_j \\ne 0$ (for j = 1, 2, ..., 10)\n",
    "    \n",
    "    \n",
    "* The t-tests on each coefficient is to check whether the confidence interval for the variable contains zero. If the confidence interval contains zero, it means the null hypothesis for that variable is not rejected. In other words, this particular vaiable is not contributing to your linear model and you can remove it from your formula.\n",
    "\n",
    "Read the documentations of [StatsModels Linear Regression](https://www.statsmodels.org/dev/regression.html) as well as its [`OLS` class](https://www.statsmodels.org/dev/generated/statsmodels.regression.linear_model.OLS.html) which stands for *ordinary least squares*.\n",
    "\n",
    "#### In the next cell, analyze `diabetes_data_train` and `diabetes_target_train` with the linear regression model of `statsmodels`. Print the fit summary.\n",
    "\n",
    "Your output should look like:\n",
    "\n",
    "<div style=\"text-align:center\"><img src=\"../images/statsmodels.png\" width=600/></div>"
   ]
  },
  {
   "cell_type": "code",
   "execution_count": 18,
   "metadata": {},
   "outputs": [],
   "source": [
    "# your code here"
   ]
  },
  {
   "cell_type": "markdown",
   "metadata": {},
   "source": [
    "#### Interpreting hypothesis testing results\n",
    "\n",
    "Answer the following questions in the cell below:\n",
    "\n",
    "1. What is the F-score of your linear model and is the null hypothesis rejected?\n",
    "\n",
    "1. Does any of the t-tests of the coefficients produce a confidence interval containing zero? What are they?\n",
    "\n",
    "1. How will you modify your linear reguression model according to the test results above?"
   ]
  },
  {
   "cell_type": "code",
   "execution_count": 19,
   "metadata": {},
   "outputs": [],
   "source": [
    "# your answer here"
   ]
  },
  {
   "cell_type": "markdown",
   "metadata": {},
   "source": [
    "# Challenge 3 - Peform Supervised Learning on a Pandas Dataframe"
   ]
  },
  {
   "cell_type": "markdown",
   "metadata": {},
   "source": [
    "Now that we have dealt with data that has been formatted for scikit-learn, let's look at data that we will need to format ourselves.\n",
    "\n",
    "In the next cell, load the `auto-mpg.csv` file included in this folder and assign it to a variable called `auto`."
   ]
  },
  {
   "cell_type": "code",
   "execution_count": 20,
   "metadata": {},
   "outputs": [],
   "source": [
    "auto = pd.read_csv('../data/auto-mpg.csv')"
   ]
  },
  {
   "cell_type": "markdown",
   "metadata": {},
   "source": [
    "Look at the first 5 rows using the `head()` function:"
   ]
  },
  {
   "cell_type": "code",
   "execution_count": 21,
   "metadata": {},
   "outputs": [
    {
     "data": {
      "text/html": [
       "<div>\n",
       "<style scoped>\n",
       "    .dataframe tbody tr th:only-of-type {\n",
       "        vertical-align: middle;\n",
       "    }\n",
       "\n",
       "    .dataframe tbody tr th {\n",
       "        vertical-align: top;\n",
       "    }\n",
       "\n",
       "    .dataframe thead th {\n",
       "        text-align: right;\n",
       "    }\n",
       "</style>\n",
       "<table border=\"1\" class=\"dataframe\">\n",
       "  <thead>\n",
       "    <tr style=\"text-align: right;\">\n",
       "      <th></th>\n",
       "      <th>mpg</th>\n",
       "      <th>cylinders</th>\n",
       "      <th>displacement</th>\n",
       "      <th>horse_power</th>\n",
       "      <th>weight</th>\n",
       "      <th>acceleration</th>\n",
       "      <th>model_year</th>\n",
       "      <th>car_name</th>\n",
       "    </tr>\n",
       "  </thead>\n",
       "  <tbody>\n",
       "    <tr>\n",
       "      <th>0</th>\n",
       "      <td>18.0</td>\n",
       "      <td>8</td>\n",
       "      <td>307.0</td>\n",
       "      <td>130.0</td>\n",
       "      <td>3504</td>\n",
       "      <td>12.0</td>\n",
       "      <td>70</td>\n",
       "      <td>\\t\"chevrolet chevelle malibu\"</td>\n",
       "    </tr>\n",
       "    <tr>\n",
       "      <th>1</th>\n",
       "      <td>15.0</td>\n",
       "      <td>8</td>\n",
       "      <td>350.0</td>\n",
       "      <td>165.0</td>\n",
       "      <td>3693</td>\n",
       "      <td>11.5</td>\n",
       "      <td>70</td>\n",
       "      <td>\\t\"buick skylark 320\"</td>\n",
       "    </tr>\n",
       "    <tr>\n",
       "      <th>2</th>\n",
       "      <td>18.0</td>\n",
       "      <td>8</td>\n",
       "      <td>318.0</td>\n",
       "      <td>150.0</td>\n",
       "      <td>3436</td>\n",
       "      <td>11.0</td>\n",
       "      <td>70</td>\n",
       "      <td>\\t\"plymouth satellite\"</td>\n",
       "    </tr>\n",
       "    <tr>\n",
       "      <th>3</th>\n",
       "      <td>16.0</td>\n",
       "      <td>8</td>\n",
       "      <td>304.0</td>\n",
       "      <td>150.0</td>\n",
       "      <td>3433</td>\n",
       "      <td>12.0</td>\n",
       "      <td>70</td>\n",
       "      <td>\\t\"amc rebel sst\"</td>\n",
       "    </tr>\n",
       "    <tr>\n",
       "      <th>4</th>\n",
       "      <td>17.0</td>\n",
       "      <td>8</td>\n",
       "      <td>302.0</td>\n",
       "      <td>140.0</td>\n",
       "      <td>3449</td>\n",
       "      <td>10.5</td>\n",
       "      <td>70</td>\n",
       "      <td>\\t\"ford torino\"</td>\n",
       "    </tr>\n",
       "  </tbody>\n",
       "</table>\n",
       "</div>"
      ],
      "text/plain": [
       "    mpg  cylinders  displacement  horse_power  weight  acceleration  \\\n",
       "0  18.0          8         307.0        130.0    3504          12.0   \n",
       "1  15.0          8         350.0        165.0    3693          11.5   \n",
       "2  18.0          8         318.0        150.0    3436          11.0   \n",
       "3  16.0          8         304.0        150.0    3433          12.0   \n",
       "4  17.0          8         302.0        140.0    3449          10.5   \n",
       "\n",
       "   model_year                       car_name  \n",
       "0          70  \\t\"chevrolet chevelle malibu\"  \n",
       "1          70          \\t\"buick skylark 320\"  \n",
       "2          70         \\t\"plymouth satellite\"  \n",
       "3          70              \\t\"amc rebel sst\"  \n",
       "4          70                \\t\"ford torino\"  "
      ]
     },
     "execution_count": 21,
     "metadata": {},
     "output_type": "execute_result"
    }
   ],
   "source": [
    "auto.head()"
   ]
  },
  {
   "cell_type": "markdown",
   "metadata": {},
   "source": [
    "Evaluate the data to ensure that all numeric columns are correctly detected as such by pandas. If a column is misclassified as object, coerce it to numeric."
   ]
  },
  {
   "cell_type": "code",
   "execution_count": 22,
   "metadata": {},
   "outputs": [
    {
     "data": {
      "text/plain": [
       "mpg             0\n",
       "cylinders       0\n",
       "displacement    0\n",
       "horse_power     6\n",
       "weight          0\n",
       "acceleration    0\n",
       "model_year      0\n",
       "car_name        0\n",
       "dtype: int64"
      ]
     },
     "execution_count": 22,
     "metadata": {},
     "output_type": "execute_result"
    }
   ],
   "source": [
    "auto.isna().sum()"
   ]
  },
  {
   "cell_type": "code",
   "execution_count": 23,
   "metadata": {},
   "outputs": [],
   "source": [
    "auto.dropna(inplace=True)"
   ]
  },
  {
   "cell_type": "markdown",
   "metadata": {},
   "source": [
    "What is the newest model year and the oldest model year?"
   ]
  },
  {
   "cell_type": "code",
   "execution_count": 24,
   "metadata": {},
   "outputs": [
    {
     "data": {
      "text/plain": [
       "70"
      ]
     },
     "execution_count": 24,
     "metadata": {},
     "output_type": "execute_result"
    }
   ],
   "source": [
    "auto.model_year.min()"
   ]
  },
  {
   "cell_type": "code",
   "execution_count": 25,
   "metadata": {},
   "outputs": [
    {
     "data": {
      "text/plain": [
       "82"
      ]
     },
     "execution_count": 25,
     "metadata": {},
     "output_type": "execute_result"
    }
   ],
   "source": [
    "auto.model_year.max()"
   ]
  },
  {
   "cell_type": "markdown",
   "metadata": {},
   "source": [
    "Check the dataset for missing values and remove all rows containing at least one missing value."
   ]
  },
  {
   "cell_type": "code",
   "execution_count": 26,
   "metadata": {},
   "outputs": [
    {
     "name": "stdout",
     "output_type": "stream",
     "text": [
      "<class 'pandas.core.frame.DataFrame'>\n",
      "Int64Index: 392 entries, 0 to 397\n",
      "Data columns (total 8 columns):\n",
      " #   Column        Non-Null Count  Dtype  \n",
      "---  ------        --------------  -----  \n",
      " 0   mpg           392 non-null    float64\n",
      " 1   cylinders     392 non-null    int64  \n",
      " 2   displacement  392 non-null    float64\n",
      " 3   horse_power   392 non-null    float64\n",
      " 4   weight        392 non-null    int64  \n",
      " 5   acceleration  392 non-null    float64\n",
      " 6   model_year    392 non-null    int64  \n",
      " 7   car_name      392 non-null    object \n",
      "dtypes: float64(4), int64(3), object(1)\n",
      "memory usage: 26.0+ KB\n"
     ]
    }
   ],
   "source": [
    "auto.info()"
   ]
  },
  {
   "cell_type": "markdown",
   "metadata": {},
   "source": [
    "Find the frequency table for the `cylinders` column using the `value_counts()` function. How many possible values of cylinders are there?"
   ]
  },
  {
   "cell_type": "code",
   "execution_count": 27,
   "metadata": {},
   "outputs": [
    {
     "data": {
      "text/plain": [
       "4    199\n",
       "8    103\n",
       "6     83\n",
       "3      4\n",
       "5      3\n",
       "Name: cylinders, dtype: int64"
      ]
     },
     "execution_count": 27,
     "metadata": {},
     "output_type": "execute_result"
    }
   ],
   "source": [
    "auto.cylinders.value_counts()"
   ]
  },
  {
   "cell_type": "markdown",
   "metadata": {},
   "source": [
    "We would like to generate a linear regression model that will predict mpg. To do this, first drop the `car_name` column since it does not contain any quantitative data. Next separate the dataframe to predictor and response variables. Separate those into test and training data with 80% of the data in the training set and the remainder in the test set. \n",
    "\n",
    "Assign the predictor and response training data to `X_train` and `y_train` respectively. Similarly, assign the predictor and response test data to `X_test` and `y_test`.\n",
    "\n",
    "*Hint: To separate data for training and test, use the `train_test_split` method we used in previous labs.*"
   ]
  },
  {
   "cell_type": "code",
   "execution_count": 28,
   "metadata": {},
   "outputs": [],
   "source": [
    "auto.drop('car_name', axis = 1, inplace = True)\n",
    "X = auto.drop('mpg', axis = 1).copy()\n",
    "y = auto['mpg']\n",
    "X_train, X_test, y_train, y_test = train_test_split(X, y, test_size = 0.2)"
   ]
  },
  {
   "cell_type": "markdown",
   "metadata": {},
   "source": [
    "Now we will processed and peform linear regression on this data to predict the mpg for each vehicle. \n",
    "\n",
    "#### In the next cell, create an instance of the linear regression model and call it `auto_model`. Fit `auto_model` with your training data."
   ]
  },
  {
   "cell_type": "code",
   "execution_count": 29,
   "metadata": {},
   "outputs": [
    {
     "name": "stdout",
     "output_type": "stream",
     "text": [
      "<class 'pandas.core.frame.DataFrame'>\n",
      "Int64Index: 313 entries, 209 to 298\n",
      "Data columns (total 6 columns):\n",
      " #   Column        Non-Null Count  Dtype  \n",
      "---  ------        --------------  -----  \n",
      " 0   cylinders     313 non-null    int64  \n",
      " 1   displacement  313 non-null    float64\n",
      " 2   horse_power   313 non-null    float64\n",
      " 3   weight        313 non-null    int64  \n",
      " 4   acceleration  313 non-null    float64\n",
      " 5   model_year    313 non-null    int64  \n",
      "dtypes: float64(3), int64(3)\n",
      "memory usage: 17.1 KB\n"
     ]
    }
   ],
   "source": [
    "X_train.info()"
   ]
  },
  {
   "cell_type": "code",
   "execution_count": 30,
   "metadata": {},
   "outputs": [
    {
     "data": {
      "text/plain": [
       "LinearRegression()"
      ]
     },
     "execution_count": 30,
     "metadata": {},
     "output_type": "execute_result"
    }
   ],
   "source": [
    "auto_model = linear_model.LinearRegression()\n",
    "auto_model.fit(X_train, y_train)"
   ]
  },
  {
   "cell_type": "markdown",
   "metadata": {},
   "source": [
    "\n",
    "# Challenge 4 - Evaluate the Model\n",
    "\n",
    "In addition to evaluating your model with F-test and t-test, you can also use the *Coefficient of Determination* (a.k.a. *r squared score*). This method does not simply tell *yes* or *no* about the model fit but instead indicates how much variation can be explained by the model. Based on the r squared score, you can decide whether to improve your model in order to obtain a better fit.\n",
    "\n",
    "You can learn about the r squared score [here](https://en.wikipedia.org/wiki/Coefficient_of_determination). Its formula is:\n",
    "\n",
    "<div style=\"text-align:center\"><img src=\"../images/r-squared.png\" width=300/></div>\n",
    "\n",
    "where:\n",
    "\n",
    "* yi is an actual data point.\n",
    "* ŷi is the corresponding data point on the estimated regression line.\n",
    "\n",
    "By adding the squares of the difference between all yi-ŷi pairs, we have a measure called SSE (*error sum of squares*) which is an application of the r squared score to indicate the extent to which the estimated regression model is different from the actual data. And we attribute that difference to the random error that is unavoidable in the real world. Obviously, we want the SSE value to be as small as possible.\n",
    "\n",
    "#### In the next cell, compute the predicted *y* based on `X_train` and call it `y_pred`. Then calcualte the r squared score between `y_pred` and `y_train` which indicates how well the estimated regression model fits the training data.\n",
    "\n",
    "*Hint: r squared score can be calculated using `sklearn.metrics.r2_score` ([documentation](https://scikit-learn.org/stable/modules/generated/sklearn.metrics.r2_score.html)).*"
   ]
  },
  {
   "cell_type": "code",
   "execution_count": 31,
   "metadata": {},
   "outputs": [
    {
     "data": {
      "text/plain": [
       "0.8124588965853864"
      ]
     },
     "execution_count": 31,
     "metadata": {},
     "output_type": "execute_result"
    }
   ],
   "source": [
    "from sklearn.metrics import r2_score\n",
    "y_pred = auto_model.predict(X_train)\n",
    "r2_score(y_train, y_pred)"
   ]
  },
  {
   "cell_type": "markdown",
   "metadata": {},
   "source": [
    "#### Our next step is to evaluate the model using the test data. \n",
    "\n",
    "We would like to ensure that our model is not overfitting the data. This means that our model was made to fit too closely to the training data by being overly complex. If a model is overfitted, it is not generalizable to data outside the training data. In that case, we need to reduce the complexity of the model by removing certain features (variables).\n",
    "\n",
    "In the cell below, use the model to generate the predicted values for the test data and assign them to `y_test_pred`. Compute the r squared score of the predicted `y_test_pred` and the oberserved `y_test` data."
   ]
  },
  {
   "cell_type": "code",
   "execution_count": 32,
   "metadata": {},
   "outputs": [
    {
     "data": {
      "text/plain": [
       "0.7696867553434559"
      ]
     },
     "execution_count": 32,
     "metadata": {},
     "output_type": "execute_result"
    }
   ],
   "source": [
    "y_test_pred = auto_model.predict(X_test)\n",
    "r2_score(y_test_pred, y_test)"
   ]
  },
  {
   "cell_type": "markdown",
   "metadata": {},
   "source": [
    "#### Explaining the results\n",
    "\n",
    "Please, compare the results for the training and test sets and comment. What can you say?"
   ]
  },
  {
   "cell_type": "code",
   "execution_count": 33,
   "metadata": {},
   "outputs": [],
   "source": [
    "# the prediction is more accurate with the training dataset than with the testing dataset"
   ]
  },
  {
   "cell_type": "markdown",
   "metadata": {},
   "source": [
    "# Challenge 5 - Improve the Model Fit\n",
    "\n",
    "While the most common way to improve the fit of a model is by using [regularization](https://datanice.github.io/machine-learning-101-what-is-regularization-interactive.html), there are other simpler ways to improve model fit. The first is to create a simpler model. The second is to increase the train sample size.\n",
    "\n",
    "Let us start with the easier option and increase our train sample size to 90% of the data. Create a new test train split and name the new predictors and response variables `X_train09`, `X_test09`, `y_train09`, `y_test09`."
   ]
  },
  {
   "cell_type": "code",
   "execution_count": 34,
   "metadata": {},
   "outputs": [],
   "source": [
    "X_train09, X_test09, y_train09, y_test09 = train_test_split(X, y, test_size = 0.1, random_state = 123)"
   ]
  },
  {
   "cell_type": "markdown",
   "metadata": {},
   "source": [
    "Initialize a new linear regression model. Name this model `auto_model09`. Fit the model to the new sample (training) data."
   ]
  },
  {
   "cell_type": "code",
   "execution_count": 35,
   "metadata": {},
   "outputs": [],
   "source": [
    "auto_model09 = linear_model.LinearRegression()"
   ]
  },
  {
   "cell_type": "markdown",
   "metadata": {},
   "source": [
    "Compute the predicted values and r squared score for our new model and new sample data."
   ]
  },
  {
   "cell_type": "code",
   "execution_count": 36,
   "metadata": {},
   "outputs": [
    {
     "data": {
      "text/plain": [
       "0.7668862468083321"
      ]
     },
     "execution_count": 36,
     "metadata": {},
     "output_type": "execute_result"
    }
   ],
   "source": [
    "auto_model09.fit(X_train09, y_train09)\n",
    "y_pred09 = auto_model09.predict(X_train09)\n",
    "r2_score(y_pred09, y_train09)"
   ]
  },
  {
   "cell_type": "markdown",
   "metadata": {},
   "source": [
    "Compute the r squared score for the smaller test set. Is there an improvement in the test r squared?"
   ]
  },
  {
   "cell_type": "code",
   "execution_count": 37,
   "metadata": {},
   "outputs": [
    {
     "data": {
      "text/plain": [
       "0.8152313204514886"
      ]
     },
     "execution_count": 37,
     "metadata": {},
     "output_type": "execute_result"
    }
   ],
   "source": [
    "auto_model09.fit(X_test09, y_test09)\n",
    "y_pred_test09 = auto_model09.predict(X_test09)\n",
    "r2_score(y_pred_test09, y_test09)"
   ]
  },
  {
   "cell_type": "markdown",
   "metadata": {},
   "source": [
    "# Implement a Decision Tree model"
   ]
  },
  {
   "cell_type": "markdown",
   "metadata": {},
   "source": [
    "### Doing the Decision Tree Model "
   ]
  },
  {
   "cell_type": "code",
   "execution_count": 38,
   "metadata": {},
   "outputs": [],
   "source": [
    "from sklearn.tree import DecisionTreeRegressor"
   ]
  },
  {
   "cell_type": "code",
   "execution_count": 39,
   "metadata": {},
   "outputs": [],
   "source": [
    "dtree = DecisionTreeRegressor()"
   ]
  },
  {
   "cell_type": "code",
   "execution_count": 40,
   "metadata": {},
   "outputs": [
    {
     "data": {
      "text/plain": [
       "DecisionTreeRegressor()"
      ]
     },
     "execution_count": 40,
     "metadata": {},
     "output_type": "execute_result"
    }
   ],
   "source": [
    "dtree.fit(X_train, y_train)"
   ]
  },
  {
   "cell_type": "code",
   "execution_count": 41,
   "metadata": {},
   "outputs": [],
   "source": [
    "predictions = dtree.predict(X_train)"
   ]
  },
  {
   "cell_type": "code",
   "execution_count": 42,
   "metadata": {},
   "outputs": [
    {
     "data": {
      "text/plain": [
       "1.0"
      ]
     },
     "execution_count": 42,
     "metadata": {},
     "output_type": "execute_result"
    }
   ],
   "source": [
    "r2_score(y_train, predictions)"
   ]
  },
  {
   "cell_type": "code",
   "execution_count": 43,
   "metadata": {},
   "outputs": [
    {
     "data": {
      "text/plain": [
       "0.8739128953522045"
      ]
     },
     "execution_count": 43,
     "metadata": {},
     "output_type": "execute_result"
    }
   ],
   "source": [
    "predictions = dtree.predict(X_test)\n",
    "r2_score(y_test, predictions)"
   ]
  },
  {
   "cell_type": "markdown",
   "metadata": {},
   "source": [
    "### Plotting the model "
   ]
  },
  {
   "cell_type": "code",
   "execution_count": 44,
   "metadata": {},
   "outputs": [],
   "source": [
    "from sklearn.tree import plot_tree"
   ]
  },
  {
   "cell_type": "code",
   "execution_count": 45,
   "metadata": {
    "collapsed": true
   },
   "outputs": [
    {
     "data": {
      "text/plain": [
       "[Text(186.06180109990837, 211.04470588235293, 'X[1] <= 190.5\\nmse = 61.999\\nsamples = 313\\nvalue = 23.641'),\n",
       " Text(93.39531393217233, 198.25411764705882, 'X[2] <= 70.5\\nmse = 34.764\\nsamples = 181\\nvalue = 28.746'),\n",
       " Text(34.49460357470211, 185.4635294117647, 'X[5] <= 77.5\\nmse = 21.376\\nsamples = 58\\nvalue = 33.938'),\n",
       " Text(9.819981668194318, 172.6729411764706, 'X[3] <= 1829.5\\nmse = 7.738\\nsamples = 21\\nvalue = 30.5'),\n",
       " Text(3.6824931255728695, 159.88235294117646, 'X[4] <= 18.8\\nmse = 3.04\\nsamples = 5\\nvalue = 33.6'),\n",
       " Text(2.4549954170485795, 147.09176470588235, 'X[4] <= 17.75\\nmse = 1.688\\nsamples = 4\\nvalue = 34.25'),\n",
       " Text(1.2274977085242897, 134.30117647058825, 'mse = 0.0\\nsamples = 2\\nvalue = 33.0'),\n",
       " Text(3.6824931255728695, 134.30117647058825, 'X[5] <= 74.0\\nmse = 0.25\\nsamples = 2\\nvalue = 35.5'),\n",
       " Text(2.4549954170485795, 121.51058823529411, 'mse = 0.0\\nsamples = 1\\nvalue = 35.0'),\n",
       " Text(4.909990834097159, 121.51058823529411, 'mse = 0.0\\nsamples = 1\\nvalue = 36.0'),\n",
       " Text(4.909990834097159, 147.09176470588235, 'mse = 0.0\\nsamples = 1\\nvalue = 31.0'),\n",
       " Text(15.957470210815767, 159.88235294117646, 'X[5] <= 73.5\\nmse = 5.265\\nsamples = 16\\nvalue = 29.531'),\n",
       " Text(11.047479376718607, 147.09176470588235, 'X[1] <= 85.0\\nmse = 2.556\\nsamples = 6\\nvalue = 27.333'),\n",
       " Text(8.592483959670028, 134.30117647058825, 'X[1] <= 73.5\\nmse = 0.25\\nsamples = 2\\nvalue = 29.5'),\n",
       " Text(7.364986251145739, 121.51058823529411, 'mse = 0.0\\nsamples = 1\\nvalue = 29.0'),\n",
       " Text(9.819981668194318, 121.51058823529411, 'mse = 0.0\\nsamples = 1\\nvalue = 30.0'),\n",
       " Text(13.502474793767187, 134.30117647058825, 'X[3] <= 1892.0\\nmse = 0.188\\nsamples = 4\\nvalue = 26.25'),\n",
       " Text(12.274977085242897, 121.51058823529411, 'mse = 0.0\\nsamples = 1\\nvalue = 27.0'),\n",
       " Text(14.729972502291478, 121.51058823529411, 'mse = 0.0\\nsamples = 3\\nvalue = 26.0'),\n",
       " Text(20.867461044912925, 147.09176470588235, 'X[4] <= 16.6\\nmse = 2.252\\nsamples = 10\\nvalue = 30.85'),\n",
       " Text(18.412465627864346, 134.30117647058825, 'X[2] <= 68.5\\nmse = 0.222\\nsamples = 3\\nvalue = 29.333'),\n",
       " Text(17.184967919340057, 121.51058823529411, 'mse = 0.0\\nsamples = 1\\nvalue = 30.0'),\n",
       " Text(19.639963336388636, 121.51058823529411, 'mse = 0.0\\nsamples = 2\\nvalue = 29.0'),\n",
       " Text(23.322456461961504, 134.30117647058825, 'X[2] <= 56.5\\nmse = 1.714\\nsamples = 7\\nvalue = 31.5'),\n",
       " Text(22.094958753437215, 121.51058823529411, 'mse = 0.0\\nsamples = 1\\nvalue = 29.0'),\n",
       " Text(24.549954170485794, 121.51058823529411, 'X[4] <= 16.9\\nmse = 0.785\\nsamples = 6\\nvalue = 31.917'),\n",
       " Text(23.322456461961504, 108.72, 'mse = 0.0\\nsamples = 1\\nvalue = 33.5'),\n",
       " Text(25.777451879010084, 108.72, 'X[3] <= 2048.0\\nmse = 0.34\\nsamples = 5\\nvalue = 31.6'),\n",
       " Text(24.549954170485794, 95.92941176470588, 'X[5] <= 76.5\\nmse = 0.047\\nsamples = 4\\nvalue = 31.875'),\n",
       " Text(23.322456461961504, 83.13882352941175, 'mse = 0.0\\nsamples = 3\\nvalue = 32.0'),\n",
       " Text(25.777451879010084, 83.13882352941175, 'mse = 0.0\\nsamples = 1\\nvalue = 31.5'),\n",
       " Text(27.004949587534373, 95.92941176470588, 'mse = 0.0\\nsamples = 1\\nvalue = 30.5'),\n",
       " Text(59.16922548120991, 172.6729411764706, 'X[3] <= 2132.5\\nmse = 18.6\\nsamples = 37\\nvalue = 35.889'),\n",
       " Text(50.5192025664528, 159.88235294117646, 'X[4] <= 17.85\\nmse = 18.152\\nsamples = 27\\nvalue = 37.07'),\n",
       " Text(44.2666361136572, 147.09176470588235, 'X[4] <= 14.25\\nmse = 11.767\\nsamples = 19\\nvalue = 35.679'),\n",
       " Text(43.03913840513291, 134.30117647058825, 'mse = 0.0\\nsamples = 1\\nvalue = 44.6'),\n",
       " Text(45.49413382218149, 134.30117647058825, 'X[4] <= 17.45\\nmse = 7.754\\nsamples = 18\\nvalue = 35.183'),\n",
       " Text(40.35398716773602, 121.51058823529411, 'X[4] <= 16.15\\nmse = 6.914\\nsamples = 16\\nvalue = 35.625'),\n",
       " Text(33.756186984417965, 108.72, 'X[3] <= 2122.5\\nmse = 6.667\\nsamples = 8\\nvalue = 34.062'),\n",
       " Text(30.687442713107245, 95.92941176470588, 'X[4] <= 15.85\\nmse = 3.129\\nsamples = 6\\nvalue = 32.867'),\n",
       " Text(28.232447296058663, 83.13882352941175, 'X[2] <= 63.5\\nmse = 2.315\\nsamples = 4\\nvalue = 32.0'),\n",
       " Text(27.004949587534373, 70.34823529411764, 'mse = 0.0\\nsamples = 1\\nvalue = 29.8'),\n",
       " Text(29.459945004582956, 70.34823529411764, 'X[5] <= 79.5\\nmse = 0.936\\nsamples = 3\\nvalue = 32.733'),\n",
       " Text(28.232447296058663, 57.557647058823534, 'mse = 0.0\\nsamples = 1\\nvalue = 34.1'),\n",
       " Text(30.687442713107245, 57.557647058823534, 'X[2] <= 68.5\\nmse = 0.003\\nsamples = 2\\nvalue = 32.05'),\n",
       " Text(29.459945004582956, 44.767058823529396, 'mse = 0.0\\nsamples = 1\\nvalue = 32.0'),\n",
       " Text(31.914940421631535, 44.767058823529396, 'mse = 0.0\\nsamples = 1\\nvalue = 32.1'),\n",
       " Text(33.142438130155824, 83.13882352941175, 'X[3] <= 1872.5\\nmse = 0.25\\nsamples = 2\\nvalue = 34.6'),\n",
       " Text(31.914940421631535, 70.34823529411764, 'mse = 0.0\\nsamples = 1\\nvalue = 35.1'),\n",
       " Text(34.369935838680114, 70.34823529411764, 'mse = 0.0\\nsamples = 1\\nvalue = 34.1'),\n",
       " Text(36.82493125572869, 95.92941176470588, 'X[1] <= 98.0\\nmse = 0.122\\nsamples = 2\\nvalue = 37.65'),\n",
       " Text(35.5974335472044, 83.13882352941175, 'mse = 0.0\\nsamples = 1\\nvalue = 37.3'),\n",
       " Text(38.05242896425298, 83.13882352941175, 'mse = 0.0\\nsamples = 1\\nvalue = 38.0'),\n",
       " Text(46.95178735105408, 108.72, 'X[1] <= 94.5\\nmse = 2.279\\nsamples = 8\\nvalue = 37.188'),\n",
       " Text(43.57616865261229, 95.92941176470588, 'X[5] <= 80.5\\nmse = 1.069\\nsamples = 6\\nvalue = 37.85'),\n",
       " Text(40.50742438130156, 83.13882352941175, 'X[3] <= 1909.5\\nmse = 0.302\\nsamples = 2\\nvalue = 36.65'),\n",
       " Text(39.27992667277727, 70.34823529411764, 'mse = 0.0\\nsamples = 1\\nvalue = 36.1'),\n",
       " Text(41.73492208982585, 70.34823529411764, 'mse = -0.0\\nsamples = 1\\nvalue = 37.2'),\n",
       " Text(46.64491292392301, 83.13882352941175, 'X[3] <= 1935.0\\nmse = 0.373\\nsamples = 4\\nvalue = 38.45'),\n",
       " Text(44.18991750687443, 70.34823529411764, 'X[3] <= 1815.0\\nmse = 0.003\\nsamples = 2\\nvalue = 39.05'),\n",
       " Text(42.96241979835014, 57.557647058823534, 'mse = 0.0\\nsamples = 1\\nvalue = 39.1'),\n",
       " Text(45.41741521539872, 57.557647058823534, 'mse = 0.0\\nsamples = 1\\nvalue = 39.0'),\n",
       " Text(49.09990834097159, 70.34823529411764, 'X[3] <= 2022.5\\nmse = 0.022\\nsamples = 2\\nvalue = 37.85'),\n",
       " Text(47.8724106324473, 57.557647058823534, 'mse = 0.0\\nsamples = 1\\nvalue = 38.0'),\n",
       " Text(50.32740604949588, 57.557647058823534, 'mse = -0.0\\nsamples = 1\\nvalue = 37.7'),\n",
       " Text(50.32740604949588, 95.92941176470588, 'X[5] <= 81.5\\nmse = 0.64\\nsamples = 2\\nvalue = 35.2'),\n",
       " Text(49.09990834097159, 83.13882352941175, 'mse = 0.0\\nsamples = 1\\nvalue = 34.4'),\n",
       " Text(51.55490375802017, 83.13882352941175, 'mse = -0.0\\nsamples = 1\\nvalue = 36.0'),\n",
       " Text(50.634280476626955, 121.51058823529411, 'X[4] <= 17.7\\nmse = 0.423\\nsamples = 2\\nvalue = 31.65'),\n",
       " Text(49.406782768102666, 108.72, 'mse = 0.0\\nsamples = 1\\nvalue = 31.0'),\n",
       " Text(51.861778185151245, 108.72, 'mse = 0.0\\nsamples = 1\\nvalue = 32.3'),\n",
       " Text(56.7717690192484, 147.09176470588235, 'X[3] <= 2077.5\\nmse = 17.797\\nsamples = 8\\nvalue = 40.375'),\n",
       " Text(54.316773602199824, 134.30117647058825, 'X[1] <= 81.5\\nmse = 6.122\\nsamples = 4\\nvalue = 36.825'),\n",
       " Text(53.089275893675534, 121.51058823529411, 'mse = 0.0\\nsamples = 1\\nvalue = 32.8'),\n",
       " Text(55.54427131072411, 121.51058823529411, 'X[4] <= 18.7\\nmse = 0.962\\nsamples = 3\\nvalue = 38.167'),\n",
       " Text(54.316773602199824, 108.72, 'mse = 0.0\\nsamples = 1\\nvalue = 39.4'),\n",
       " Text(56.7717690192484, 108.72, 'X[4] <= 19.1\\nmse = 0.303\\nsamples = 2\\nvalue = 37.55'),\n",
       " Text(55.54427131072411, 95.92941176470588, 'mse = 0.0\\nsamples = 1\\nvalue = 38.1'),\n",
       " Text(57.99926672777269, 95.92941176470588, 'mse = 0.0\\nsamples = 1\\nvalue = 37.0'),\n",
       " Text(59.22676443629698, 134.30117647058825, 'X[1] <= 85.5\\nmse = 4.267\\nsamples = 4\\nvalue = 43.925'),\n",
       " Text(57.99926672777269, 121.51058823529411, 'mse = 0.0\\nsamples = 1\\nvalue = 40.8'),\n",
       " Text(60.45426214482127, 121.51058823529411, 'X[1] <= 88.0\\nmse = 1.349\\nsamples = 3\\nvalue = 44.967'),\n",
       " Text(59.22676443629698, 108.72, 'mse = 0.0\\nsamples = 1\\nvalue = 46.6'),\n",
       " Text(61.68175985334556, 108.72, 'X[3] <= 2107.5\\nmse = 0.023\\nsamples = 2\\nvalue = 44.15'),\n",
       " Text(60.45426214482127, 95.92941176470588, 'mse = 0.0\\nsamples = 1\\nvalue = 44.3'),\n",
       " Text(62.90925756186985, 95.92941176470588, 'mse = 0.0\\nsamples = 1\\nvalue = 44.0'),\n",
       " Text(67.81924839596701, 159.88235294117646, 'X[1] <= 101.5\\nmse = 5.874\\nsamples = 10\\nvalue = 32.7'),\n",
       " Text(62.90925756186985, 147.09176470588235, 'X[1] <= 97.5\\nmse = 3.035\\nsamples = 4\\nvalue = 30.8'),\n",
       " Text(61.68175985334556, 134.30117647058825, 'mse = 0.0\\nsamples = 1\\nvalue = 33.8'),\n",
       " Text(64.13675527039413, 134.30117647058825, 'X[3] <= 2145.0\\nmse = 0.047\\nsamples = 3\\nvalue = 29.8'),\n",
       " Text(62.90925756186985, 121.51058823529411, 'mse = 0.0\\nsamples = 1\\nvalue = 29.5'),\n",
       " Text(65.36425297891843, 121.51058823529411, 'X[2] <= 66.5\\nmse = 0.002\\nsamples = 2\\nvalue = 29.95'),\n",
       " Text(64.13675527039413, 108.72, 'mse = 0.0\\nsamples = 1\\nvalue = 29.9'),\n",
       " Text(66.59175068744271, 108.72, 'mse = -0.0\\nsamples = 1\\nvalue = 30.0'),\n",
       " Text(72.72923923006417, 147.09176470588235, 'X[4] <= 20.85\\nmse = 3.756\\nsamples = 6\\nvalue = 33.967'),\n",
       " Text(71.50174152153988, 134.30117647058825, 'X[0] <= 4.5\\nmse = 0.73\\nsamples = 5\\nvalue = 34.76'),\n",
       " Text(70.27424381301559, 121.51058823529411, 'X[2] <= 66.5\\nmse = 0.072\\nsamples = 4\\nvalue = 34.35'),\n",
       " Text(69.0467461044913, 108.72, 'mse = 0.0\\nsamples = 1\\nvalue = 34.7'),\n",
       " Text(71.50174152153988, 108.72, 'X[3] <= 2175.0\\nmse = 0.042\\nsamples = 3\\nvalue = 34.233'),\n",
       " Text(70.27424381301559, 95.92941176470588, 'mse = 0.0\\nsamples = 1\\nvalue = 34.5'),\n",
       " Text(72.72923923006417, 95.92941176470588, 'X[4] <= 15.05\\nmse = 0.01\\nsamples = 2\\nvalue = 34.1'),\n",
       " Text(71.50174152153988, 83.13882352941175, 'mse = 0.0\\nsamples = 1\\nvalue = 34.2'),\n",
       " Text(73.95673693858846, 83.13882352941175, 'mse = 0.0\\nsamples = 1\\nvalue = 34.0'),\n",
       " Text(72.72923923006417, 121.51058823529411, 'mse = -0.0\\nsamples = 1\\nvalue = 36.4'),\n",
       " Text(73.95673693858846, 134.30117647058825, 'mse = 0.0\\nsamples = 1\\nvalue = 30.0'),\n",
       " Text(152.29602428964253, 185.4635294117647, 'X[5] <= 78.5\\nmse = 22.375\\nsamples = 123\\nvalue = 26.298'),\n",
       " Text(123.84301099908342, 172.6729411764706, 'X[3] <= 2781.0\\nmse = 11.297\\nsamples = 75\\nvalue = 24.001'),\n",
       " Text(100.079422548121, 159.88235294117646, 'X[3] <= 2305.0\\nmse = 8.178\\nsamples = 61\\nvalue = 24.931'),\n",
       " Text(85.84812098991752, 147.09176470588235, 'X[1] <= 79.0\\nmse = 7.559\\nsamples = 31\\nvalue = 26.245'),\n",
       " Text(84.62062328139322, 134.30117647058825, 'mse = 0.0\\nsamples = 1\\nvalue = 18.0'),\n",
       " Text(87.0756186984418, 134.30117647058825, 'X[4] <= 18.6\\nmse = 5.47\\nsamples = 30\\nvalue = 26.52'),\n",
       " Text(85.84812098991752, 121.51058823529411, 'X[3] <= 2086.5\\nmse = 4.142\\nsamples = 29\\nvalue = 26.745'),\n",
       " Text(78.86672777268562, 108.72, 'X[2] <= 77.0\\nmse = 0.167\\nsamples = 3\\nvalue = 29.5'),\n",
       " Text(77.63923006416132, 95.92941176470588, 'X[4] <= 13.35\\nmse = 0.062\\nsamples = 2\\nvalue = 29.75'),\n",
       " Text(76.41173235563704, 83.13882352941175, 'mse = 0.0\\nsamples = 1\\nvalue = 29.5'),\n",
       " Text(78.86672777268562, 83.13882352941175, 'mse = 0.0\\nsamples = 1\\nvalue = 30.0'),\n",
       " Text(80.0942254812099, 95.92941176470588, 'mse = 0.0\\nsamples = 1\\nvalue = 29.0'),\n",
       " Text(92.82951420714942, 108.72, 'X[5] <= 76.5\\nmse = 3.624\\nsamples = 26\\nvalue = 26.427'),\n",
       " Text(86.53858845096242, 95.92941176470588, 'X[1] <= 97.25\\nmse = 2.522\\nsamples = 21\\nvalue = 26.048'),\n",
       " Text(81.3217231897342, 83.13882352941175, 'X[1] <= 93.5\\nmse = 2.438\\nsamples = 8\\nvalue = 26.75'),\n",
       " Text(78.25297891842347, 70.34823529411764, 'X[4] <= 16.0\\nmse = 0.25\\nsamples = 2\\nvalue = 24.5'),\n",
       " Text(77.02548120989918, 57.557647058823534, 'mse = 0.0\\nsamples = 1\\nvalue = 24.0'),\n",
       " Text(79.48047662694776, 57.557647058823534, 'mse = 0.0\\nsamples = 1\\nvalue = 25.0'),\n",
       " Text(84.39046746104492, 70.34823529411764, 'X[4] <= 15.25\\nmse = 0.917\\nsamples = 6\\nvalue = 27.5'),\n",
       " Text(81.93547204399634, 57.557647058823534, 'X[2] <= 83.0\\nmse = 0.222\\nsamples = 3\\nvalue = 26.667'),\n",
       " Text(80.70797433547204, 44.767058823529396, 'mse = 0.0\\nsamples = 1\\nvalue = 26.0'),\n",
       " Text(83.16296975252062, 44.767058823529396, 'mse = 0.0\\nsamples = 2\\nvalue = 27.0'),\n",
       " Text(86.8454628780935, 57.557647058823534, 'X[4] <= 16.2\\nmse = 0.222\\nsamples = 3\\nvalue = 28.333'),\n",
       " Text(85.6179651695692, 44.767058823529396, 'mse = 0.0\\nsamples = 1\\nvalue = 29.0'),\n",
       " Text(88.07296058661778, 44.767058823529396, 'mse = 0.0\\nsamples = 2\\nvalue = 28.0'),\n",
       " Text(91.75545371219066, 83.13882352941175, 'X[1] <= 131.0\\nmse = 2.083\\nsamples = 13\\nvalue = 25.615'),\n",
       " Text(90.52795600366638, 70.34823529411764, 'X[3] <= 2124.5\\nmse = 1.743\\nsamples = 12\\nvalue = 25.417'),\n",
       " Text(89.30045829514208, 57.557647058823534, 'mse = 0.0\\nsamples = 1\\nvalue = 28.0'),\n",
       " Text(91.75545371219066, 57.557647058823534, 'X[1] <= 121.5\\nmse = 1.24\\nsamples = 11\\nvalue = 25.182'),\n",
       " Text(90.52795600366638, 44.767058823529396, 'X[1] <= 107.0\\nmse = 0.84\\nsamples = 10\\nvalue = 25.4'),\n",
       " Text(86.23171402383136, 31.976470588235287, 'X[1] <= 97.75\\nmse = 0.5\\nsamples = 4\\nvalue = 26.0'),\n",
       " Text(85.00421631530706, 19.185882352941178, 'mse = 0.0\\nsamples = 1\\nvalue = 25.0'),\n",
       " Text(87.45921173235564, 19.185882352941178, 'X[3] <= 2228.5\\nmse = 0.222\\nsamples = 3\\nvalue = 26.333'),\n",
       " Text(86.23171402383136, 6.39529411764704, 'mse = 0.0\\nsamples = 1\\nvalue = 27.0'),\n",
       " Text(88.68670944087994, 6.39529411764704, 'mse = 0.0\\nsamples = 2\\nvalue = 26.0'),\n",
       " Text(94.82419798350138, 31.976470588235287, 'X[4] <= 14.75\\nmse = 0.667\\nsamples = 6\\nvalue = 25.0'),\n",
       " Text(92.3692025664528, 19.185882352941178, 'X[1] <= 114.5\\nmse = 0.222\\nsamples = 3\\nvalue = 25.667'),\n",
       " Text(91.14170485792852, 6.39529411764704, 'mse = 0.0\\nsamples = 1\\nvalue = 25.0'),\n",
       " Text(93.5967002749771, 6.39529411764704, 'mse = 0.0\\nsamples = 2\\nvalue = 26.0'),\n",
       " Text(97.27919340054996, 19.185882352941178, 'X[4] <= 16.2\\nmse = 0.222\\nsamples = 3\\nvalue = 24.333'),\n",
       " Text(96.05169569202567, 6.39529411764704, 'mse = 0.0\\nsamples = 2\\nvalue = 24.0'),\n",
       " Text(98.50669110907425, 6.39529411764704, 'mse = 0.0\\nsamples = 1\\nvalue = 25.0'),\n",
       " Text(92.98295142071495, 44.767058823529396, 'mse = 0.0\\nsamples = 1\\nvalue = 23.0'),\n",
       " Text(92.98295142071495, 70.34823529411764, 'mse = 0.0\\nsamples = 1\\nvalue = 28.0'),\n",
       " Text(99.1204399633364, 95.92941176470588, 'X[3] <= 2247.5\\nmse = 5.11\\nsamples = 5\\nvalue = 28.02'),\n",
       " Text(96.66544454628782, 83.13882352941175, 'X[3] <= 2210.0\\nmse = 0.04\\nsamples = 2\\nvalue = 30.7'),\n",
       " Text(95.43794683776353, 70.34823529411764, 'mse = 0.0\\nsamples = 1\\nvalue = 30.5'),\n",
       " Text(97.89294225481211, 70.34823529411764, 'mse = 0.0\\nsamples = 1\\nvalue = 30.9'),\n",
       " Text(101.57543538038497, 83.13882352941175, 'X[2] <= 96.5\\nmse = 0.509\\nsamples = 3\\nvalue = 26.233'),\n",
       " Text(100.34793767186069, 70.34823529411764, 'X[3] <= 2282.5\\nmse = 0.062\\nsamples = 2\\nvalue = 25.75'),\n",
       " Text(99.1204399633364, 57.557647058823534, 'mse = 0.0\\nsamples = 1\\nvalue = 26.0'),\n",
       " Text(101.57543538038497, 57.557647058823534, 'mse = 0.0\\nsamples = 1\\nvalue = 25.5'),\n",
       " Text(102.80293308890927, 70.34823529411764, 'mse = 0.0\\nsamples = 1\\nvalue = 27.2'),\n",
       " Text(88.3031164069661, 121.51058823529411, 'mse = 0.0\\nsamples = 1\\nvalue = 20.0'),\n",
       " Text(114.31072410632449, 147.09176470588235, 'X[3] <= 2351.0\\nmse = 5.189\\nsamples = 30\\nvalue = 23.573'),\n",
       " Text(113.08322639780019, 134.30117647058825, 'mse = 0.0\\nsamples = 2\\nvalue = 19.0'),\n",
       " Text(115.53822181484877, 134.30117647058825, 'X[5] <= 73.5\\nmse = 3.959\\nsamples = 28\\nvalue = 23.9'),\n",
       " Text(107.71292392300643, 121.51058823529411, 'X[1] <= 113.5\\nmse = 2.446\\nsamples = 11\\nvalue = 22.909'),\n",
       " Text(105.25792850595785, 108.72, 'X[4] <= 16.25\\nmse = 0.25\\nsamples = 4\\nvalue = 24.5'),\n",
       " Text(104.03043079743355, 95.92941176470588, 'mse = 0.0\\nsamples = 2\\nvalue = 24.0'),\n",
       " Text(106.48542621448213, 95.92941176470588, 'mse = 0.0\\nsamples = 2\\nvalue = 25.0'),\n",
       " Text(110.16791934005501, 108.72, 'X[3] <= 2621.0\\nmse = 1.429\\nsamples = 7\\nvalue = 22.0'),\n",
       " Text(108.94042163153071, 95.92941176470588, 'X[5] <= 72.5\\nmse = 0.889\\nsamples = 6\\nvalue = 21.667'),\n",
       " Text(106.48542621448213, 83.13882352941175, 'X[2] <= 91.5\\nmse = 0.188\\nsamples = 4\\nvalue = 22.25'),\n",
       " Text(105.25792850595785, 70.34823529411764, 'mse = 0.0\\nsamples = 3\\nvalue = 22.0'),\n",
       " Text(107.71292392300643, 70.34823529411764, 'mse = 0.0\\nsamples = 1\\nvalue = 23.0'),\n",
       " Text(111.39541704857929, 83.13882352941175, 'X[3] <= 2527.0\\nmse = 0.25\\nsamples = 2\\nvalue = 20.5'),\n",
       " Text(110.16791934005501, 70.34823529411764, 'mse = 0.0\\nsamples = 1\\nvalue = 21.0'),\n",
       " Text(112.62291475710359, 70.34823529411764, 'mse = 0.0\\nsamples = 1\\nvalue = 20.0'),\n",
       " Text(111.39541704857929, 95.92941176470588, 'mse = 0.0\\nsamples = 1\\nvalue = 24.0'),\n",
       " Text(123.36351970669112, 121.51058823529411, 'X[2] <= 94.0\\nmse = 3.891\\nsamples = 17\\nvalue = 24.541'),\n",
       " Text(117.53290559120074, 108.72, 'X[3] <= 2602.0\\nmse = 1.712\\nsamples = 9\\nvalue = 25.511'),\n",
       " Text(115.07791017415217, 95.92941176470588, 'X[1] <= 107.5\\nmse = 0.96\\nsamples = 5\\nvalue = 26.3'),\n",
       " Text(113.85041246562787, 83.13882352941175, 'mse = 0.0\\nsamples = 1\\nvalue = 28.0'),\n",
       " Text(116.30540788267645, 83.13882352941175, 'X[4] <= 16.75\\nmse = 0.297\\nsamples = 4\\nvalue = 25.875'),\n",
       " Text(115.07791017415217, 70.34823529411764, 'X[4] <= 14.55\\nmse = 0.056\\nsamples = 3\\nvalue = 26.167'),\n",
       " Text(113.85041246562787, 57.557647058823534, 'mse = 0.0\\nsamples = 1\\nvalue = 26.5'),\n",
       " Text(116.30540788267645, 57.557647058823534, 'mse = 0.0\\nsamples = 2\\nvalue = 26.0'),\n",
       " Text(117.53290559120074, 70.34823529411764, 'mse = 0.0\\nsamples = 1\\nvalue = 25.0'),\n",
       " Text(119.98790100824932, 95.92941176470588, 'X[5] <= 76.0\\nmse = 0.902\\nsamples = 4\\nvalue = 24.525'),\n",
       " Text(118.76040329972503, 83.13882352941175, 'mse = 0.0\\nsamples = 1\\nvalue = 23.0'),\n",
       " Text(121.2153987167736, 83.13882352941175, 'X[4] <= 15.9\\nmse = 0.169\\nsamples = 3\\nvalue = 25.033'),\n",
       " Text(119.98790100824932, 70.34823529411764, 'X[4] <= 15.6\\nmse = 0.04\\nsamples = 2\\nvalue = 25.3'),\n",
       " Text(118.76040329972503, 57.557647058823534, 'mse = 0.0\\nsamples = 1\\nvalue = 25.1'),\n",
       " Text(121.2153987167736, 57.557647058823534, 'mse = 0.0\\nsamples = 1\\nvalue = 25.5'),\n",
       " Text(122.4428964252979, 70.34823529411764, 'mse = 0.0\\nsamples = 1\\nvalue = 24.5'),\n",
       " Text(129.1941338221815, 108.72, 'X[4] <= 13.15\\nmse = 4.092\\nsamples = 8\\nvalue = 23.45'),\n",
       " Text(127.9666361136572, 95.92941176470588, 'mse = 0.0\\nsamples = 1\\nvalue = 21.5'),\n",
       " Text(130.42163153070578, 95.92941176470588, 'X[3] <= 2682.5\\nmse = 4.056\\nsamples = 7\\nvalue = 23.729'),\n",
       " Text(127.35288725939506, 83.13882352941175, 'X[3] <= 2552.5\\nmse = 4.23\\nsamples = 5\\nvalue = 24.32'),\n",
       " Text(124.89789184234648, 70.34823529411764, 'X[5] <= 76.5\\nmse = 1.869\\nsamples = 3\\nvalue = 23.033'),\n",
       " Text(123.67039413382219, 57.557647058823534, 'X[1] <= 119.5\\nmse = 0.0\\nsamples = 2\\nvalue = 24.0'),\n",
       " Text(122.4428964252979, 44.767058823529396, 'mse = 0.0\\nsamples = 1\\nvalue = 24.0'),\n",
       " Text(124.89789184234648, 44.767058823529396, 'mse = 0.0\\nsamples = 1\\nvalue = 24.0'),\n",
       " Text(126.12538955087076, 57.557647058823534, 'mse = 0.0\\nsamples = 1\\nvalue = 21.1'),\n",
       " Text(129.80788267644365, 70.34823529411764, 'X[4] <= 13.85\\nmse = 1.562\\nsamples = 2\\nvalue = 26.25'),\n",
       " Text(128.58038496791934, 57.557647058823534, 'mse = 0.0\\nsamples = 1\\nvalue = 25.0'),\n",
       " Text(131.03538038496794, 57.557647058823534, 'mse = 0.0\\nsamples = 1\\nvalue = 27.5'),\n",
       " Text(133.4903758020165, 83.13882352941175, 'X[5] <= 76.0\\nmse = 0.562\\nsamples = 2\\nvalue = 22.25'),\n",
       " Text(132.26287809349222, 70.34823529411764, 'mse = 0.0\\nsamples = 1\\nvalue = 23.0'),\n",
       " Text(134.7178735105408, 70.34823529411764, 'mse = 0.0\\nsamples = 1\\nvalue = 21.5'),\n",
       " Text(147.60659945004585, 159.88235294117646, 'X[1] <= 159.5\\nmse = 4.71\\nsamples = 14\\nvalue = 19.95'),\n",
       " Text(142.6966086159487, 147.09176470588235, 'X[2] <= 100.0\\nmse = 2.96\\nsamples = 11\\nvalue = 20.736'),\n",
       " Text(137.78661778185153, 134.30117647058825, 'X[3] <= 2968.0\\nmse = 2.333\\nsamples = 6\\nvalue = 21.8'),\n",
       " Text(135.33162236480294, 121.51058823529411, 'X[2] <= 92.5\\nmse = 0.57\\nsamples = 4\\nvalue = 22.7'),\n",
       " Text(134.10412465627866, 108.72, 'X[3] <= 2906.0\\nmse = 0.16\\nsamples = 2\\nvalue = 23.4'),\n",
       " Text(132.87662694775437, 95.92941176470588, 'mse = 0.0\\nsamples = 1\\nvalue = 23.8'),\n",
       " Text(135.33162236480294, 95.92941176470588, 'mse = 0.0\\nsamples = 1\\nvalue = 23.0'),\n",
       " Text(136.55912007332722, 108.72, 'mse = 0.0\\nsamples = 2\\nvalue = 22.0'),\n",
       " Text(140.2416131989001, 121.51058823529411, 'X[5] <= 74.0\\nmse = 1.0\\nsamples = 2\\nvalue = 20.0'),\n",
       " Text(139.01411549037581, 108.72, 'mse = 0.0\\nsamples = 1\\nvalue = 21.0'),\n",
       " Text(141.46911090742438, 108.72, 'mse = 0.0\\nsamples = 1\\nvalue = 19.0'),\n",
       " Text(147.60659945004585, 134.30117647058825, 'X[1] <= 125.5\\nmse = 0.726\\nsamples = 5\\nvalue = 19.46'),\n",
       " Text(145.15160403299726, 121.51058823529411, 'X[4] <= 15.0\\nmse = 0.25\\nsamples = 2\\nvalue = 18.5'),\n",
       " Text(143.92410632447297, 108.72, 'mse = 0.0\\nsamples = 1\\nvalue = 18.0'),\n",
       " Text(146.37910174152154, 108.72, 'mse = 0.0\\nsamples = 1\\nvalue = 19.0'),\n",
       " Text(150.0615948670944, 121.51058823529411, 'X[5] <= 77.0\\nmse = 0.02\\nsamples = 3\\nvalue = 20.1'),\n",
       " Text(148.83409715857013, 108.72, 'mse = 0.0\\nsamples = 2\\nvalue = 20.0'),\n",
       " Text(151.28909257561872, 108.72, 'mse = 0.0\\nsamples = 1\\nvalue = 20.3'),\n",
       " Text(152.516590284143, 147.09176470588235, 'X[2] <= 111.0\\nmse = 0.542\\nsamples = 3\\nvalue = 17.067'),\n",
       " Text(151.28909257561872, 134.30117647058825, 'mse = 0.0\\nsamples = 1\\nvalue = 18.0'),\n",
       " Text(153.7440879926673, 134.30117647058825, 'X[2] <= 129.0\\nmse = 0.16\\nsamples = 2\\nvalue = 16.6'),\n",
       " Text(152.516590284143, 121.51058823529411, 'mse = 0.0\\nsamples = 1\\nvalue = 17.0'),\n",
       " Text(154.97158570119157, 121.51058823529411, 'mse = -0.0\\nsamples = 1\\nvalue = 16.2'),\n",
       " Text(180.74903758020167, 172.6729411764706, 'X[3] <= 2580.0\\nmse = 18.559\\nsamples = 48\\nvalue = 29.888'),\n",
       " Text(166.9396883593034, 159.88235294117646, 'X[2] <= 96.0\\nmse = 13.737\\nsamples = 20\\nvalue = 33.33'),\n",
       " Text(165.71219065077912, 147.09176470588235, 'X[4] <= 15.5\\nmse = 9.322\\nsamples = 19\\nvalue = 33.837'),\n",
       " Text(161.72282309807517, 134.30117647058825, 'X[4] <= 14.45\\nmse = 7.558\\nsamples = 13\\nvalue = 34.946'),\n",
       " Text(157.42658111824016, 121.51058823529411, 'X[4] <= 12.95\\nmse = 3.968\\nsamples = 7\\nvalue = 33.257'),\n",
       " Text(154.97158570119157, 108.72, 'X[4] <= 12.25\\nmse = 1.0\\nsamples = 2\\nvalue = 31.0'),\n",
       " Text(153.7440879926673, 95.92941176470588, 'mse = 0.0\\nsamples = 1\\nvalue = 32.0'),\n",
       " Text(156.19908340971588, 95.92941176470588, 'mse = 0.0\\nsamples = 1\\nvalue = 30.0'),\n",
       " Text(159.88157653528873, 108.72, 'X[2] <= 73.0\\nmse = 2.302\\nsamples = 5\\nvalue = 34.16'),\n",
       " Text(158.65407882676445, 95.92941176470588, 'mse = 0.0\\nsamples = 1\\nvalue = 31.9'),\n",
       " Text(161.10907424381304, 95.92941176470588, 'X[5] <= 81.5\\nmse = 1.282\\nsamples = 4\\nvalue = 34.725'),\n",
       " Text(159.88157653528873, 83.13882352941175, 'X[3] <= 2062.5\\nmse = 0.987\\nsamples = 3\\nvalue = 34.3'),\n",
       " Text(158.65407882676445, 70.34823529411764, 'mse = 0.0\\nsamples = 1\\nvalue = 35.7'),\n",
       " Text(161.10907424381304, 70.34823529411764, 'X[1] <= 129.0\\nmse = 0.01\\nsamples = 2\\nvalue = 33.6'),\n",
       " Text(159.88157653528873, 57.557647058823534, 'mse = 0.0\\nsamples = 1\\nvalue = 33.7'),\n",
       " Text(162.33657195233732, 57.557647058823534, 'mse = 0.0\\nsamples = 1\\nvalue = 33.5'),\n",
       " Text(162.33657195233732, 83.13882352941175, 'mse = 0.0\\nsamples = 1\\nvalue = 36.0'),\n",
       " Text(166.0190650779102, 121.51058823529411, 'X[1] <= 101.5\\nmse = 4.535\\nsamples = 6\\nvalue = 36.917'),\n",
       " Text(164.7915673693859, 108.72, 'mse = 0.0\\nsamples = 1\\nvalue = 41.5'),\n",
       " Text(167.24656278643448, 108.72, 'X[3] <= 2467.0\\nmse = 0.4\\nsamples = 5\\nvalue = 36.0'),\n",
       " Text(166.0190650779102, 95.92941176470588, 'X[3] <= 2319.5\\nmse = 0.188\\nsamples = 4\\nvalue = 36.25'),\n",
       " Text(164.7915673693859, 83.13882352941175, 'mse = 0.0\\nsamples = 3\\nvalue = 36.0'),\n",
       " Text(167.24656278643448, 83.13882352941175, 'mse = 0.0\\nsamples = 1\\nvalue = 37.0'),\n",
       " Text(168.47406049495876, 95.92941176470588, 'mse = 0.0\\nsamples = 1\\nvalue = 35.0'),\n",
       " Text(169.70155820348305, 134.30117647058825, 'X[4] <= 15.75\\nmse = 4.702\\nsamples = 6\\nvalue = 31.433'),\n",
       " Text(168.47406049495876, 121.51058823529411, 'mse = 0.0\\nsamples = 1\\nvalue = 27.2'),\n",
       " Text(170.92905591200736, 121.51058823529411, 'X[1] <= 102.0\\nmse = 1.342\\nsamples = 5\\nvalue = 32.28'),\n",
       " Text(169.70155820348305, 108.72, 'mse = 0.0\\nsamples = 1\\nvalue = 34.3'),\n",
       " Text(172.15655362053164, 108.72, 'X[3] <= 2446.0\\nmse = 0.402\\nsamples = 4\\nvalue = 31.775'),\n",
       " Text(170.92905591200736, 95.92941176470588, 'mse = 0.0\\nsamples = 2\\nvalue = 32.4'),\n",
       " Text(173.38405132905592, 95.92941176470588, 'X[5] <= 81.0\\nmse = 0.023\\nsamples = 2\\nvalue = 31.15'),\n",
       " Text(172.15655362053164, 83.13882352941175, 'mse = 0.0\\nsamples = 1\\nvalue = 31.3'),\n",
       " Text(174.6115490375802, 83.13882352941175, 'mse = 0.0\\nsamples = 1\\nvalue = 31.0'),\n",
       " Text(168.16718606782769, 147.09176470588235, 'mse = -0.0\\nsamples = 1\\nvalue = 23.7'),\n",
       " Text(194.5583868010999, 159.88235294117646, 'X[3] <= 2722.5\\nmse = 7.491\\nsamples = 28\\nvalue = 27.429'),\n",
       " Text(186.27277726856096, 147.09176470588235, 'X[1] <= 147.5\\nmse = 4.577\\nsamples = 16\\nvalue = 28.631'),\n",
       " Text(178.29404216315308, 134.30117647058825, 'X[4] <= 14.9\\nmse = 4.354\\nsamples = 9\\nvalue = 29.744'),\n",
       " Text(175.83904674610451, 121.51058823529411, 'X[5] <= 81.5\\nmse = 0.202\\nsamples = 2\\nvalue = 32.45'),\n",
       " Text(174.6115490375802, 108.72, 'mse = 0.0\\nsamples = 1\\nvalue = 32.9'),\n",
       " Text(177.0665444546288, 108.72, 'mse = -0.0\\nsamples = 1\\nvalue = 32.0'),\n",
       " Text(180.74903758020167, 121.51058823529411, 'X[2] <= 76.5\\nmse = 2.851\\nsamples = 7\\nvalue = 28.971'),\n",
       " Text(179.52153987167736, 108.72, 'mse = 0.0\\nsamples = 1\\nvalue = 31.6'),\n",
       " Text(181.97653528872596, 108.72, 'X[3] <= 2690.5\\nmse = 1.982\\nsamples = 6\\nvalue = 28.533'),\n",
       " Text(179.52153987167736, 95.92941176470588, 'X[3] <= 2632.5\\nmse = 0.18\\nsamples = 4\\nvalue = 27.6'),\n",
       " Text(178.29404216315308, 83.13882352941175, 'mse = 0.0\\nsamples = 2\\nvalue = 28.0'),\n",
       " Text(180.74903758020167, 83.13882352941175, 'X[5] <= 80.5\\nmse = 0.04\\nsamples = 2\\nvalue = 27.2'),\n",
       " Text(179.52153987167736, 70.34823529411764, 'mse = 0.0\\nsamples = 1\\nvalue = 27.4'),\n",
       " Text(181.97653528872596, 70.34823529411764, 'mse = -0.0\\nsamples = 1\\nvalue = 27.0'),\n",
       " Text(184.43153070577452, 95.92941176470588, 'X[1] <= 126.5\\nmse = 0.36\\nsamples = 2\\nvalue = 30.4'),\n",
       " Text(183.20403299725024, 83.13882352941175, 'mse = 0.0\\nsamples = 1\\nvalue = 31.0'),\n",
       " Text(185.65902841429883, 83.13882352941175, 'mse = 0.0\\nsamples = 1\\nvalue = 29.8'),\n",
       " Text(194.25151237396886, 134.30117647058825, 'X[5] <= 80.5\\nmse = 1.223\\nsamples = 7\\nvalue = 27.2'),\n",
       " Text(191.79651695692027, 121.51058823529411, 'X[3] <= 2689.0\\nmse = 0.56\\nsamples = 4\\nvalue = 28.0'),\n",
       " Text(190.569019248396, 108.72, 'X[1] <= 162.0\\nmse = 0.107\\nsamples = 3\\nvalue = 28.4'),\n",
       " Text(189.3415215398717, 95.92941176470588, 'X[5] <= 79.5\\nmse = 0.04\\nsamples = 2\\nvalue = 28.2'),\n",
       " Text(188.1140238313474, 83.13882352941175, 'mse = 0.0\\nsamples = 1\\nvalue = 28.4'),\n",
       " Text(190.569019248396, 83.13882352941175, 'mse = 0.0\\nsamples = 1\\nvalue = 28.0'),\n",
       " Text(191.79651695692027, 95.92941176470588, 'mse = 0.0\\nsamples = 1\\nvalue = 28.8'),\n",
       " Text(193.02401466544455, 108.72, 'mse = -0.0\\nsamples = 1\\nvalue = 26.8'),\n",
       " Text(196.70650779101743, 121.51058823529411, 'X[3] <= 2627.5\\nmse = 0.116\\nsamples = 3\\nvalue = 26.133'),\n",
       " Text(195.47901008249315, 108.72, 'X[4] <= 14.45\\nmse = 0.01\\nsamples = 2\\nvalue = 25.9'),\n",
       " Text(194.25151237396886, 95.92941176470588, 'mse = 0.0\\nsamples = 1\\nvalue = 25.8'),\n",
       " Text(196.70650779101743, 95.92941176470588, 'mse = 0.0\\nsamples = 1\\nvalue = 26.0'),\n",
       " Text(197.9340054995417, 108.72, 'mse = -0.0\\nsamples = 1\\nvalue = 26.6'),\n",
       " Text(202.84399633363887, 147.09176470588235, 'X[4] <= 12.0\\nmse = 6.877\\nsamples = 12\\nvalue = 25.825'),\n",
       " Text(201.6164986251146, 134.30117647058825, 'mse = 0.0\\nsamples = 1\\nvalue = 32.7'),\n",
       " Text(204.07149404216318, 134.30117647058825, 'X[2] <= 87.0\\nmse = 2.815\\nsamples = 11\\nvalue = 25.2'),\n",
       " Text(201.6164986251146, 121.51058823529411, 'X[3] <= 3380.0\\nmse = 1.229\\nsamples = 3\\nvalue = 26.833'),\n",
       " Text(200.3890009165903, 108.72, 'X[1] <= 140.5\\nmse = 0.303\\nsamples = 2\\nvalue = 27.55'),\n",
       " Text(199.16150320806602, 95.92941176470588, 'mse = 0.0\\nsamples = 1\\nvalue = 27.0'),\n",
       " Text(201.6164986251146, 95.92941176470588, 'mse = 0.0\\nsamples = 1\\nvalue = 28.1'),\n",
       " Text(202.84399633363887, 108.72, 'mse = -0.0\\nsamples = 1\\nvalue = 25.4'),\n",
       " Text(206.52648945921175, 121.51058823529411, 'X[5] <= 79.5\\nmse = 2.034\\nsamples = 8\\nvalue = 24.588'),\n",
       " Text(205.29899175068746, 108.72, 'mse = 0.0\\nsamples = 1\\nvalue = 22.3'),\n",
       " Text(207.75398716773603, 108.72, 'X[4] <= 16.85\\nmse = 1.47\\nsamples = 7\\nvalue = 24.914'),\n",
       " Text(205.29899175068746, 95.92941176470588, 'X[1] <= 177.0\\nmse = 0.292\\nsamples = 4\\nvalue = 24.175'),\n",
       " Text(204.07149404216318, 83.13882352941175, 'X[1] <= 159.5\\nmse = 0.087\\nsamples = 3\\nvalue = 23.9'),\n",
       " Text(202.84399633363887, 70.34823529411764, 'X[4] <= 15.1\\nmse = 0.01\\nsamples = 2\\nvalue = 24.1'),\n",
       " Text(201.6164986251146, 57.557647058823534, 'mse = 0.0\\nsamples = 1\\nvalue = 24.2'),\n",
       " Text(204.07149404216318, 57.557647058823534, 'mse = -0.0\\nsamples = 1\\nvalue = 24.0'),\n",
       " Text(205.29899175068746, 70.34823529411764, 'mse = 0.0\\nsamples = 1\\nvalue = 23.5'),\n",
       " Text(206.52648945921175, 83.13882352941175, 'mse = 0.0\\nsamples = 1\\nvalue = 25.0'),\n",
       " Text(210.20898258478462, 95.92941176470588, 'X[3] <= 2976.5\\nmse = 1.34\\nsamples = 3\\nvalue = 25.9'),\n",
       " Text(208.98148487626034, 83.13882352941175, 'X[1] <= 145.5\\nmse = 0.09\\nsamples = 2\\nvalue = 26.7'),\n",
       " Text(207.75398716773603, 70.34823529411764, 'mse = 0.0\\nsamples = 1\\nvalue = 26.4'),\n",
       " Text(210.20898258478462, 70.34823529411764, 'mse = 0.0\\nsamples = 1\\nvalue = 27.0'),\n",
       " Text(211.4364802933089, 83.13882352941175, 'mse = -0.0\\nsamples = 1\\nvalue = 24.3'),\n",
       " Text(278.72828826764436, 198.25411764705882, 'X[2] <= 127.0\\nmse = 14.58\\nsamples = 132\\nvalue = 16.639'),\n",
       " Text(247.93535747021085, 185.4635294117647, 'X[5] <= 81.5\\nmse = 12.26\\nsamples = 58\\nvalue = 19.484'),\n",
       " Text(238.32635197066912, 172.6729411764706, 'X[5] <= 75.5\\nmse = 6.322\\nsamples = 56\\nvalue = 19.109'),\n",
       " Text(222.79083409715858, 159.88235294117646, 'X[4] <= 16.75\\nmse = 4.281\\nsamples = 28\\nvalue = 17.929'),\n",
       " Text(217.57396883593034, 147.09176470588235, 'X[1] <= 198.5\\nmse = 2.681\\nsamples = 19\\nvalue = 18.947'),\n",
       " Text(214.50522456461962, 134.30117647058825, 'X[5] <= 71.5\\nmse = 0.25\\nsamples = 2\\nvalue = 22.5'),\n",
       " Text(213.27772685609534, 121.51058823529411, 'mse = 0.0\\nsamples = 1\\nvalue = 22.0'),\n",
       " Text(215.73272227314393, 121.51058823529411, 'mse = 0.0\\nsamples = 1\\nvalue = 23.0'),\n",
       " Text(220.6427131072411, 134.30117647058825, 'X[3] <= 3315.5\\nmse = 1.308\\nsamples = 17\\nvalue = 18.529'),\n",
       " Text(218.1877176901925, 121.51058823529411, 'X[2] <= 86.5\\nmse = 0.827\\nsamples = 15\\nvalue = 18.8'),\n",
       " Text(216.96021998166822, 108.72, 'mse = 0.0\\nsamples = 1\\nvalue = 21.0'),\n",
       " Text(219.41521539871678, 108.72, 'X[5] <= 73.5\\nmse = 0.515\\nsamples = 14\\nvalue = 18.643'),\n",
       " Text(216.34647112740606, 95.92941176470588, 'X[3] <= 3210.5\\nmse = 0.21\\nsamples = 10\\nvalue = 18.3'),\n",
       " Text(213.8914757103575, 83.13882352941175, 'X[3] <= 2704.0\\nmse = 0.122\\nsamples = 7\\nvalue = 18.143'),\n",
       " Text(212.6639780018332, 70.34823529411764, 'mse = 0.0\\nsamples = 1\\nvalue = 19.0'),\n",
       " Text(215.11897341888178, 70.34823529411764, 'mse = 0.0\\nsamples = 6\\nvalue = 18.0'),\n",
       " Text(218.80146654445466, 83.13882352941175, 'X[1] <= 241.0\\nmse = 0.222\\nsamples = 3\\nvalue = 18.667'),\n",
       " Text(217.57396883593034, 70.34823529411764, 'mse = 0.0\\nsamples = 1\\nvalue = 18.0'),\n",
       " Text(220.02896425297894, 70.34823529411764, 'mse = 0.0\\nsamples = 2\\nvalue = 19.0'),\n",
       " Text(222.4839596700275, 95.92941176470588, 'X[5] <= 74.5\\nmse = 0.25\\nsamples = 4\\nvalue = 19.5'),\n",
       " Text(221.25646196150322, 83.13882352941175, 'mse = 0.0\\nsamples = 1\\nvalue = 19.0'),\n",
       " Text(223.7114573785518, 83.13882352941175, 'X[3] <= 3242.5\\nmse = 0.222\\nsamples = 3\\nvalue = 19.667'),\n",
       " Text(222.4839596700275, 70.34823529411764, 'mse = 0.0\\nsamples = 2\\nvalue = 20.0'),\n",
       " Text(224.9389550870761, 70.34823529411764, 'mse = 0.0\\nsamples = 1\\nvalue = 19.0'),\n",
       " Text(223.09770852428966, 121.51058823529411, 'X[3] <= 3384.0\\nmse = 0.25\\nsamples = 2\\nvalue = 16.5'),\n",
       " Text(221.87021081576538, 108.72, 'mse = 0.0\\nsamples = 1\\nvalue = 17.0'),\n",
       " Text(224.32520623281394, 108.72, 'mse = 0.0\\nsamples = 1\\nvalue = 16.0'),\n",
       " Text(228.00769935838682, 147.09176470588235, 'X[1] <= 237.5\\nmse = 0.84\\nsamples = 9\\nvalue = 15.778'),\n",
       " Text(226.78020164986253, 134.30117647058825, 'mse = 0.0\\nsamples = 1\\nvalue = 18.0'),\n",
       " Text(229.2351970669111, 134.30117647058825, 'X[4] <= 18.75\\nmse = 0.25\\nsamples = 8\\nvalue = 15.5'),\n",
       " Text(228.00769935838682, 121.51058823529411, 'X[4] <= 17.5\\nmse = 0.16\\nsamples = 5\\nvalue = 15.8'),\n",
       " Text(226.78020164986253, 108.72, 'X[3] <= 3558.5\\nmse = 0.25\\nsamples = 2\\nvalue = 15.5'),\n",
       " Text(225.55270394133825, 95.92941176470588, 'mse = 0.0\\nsamples = 1\\nvalue = 15.0'),\n",
       " Text(228.00769935838682, 95.92941176470588, 'mse = 0.0\\nsamples = 1\\nvalue = 16.0'),\n",
       " Text(229.2351970669111, 108.72, 'mse = 0.0\\nsamples = 3\\nvalue = 16.0'),\n",
       " Text(230.4626947754354, 121.51058823529411, 'mse = 0.0\\nsamples = 3\\nvalue = 15.0'),\n",
       " Text(253.86186984417967, 159.88235294117646, 'X[1] <= 327.0\\nmse = 5.577\\nsamples = 28\\nvalue = 20.289'),\n",
       " Text(247.801099908341, 147.09176470588235, 'X[3] <= 3447.5\\nmse = 4.071\\nsamples = 26\\nvalue = 19.942'),\n",
       " Text(239.3620531622365, 134.30117647058825, 'X[4] <= 17.4\\nmse = 1.941\\nsamples = 15\\nvalue = 21.26'),\n",
       " Text(234.14518790100826, 121.51058823529411, 'X[4] <= 15.45\\nmse = 0.833\\nsamples = 11\\nvalue = 20.755'),\n",
       " Text(232.91769019248397, 108.72, 'mse = 0.0\\nsamples = 2\\nvalue = 22.0'),\n",
       " Text(235.37268560953257, 108.72, 'X[3] <= 3372.5\\nmse = 0.597\\nsamples = 9\\nvalue = 20.478'),\n",
       " Text(231.07644362969754, 95.92941176470588, 'X[1] <= 228.5\\nmse = 0.158\\nsamples = 5\\nvalue = 20.06'),\n",
       " Text(228.62144821264897, 83.13882352941175, 'X[2] <= 99.0\\nmse = 0.036\\nsamples = 3\\nvalue = 20.333'),\n",
       " Text(227.3939505041247, 70.34823529411764, 'mse = 0.0\\nsamples = 2\\nvalue = 20.2'),\n",
       " Text(229.84894592117325, 70.34823529411764, 'mse = 0.0\\nsamples = 1\\nvalue = 20.6'),\n",
       " Text(233.53143904674613, 83.13882352941175, 'X[0] <= 7.0\\nmse = 0.062\\nsamples = 2\\nvalue = 19.65'),\n",
       " Text(232.30394133822185, 70.34823529411764, 'mse = 0.0\\nsamples = 1\\nvalue = 19.4'),\n",
       " Text(234.7589367552704, 70.34823529411764, 'mse = 0.0\\nsamples = 1\\nvalue = 19.9'),\n",
       " Text(239.66892758936757, 95.92941176470588, 'X[2] <= 107.5\\nmse = 0.655\\nsamples = 4\\nvalue = 21.0'),\n",
       " Text(238.4414298808433, 83.13882352941175, 'X[3] <= 3402.5\\nmse = 0.002\\nsamples = 3\\nvalue = 20.533'),\n",
       " Text(237.213932172319, 70.34823529411764, 'mse = 0.0\\nsamples = 1\\nvalue = 20.6'),\n",
       " Text(239.66892758936757, 70.34823529411764, 'mse = 0.0\\nsamples = 2\\nvalue = 20.5'),\n",
       " Text(240.89642529789185, 83.13882352941175, 'mse = 0.0\\nsamples = 1\\nvalue = 22.4'),\n",
       " Text(244.57891842346473, 121.51058823529411, 'X[2] <= 85.5\\nmse = 2.353\\nsamples = 4\\nvalue = 22.65'),\n",
       " Text(243.35142071494045, 108.72, 'mse = 0.0\\nsamples = 1\\nvalue = 24.0'),\n",
       " Text(245.806416131989, 108.72, 'X[1] <= 246.0\\nmse = 2.327\\nsamples = 3\\nvalue = 22.2'),\n",
       " Text(244.57891842346473, 95.92941176470588, 'X[5] <= 77.5\\nmse = 1.323\\nsamples = 2\\nvalue = 21.35'),\n",
       " Text(243.35142071494045, 83.13882352941175, 'mse = 0.0\\nsamples = 1\\nvalue = 22.5'),\n",
       " Text(245.806416131989, 83.13882352941175, 'mse = -0.0\\nsamples = 1\\nvalue = 20.2'),\n",
       " Text(247.03391384051332, 95.92941176470588, 'mse = 0.0\\nsamples = 1\\nvalue = 23.9'),\n",
       " Text(256.2401466544455, 134.30117647058825, 'X[3] <= 3806.5\\nmse = 1.379\\nsamples = 11\\nvalue = 18.145'),\n",
       " Text(253.17140238313476, 121.51058823529411, 'X[3] <= 3522.5\\nmse = 0.584\\nsamples = 9\\nvalue = 18.567'),\n",
       " Text(250.71640696608617, 108.72, 'X[4] <= 16.5\\nmse = 0.002\\nsamples = 2\\nvalue = 17.55'),\n",
       " Text(249.4889092575619, 95.92941176470588, 'mse = 0.0\\nsamples = 1\\nvalue = 17.5'),\n",
       " Text(251.94390467461048, 95.92941176470588, 'mse = -0.0\\nsamples = 1\\nvalue = 17.6'),\n",
       " Text(255.62639780018333, 108.72, 'X[3] <= 3648.0\\nmse = 0.371\\nsamples = 7\\nvalue = 18.857'),\n",
       " Text(254.39890009165904, 95.92941176470588, 'X[5] <= 77.5\\nmse = 0.179\\nsamples = 6\\nvalue = 18.667'),\n",
       " Text(251.94390467461048, 83.13882352941175, 'X[2] <= 88.0\\nmse = 0.056\\nsamples = 3\\nvalue = 18.333'),\n",
       " Text(250.71640696608617, 70.34823529411764, 'mse = 0.0\\nsamples = 1\\nvalue = 18.0'),\n",
       " Text(253.17140238313476, 70.34823529411764, 'mse = 0.0\\nsamples = 2\\nvalue = 18.5'),\n",
       " Text(256.85389550870764, 83.13882352941175, 'X[1] <= 228.0\\nmse = 0.08\\nsamples = 3\\nvalue = 19.0'),\n",
       " Text(255.62639780018333, 70.34823529411764, 'mse = 0.0\\nsamples = 1\\nvalue = 18.6'),\n",
       " Text(258.0813932172319, 70.34823529411764, 'mse = 0.0\\nsamples = 2\\nvalue = 19.2'),\n",
       " Text(256.85389550870764, 95.92941176470588, 'mse = 0.0\\nsamples = 1\\nvalue = 20.0'),\n",
       " Text(259.3088909257562, 121.51058823529411, 'X[4] <= 16.45\\nmse = 0.562\\nsamples = 2\\nvalue = 16.25'),\n",
       " Text(258.0813932172319, 108.72, 'mse = 0.0\\nsamples = 1\\nvalue = 15.5'),\n",
       " Text(260.5363886342805, 108.72, 'mse = 0.0\\nsamples = 1\\nvalue = 17.0'),\n",
       " Text(259.92263978001836, 147.09176470588235, 'X[5] <= 80.0\\nmse = 3.24\\nsamples = 2\\nvalue = 24.8'),\n",
       " Text(258.69514207149405, 134.30117647058825, 'mse = 0.0\\nsamples = 1\\nvalue = 23.0'),\n",
       " Text(261.15013748854267, 134.30117647058825, 'mse = -0.0\\nsamples = 1\\nvalue = 26.6'),\n",
       " Text(257.54436296975257, 172.6729411764706, 'X[2] <= 98.5\\nmse = 64.0\\nsamples = 2\\nvalue = 30.0'),\n",
       " Text(256.31686526122826, 159.88235294117646, 'mse = 0.0\\nsamples = 1\\nvalue = 38.0'),\n",
       " Text(258.7718606782768, 159.88235294117646, 'mse = 0.0\\nsamples = 1\\nvalue = 22.0'),\n",
       " Text(309.52121906507796, 185.4635294117647, 'X[5] <= 76.5\\nmse = 5.081\\nsamples = 74\\nvalue = 14.409'),\n",
       " Text(293.14179651695696, 172.6729411764706, 'X[2] <= 191.5\\nmse = 3.247\\nsamples = 59\\nvalue = 13.703'),\n",
       " Text(279.71604032997254, 159.88235294117646, 'X[5] <= 70.5\\nmse = 2.404\\nsamples = 51\\nvalue = 14.049'),\n",
       " Text(267.90137488542626, 147.09176470588235, 'X[1] <= 329.0\\nmse = 1.806\\nsamples = 6\\nvalue = 15.833'),\n",
       " Text(265.44637946837764, 134.30117647058825, 'X[4] <= 11.5\\nmse = 0.667\\nsamples = 3\\nvalue = 17.0'),\n",
       " Text(264.2188817598534, 121.51058823529411, 'X[2] <= 145.0\\nmse = 0.25\\nsamples = 2\\nvalue = 17.5'),\n",
       " Text(262.9913840513291, 108.72, 'mse = 0.0\\nsamples = 1\\nvalue = 17.0'),\n",
       " Text(265.44637946837764, 108.72, 'mse = 0.0\\nsamples = 1\\nvalue = 18.0'),\n",
       " Text(266.67387717690195, 121.51058823529411, 'mse = 0.0\\nsamples = 1\\nvalue = 16.0'),\n",
       " Text(270.35637030247483, 134.30117647058825, 'X[1] <= 345.0\\nmse = 0.222\\nsamples = 3\\nvalue = 14.667'),\n",
       " Text(269.1288725939505, 121.51058823529411, 'mse = 0.0\\nsamples = 1\\nvalue = 14.0'),\n",
       " Text(271.5838680109991, 121.51058823529411, 'mse = 0.0\\nsamples = 2\\nvalue = 15.0'),\n",
       " Text(291.5307057745188, 147.09176470588235, 'X[3] <= 4683.5\\nmse = 2.003\\nsamples = 45\\nvalue = 13.811'),\n",
       " Text(282.6313473877177, 134.30117647058825, 'X[5] <= 73.5\\nmse = 1.838\\nsamples = 39\\nvalue = 14.038'),\n",
       " Text(274.0388634280477, 121.51058823529411, 'X[1] <= 334.0\\nmse = 1.429\\nsamples = 23\\nvalue = 13.696'),\n",
       " Text(270.970119156737, 108.72, 'X[4] <= 13.75\\nmse = 1.157\\nsamples = 11\\nvalue = 14.455'),\n",
       " Text(268.51512373968836, 95.92941176470588, 'X[5] <= 71.5\\nmse = 0.857\\nsamples = 7\\nvalue = 15.0'),\n",
       " Text(267.2876260311641, 83.13882352941175, 'mse = 0.0\\nsamples = 1\\nvalue = 14.0'),\n",
       " Text(269.7426214482127, 83.13882352941175, 'X[5] <= 72.5\\nmse = 0.806\\nsamples = 6\\nvalue = 15.167'),\n",
       " Text(267.2876260311641, 70.34823529411764, 'X[4] <= 12.0\\nmse = 0.889\\nsamples = 3\\nvalue = 15.667'),\n",
       " Text(266.0601283226398, 57.557647058823534, 'mse = 0.0\\nsamples = 1\\nvalue = 17.0'),\n",
       " Text(268.51512373968836, 57.557647058823534, 'mse = 0.0\\nsamples = 2\\nvalue = 15.0'),\n",
       " Text(272.19761686526124, 70.34823529411764, 'X[1] <= 311.0\\nmse = 0.222\\nsamples = 3\\nvalue = 14.667'),\n",
       " Text(270.970119156737, 57.557647058823534, 'mse = 0.0\\nsamples = 1\\nvalue = 14.0'),\n",
       " Text(273.42511457378555, 57.557647058823534, 'mse = 0.0\\nsamples = 2\\nvalue = 15.0'),\n",
       " Text(273.42511457378555, 95.92941176470588, 'X[3] <= 4087.5\\nmse = 0.25\\nsamples = 4\\nvalue = 13.5'),\n",
       " Text(272.19761686526124, 83.13882352941175, 'mse = 0.0\\nsamples = 2\\nvalue = 14.0'),\n",
       " Text(274.6526122823098, 83.13882352941175, 'mse = 0.0\\nsamples = 2\\nvalue = 13.0'),\n",
       " Text(277.1076076993584, 108.72, 'X[3] <= 3742.5\\nmse = 0.667\\nsamples = 12\\nvalue = 13.0'),\n",
       " Text(275.8801099908341, 95.92941176470588, 'mse = 0.0\\nsamples = 1\\nvalue = 11.0'),\n",
       " Text(278.3351054078827, 95.92941176470588, 'X[5] <= 71.5\\nmse = 0.331\\nsamples = 11\\nvalue = 13.182'),\n",
       " Text(277.1076076993584, 83.13882352941175, 'mse = 0.0\\nsamples = 2\\nvalue = 14.0'),\n",
       " Text(279.562603116407, 83.13882352941175, 'X[2] <= 177.5\\nmse = 0.222\\nsamples = 9\\nvalue = 13.0'),\n",
       " Text(277.1076076993584, 70.34823529411764, 'X[1] <= 380.0\\nmse = 0.122\\nsamples = 7\\nvalue = 13.143'),\n",
       " Text(275.8801099908341, 57.557647058823534, 'mse = 0.0\\nsamples = 5\\nvalue = 13.0'),\n",
       " Text(278.3351054078827, 57.557647058823534, 'X[2] <= 162.5\\nmse = 0.25\\nsamples = 2\\nvalue = 13.5'),\n",
       " Text(277.1076076993584, 44.767058823529396, 'mse = 0.0\\nsamples = 1\\nvalue = 13.0'),\n",
       " Text(279.562603116407, 44.767058823529396, 'mse = 0.0\\nsamples = 1\\nvalue = 14.0'),\n",
       " Text(282.01759853345555, 70.34823529411764, 'X[2] <= 185.0\\nmse = 0.25\\nsamples = 2\\nvalue = 12.5'),\n",
       " Text(280.7901008249313, 57.557647058823534, 'mse = 0.0\\nsamples = 1\\nvalue = 12.0'),\n",
       " Text(283.24509624197987, 57.557647058823534, 'mse = 0.0\\nsamples = 1\\nvalue = 13.0'),\n",
       " Text(291.2238313473877, 121.51058823529411, 'X[3] <= 4098.0\\nmse = 2.015\\nsamples = 16\\nvalue = 14.531'),\n",
       " Text(289.99633363886346, 108.72, 'mse = 0.0\\nsamples = 5\\nvalue = 13.0'),\n",
       " Text(292.451329055912, 108.72, 'X[4] <= 13.25\\nmse = 1.38\\nsamples = 11\\nvalue = 15.227'),\n",
       " Text(288.155087076077, 95.92941176470588, 'X[2] <= 145.0\\nmse = 0.94\\nsamples = 5\\nvalue = 16.1'),\n",
       " Text(286.92758936755274, 83.13882352941175, 'mse = 0.0\\nsamples = 1\\nvalue = 17.5'),\n",
       " Text(289.3825847846013, 83.13882352941175, 'X[1] <= 350.5\\nmse = 0.562\\nsamples = 4\\nvalue = 15.75'),\n",
       " Text(286.92758936755274, 70.34823529411764, 'X[1] <= 334.0\\nmse = 0.062\\nsamples = 2\\nvalue = 16.25'),\n",
       " Text(285.70009165902843, 57.557647058823534, 'mse = 0.0\\nsamples = 1\\nvalue = 16.0'),\n",
       " Text(288.155087076077, 57.557647058823534, 'mse = 0.0\\nsamples = 1\\nvalue = 16.5'),\n",
       " Text(291.83758020164987, 70.34823529411764, 'X[5] <= 75.5\\nmse = 0.562\\nsamples = 2\\nvalue = 15.25'),\n",
       " Text(290.6100824931256, 57.557647058823534, 'mse = 0.0\\nsamples = 1\\nvalue = 16.0'),\n",
       " Text(293.0650779101742, 57.557647058823534, 'mse = 0.0\\nsamples = 1\\nvalue = 14.5'),\n",
       " Text(296.74757103574706, 95.92941176470588, 'X[3] <= 4199.0\\nmse = 0.583\\nsamples = 6\\nvalue = 14.5'),\n",
       " Text(295.52007332722275, 83.13882352941175, 'mse = 0.0\\nsamples = 1\\nvalue = 16.0'),\n",
       " Text(297.9750687442713, 83.13882352941175, 'X[2] <= 146.5\\nmse = 0.16\\nsamples = 5\\nvalue = 14.2'),\n",
       " Text(296.74757103574706, 70.34823529411764, 'X[3] <= 4539.0\\nmse = 0.25\\nsamples = 2\\nvalue = 14.5'),\n",
       " Text(295.52007332722275, 57.557647058823534, 'mse = 0.0\\nsamples = 1\\nvalue = 15.0'),\n",
       " Text(297.9750687442713, 57.557647058823534, 'mse = 0.0\\nsamples = 1\\nvalue = 14.0'),\n",
       " Text(299.2025664527956, 70.34823529411764, 'mse = 0.0\\nsamples = 3\\nvalue = 14.0'),\n",
       " Text(300.43006416131993, 134.30117647058825, 'X[3] <= 4826.0\\nmse = 0.556\\nsamples = 6\\nvalue = 12.333'),\n",
       " Text(299.2025664527956, 121.51058823529411, 'mse = 0.0\\nsamples = 2\\nvalue = 13.0'),\n",
       " Text(301.6575618698442, 121.51058823529411, 'X[3] <= 5068.5\\nmse = 0.5\\nsamples = 4\\nvalue = 12.0'),\n",
       " Text(300.43006416131993, 108.72, 'X[4] <= 13.25\\nmse = 0.222\\nsamples = 3\\nvalue = 11.667'),\n",
       " Text(299.2025664527956, 95.92941176470588, 'mse = 0.0\\nsamples = 2\\nvalue = 12.0'),\n",
       " Text(301.6575618698442, 95.92941176470588, 'mse = 0.0\\nsamples = 1\\nvalue = 11.0'),\n",
       " Text(302.8850595783685, 108.72, 'mse = 0.0\\nsamples = 1\\nvalue = 13.0'),\n",
       " Text(306.5675527039414, 159.88235294117646, 'X[4] <= 12.5\\nmse = 3.0\\nsamples = 8\\nvalue = 11.5'),\n",
       " Text(304.1125572868928, 147.09176470588235, 'X[5] <= 71.5\\nmse = 1.0\\nsamples = 4\\nvalue = 13.0'),\n",
       " Text(302.8850595783685, 134.30117647058825, 'mse = 0.0\\nsamples = 2\\nvalue = 14.0'),\n",
       " Text(305.34005499541706, 134.30117647058825, 'mse = 0.0\\nsamples = 2\\nvalue = 12.0'),\n",
       " Text(309.02254812098994, 147.09176470588235, 'X[1] <= 305.5\\nmse = 0.5\\nsamples = 4\\nvalue = 10.0'),\n",
       " Text(307.7950504124656, 134.30117647058825, 'mse = 0.0\\nsamples = 1\\nvalue = 9.0'),\n",
       " Text(310.25004582951425, 134.30117647058825, 'X[4] <= 13.75\\nmse = 0.222\\nsamples = 3\\nvalue = 10.333'),\n",
       " Text(309.02254812098994, 121.51058823529411, 'mse = 0.0\\nsamples = 1\\nvalue = 11.0'),\n",
       " Text(311.4775435380385, 121.51058823529411, 'mse = 0.0\\nsamples = 2\\nvalue = 10.0'),\n",
       " Text(325.9006416131989, 172.6729411764706, 'X[3] <= 3947.5\\nmse = 2.624\\nsamples = 15\\nvalue = 17.187'),\n",
       " Text(321.911274060495, 159.88235294117646, 'X[4] <= 13.3\\nmse = 0.84\\nsamples = 8\\nvalue = 18.538'),\n",
       " Text(317.61503208065994, 147.09176470588235, 'X[3] <= 3807.5\\nmse = 0.826\\nsamples = 5\\nvalue = 18.96'),\n",
       " Text(315.1600366636114, 134.30117647058825, 'X[1] <= 303.5\\nmse = 0.187\\nsamples = 3\\nvalue = 19.6'),\n",
       " Text(313.9325389550871, 121.51058823529411, 'mse = 0.0\\nsamples = 1\\nvalue = 20.2'),\n",
       " Text(316.3875343721357, 121.51058823529411, 'X[1] <= 311.5\\nmse = 0.01\\nsamples = 2\\nvalue = 19.3'),\n",
       " Text(315.1600366636114, 108.72, 'mse = 0.0\\nsamples = 1\\nvalue = 19.2'),\n",
       " Text(317.61503208065994, 108.72, 'mse = 0.0\\nsamples = 1\\nvalue = 19.4'),\n",
       " Text(320.07002749770857, 134.30117647058825, 'X[2] <= 147.5\\nmse = 0.25\\nsamples = 2\\nvalue = 18.0'),\n",
       " Text(318.84252978918425, 121.51058823529411, 'mse = 0.0\\nsamples = 1\\nvalue = 17.5'),\n",
       " Text(321.2975252062328, 121.51058823529411, 'mse = 0.0\\nsamples = 1\\nvalue = 18.5'),\n",
       " Text(326.20751604033, 147.09176470588235, 'X[3] <= 3777.5\\nmse = 0.069\\nsamples = 3\\nvalue = 17.833'),\n",
       " Text(324.9800183318057, 134.30117647058825, 'X[1] <= 266.5\\nmse = 0.003\\nsamples = 2\\nvalue = 17.65'),\n",
       " Text(323.75252062328144, 121.51058823529411, 'mse = 0.0\\nsamples = 1\\nvalue = 17.7'),\n",
       " Text(326.20751604033, 121.51058823529411, 'mse = 0.0\\nsamples = 1\\nvalue = 17.6'),\n",
       " Text(327.4350137488543, 134.30117647058825, 'mse = -0.0\\nsamples = 1\\nvalue = 18.2'),\n",
       " Text(329.8900091659029, 159.88235294117646, 'X[3] <= 4004.5\\nmse = 0.194\\nsamples = 7\\nvalue = 15.643'),\n",
       " Text(328.66251145737857, 147.09176470588235, 'mse = 0.0\\nsamples = 1\\nvalue = 16.5'),\n",
       " Text(331.11750687442714, 147.09176470588235, 'X[1] <= 310.0\\nmse = 0.083\\nsamples = 6\\nvalue = 15.5'),\n",
       " Text(329.8900091659029, 134.30117647058825, 'mse = 0.0\\nsamples = 1\\nvalue = 15.0'),\n",
       " Text(332.34500458295145, 134.30117647058825, 'X[4] <= 11.25\\nmse = 0.04\\nsamples = 5\\nvalue = 15.6'),\n",
       " Text(331.11750687442714, 121.51058823529411, 'mse = 0.0\\nsamples = 1\\nvalue = 16.0'),\n",
       " Text(333.57250229147576, 121.51058823529411, 'mse = 0.0\\nsamples = 4\\nvalue = 15.5')]"
      ]
     },
     "execution_count": 45,
     "metadata": {},
     "output_type": "execute_result"
    },
    {
     "data": {
      "image/png": "[encoded data removed]",
      "text/plain": [
       "<Figure size 432x288 with 1 Axes>"
      ]
     },
     "metadata": {
      "needs_background": "light"
     },
     "output_type": "display_data"
    }
   ],
   "source": [
    "plot_tree(dtree)"
   ]
  },
  {
   "cell_type": "code",
   "execution_count": 46,
   "metadata": {},
   "outputs": [],
   "source": [
    "import matplotlib.pyplot as plt"
   ]
  },
  {
   "cell_type": "code",
   "execution_count": 47,
   "metadata": {},
   "outputs": [
    {
     "data": {
      "text/plain": [
       "<function matplotlib.pyplot.show(*args, **kw)>"
      ]
     },
     "execution_count": 47,
     "metadata": {},
     "output_type": "execute_result"
    },
    {
     "data": {
      "image/png": "[encoded data removed]",
      "text/plain": [
       "<Figure size 432x288 with 1 Axes>"
      ]
     },
     "metadata": {
      "needs_background": "light"
     },
     "output_type": "display_data"
    }
   ],
   "source": [
    "plot_tree(dtree)\n",
    "plt.show"
   ]
  },
  {
   "cell_type": "code",
   "execution_count": 48,
   "metadata": {},
   "outputs": [],
   "source": [
    "from sklearn.tree import export_graphviz\n",
    "export_graphviz(dtree.fit(X_train, y_train), filled=True, rounded=True, out_file='tree.dot')"
   ]
  },
  {
   "cell_type": "code",
   "execution_count": 49,
   "metadata": {
    "scrolled": true
   },
   "outputs": [
    {
     "name": "stdout",
     "output_type": "stream",
     "text": [
      "Requirement already satisfied: graphviz in c:\\users\\ppaau\\appdata\\local\\programs\\python\\python38-32\\lib\\site-packages (0.14.1)\n",
      "Note: you may need to restart the kernel to use updated packages.\n"
     ]
    },
    {
     "name": "stderr",
     "output_type": "stream",
     "text": [
      "WARNING: You are using pip version 20.1.1; however, version 20.2 is available.\n",
      "You should consider upgrading via the 'C:\\Users\\ppaau\\AppData\\Local\\Programs\\Python\\Python38-32\\python.exe -m pip install --upgrade pip' command.\n"
     ]
    }
   ],
   "source": [
    "pip install graphviz"
   ]
  },
  {
   "cell_type": "code",
   "execution_count": 50,
   "metadata": {},
   "outputs": [],
   "source": [
    "from graphviz import Digraph\n",
    "dot = export_graphviz(dtree.fit(X_train, y_train), filled=True, rounded=True, out_file='tree.dot')\n"
   ]
  },
  {
   "cell_type": "code",
   "execution_count": 57,
   "metadata": {
    "scrolled": true
   },
   "outputs": [],
   "source": [
    "! tree.dot -Tpng -o tree.png"
   ]
  },
  {
   "cell_type": "markdown",
   "metadata": {},
   "source": [
    "# Downgrading the accuracy of our Decision Tree"
   ]
  },
  {
   "cell_type": "code",
   "execution_count": null,
   "metadata": {},
   "outputs": [],
   "source": [
    "# We take back the scaling\n"
   ]
  },
  {
   "cell_type": "markdown",
   "metadata": {},
   "source": [
    "# Bonus Challenge 2 - Backward Elimination \n",
    "\n",
    "The main way to produce a simpler linear regression model is to reduce the number of variables used in the model. In scikit-learn, we can do this by using recursive feature elimination. You can read more about RFE [here](https://scikit-learn.org/stable/modules/generated/sklearn.feature_selection.RFE.html).\n",
    "\n",
    "In the next cell, we will import RFE."
   ]
  },
  {
   "cell_type": "code",
   "execution_count": 52,
   "metadata": {},
   "outputs": [],
   "source": [
    "# Libraries\n",
    "from sklearn.feature_selection import RFE"
   ]
  },
  {
   "cell_type": "markdown",
   "metadata": {},
   "source": [
    "Follow the documentation and initialize an RFE model using the `auto_model` linear regression model. Set `n_features_to_select=3`."
   ]
  },
  {
   "cell_type": "code",
   "execution_count": 53,
   "metadata": {},
   "outputs": [],
   "source": [
    "# your code here"
   ]
  },
  {
   "cell_type": "markdown",
   "metadata": {},
   "source": [
    "Fit the model and print the ranking."
   ]
  },
  {
   "cell_type": "code",
   "execution_count": 54,
   "metadata": {},
   "outputs": [],
   "source": [
    "# your code here"
   ]
  },
  {
   "cell_type": "markdown",
   "metadata": {},
   "source": [
    "Feature importance is ranked from most important (1) to least important (4). Generate a model with the three most important features. The features correspond to variable names. For example, feature 1 is `cylinders` and feature 2 is `displacement`.\n",
    "\n",
    "Perform a test-train split on this reduced column data and call the split data `X_train_reduced`, `X_test_reduced`, `y_test_reduced`, `y_train_reduced`. Use an 80% split."
   ]
  },
  {
   "cell_type": "code",
   "execution_count": 55,
   "metadata": {},
   "outputs": [],
   "source": [
    "# your code here"
   ]
  },
  {
   "cell_type": "markdown",
   "metadata": {},
   "source": [
    "Generate a new model called `auto_model_reduced` and fit this model. Then proceed to compute the r squared score for the model. Did this cause an improvement in the r squared score?"
   ]
  },
  {
   "cell_type": "code",
   "execution_count": 56,
   "metadata": {},
   "outputs": [],
   "source": [
    "# your code here"
   ]
  },
  {
   "cell_type": "markdown",
   "metadata": {},
   "source": [
    "#### Conclusion\n",
    "\n",
    "You may obtain the impression from this lab that without knowing statistical methods in depth, it is difficult to make major progress in machine learning. That is correct. If you are motivated to become a data scientist, statistics is the subject you must be proficient in and there is no shortcut. \n",
    "\n",
    "Completing these labs is not likely to make you a data scientist. But you will have a good sense about what are there in machine learning and what are good for you. In your future career, you can choose one of the three tracks:\n",
    "\n",
    "* Data scientists who need to be proficient in statistical methods.\n",
    "\n",
    "* Data engineers who need to be good at programming.\n",
    "\n",
    "* Data integration specialists who are business or content experts but also understand data and programming. This cross-disciplinary track brings together data, technology, and business and will be in high demands in the next decade."
   ]
  }
 ],
 "metadata": {
  "kernelspec": {
   "display_name": "Python 3",
   "language": "python",
   "name": "python3"
  }
 },
 "nbformat": 4,
 "nbformat_minor": 2
}
