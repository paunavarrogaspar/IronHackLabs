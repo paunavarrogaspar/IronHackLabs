{
 "cells": [
  {
   "cell_type": "markdown",
   "metadata": {},
   "source": [
    "# Describing my favorite vacations!\n",
    "\n",
    "> This notebook will be used to descrive **my favorite vacation destination**!"
   ]
  },
  {
   "cell_type": "markdown",
   "metadata": {},
   "source": [
    "1. [Quick Presentation](#Quick-Presentation)\n",
    "2. [Picture of me](#Picture-of-me)\n",
    "3. [Top 3 things](#Top-3-things)\n",
    "4. [Youtube video](#Youtube-video)"
   ]
  },
  {
   "cell_type": "markdown",
   "metadata": {},
   "source": [
    "<a id=\"Quick-Presentation\"></a>\n",
    "I am <font color=blue>Pau.</font> I am a <font color=red>22 year old</font> guy from Barcelona who **loves to travel**. If I had to choose a favorite place to go on holiday it would be *Menorca*, as I have been there many times and I think it is one of the most beautiful destinations in Spain."
   ]
  },
  {
   "cell_type": "markdown",
   "metadata": {},
   "source": [
    "![title](http://localhost:8888/view/Desktop/Academic/IronHack/lab-jupyter-notebook/your-code/r10_2x_shutterstock-1131032672.jpg)"
   ]
  },
  {
   "cell_type": "code",
   "execution_count": 5,
   "metadata": {},
   "outputs": [],
   "source": [
    "def ask_name():\n",
    "    name=input(\"What is your name?\")\n",
    "    return name"
   ]
  },
  {
   "cell_type": "code",
   "execution_count": 6,
   "metadata": {},
   "outputs": [],
   "source": [
    "def holiday_destination():\n",
    "    destination=input(\"What is your favorite holiday destination?\")\n",
    "    return destination"
   ]
  },
  {
   "cell_type": "markdown",
   "metadata": {},
   "source": [
    "<a id=\"TOP-3-things\"></a>\n",
    "# TOP 3 things of Menorca\n",
    "\n",
    "- The beaches\n",
    "- The seafood\n",
    "- The weird talking people"
   ]
  },
  {
   "cell_type": "markdown",
   "metadata": {},
   "source": [
    "<a id=\"Youtube-video\"></a>\n",
    "### Quick destination tour in the following link!\n",
    "[Check out the 20 MUST of Menorca!](https://www.youtube.com/watch?v=1r7m6g7_wDk)"
   ]
  }
 ],
 "metadata": {
  "kernelspec": {
   "display_name": "Python 3",
   "language": "python",
   "name": "python3"
  },
  "language_info": {
   "codemirror_mode": {
    "name": "ipython",
    "version": 3
   },
   "file_extension": ".py",
   "mimetype": "text/x-python",
   "name": "python",
   "nbconvert_exporter": "python",
   "pygments_lexer": "ipython3",
   "version": "3.8.3"
  }
 },
 "nbformat": 4,
 "nbformat_minor": 4
}
